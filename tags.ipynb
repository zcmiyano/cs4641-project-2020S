{
 "cells": [
  {
   "cell_type": "markdown",
   "metadata": {
    "ExecuteTime": {
     "end_time": "2019-06-20T17:17:25.168179Z",
     "start_time": "2019-06-20T17:17:24.986130Z"
    },
    "colab_type": "text",
    "id": "Hjp__3bRh42K",
    "run_control": {
     "frozen": false,
     "read_only": false
    }
   },
   "source": [
    "# Spring 2020 CS4641 Project\n"
   ]
  },
  {
   "cell_type": "markdown",
   "metadata": {
    "colab_type": "text",
    "id": "3akj-Wgji85Z",
    "run_control": {
     "frozen": false,
     "read_only": false
    }
   },
   "source": [
    "### Environment Setup"
   ]
  },
  {
   "cell_type": "code",
   "execution_count": 3,
   "metadata": {
    "ExecuteTime": {
     "end_time": "2019-06-22T17:18:34.536577Z",
     "start_time": "2019-06-22T17:18:34.485825Z"
    },
    "colab": {},
    "colab_type": "code",
    "id": "XMefd5nTi4Zv",
    "run_control": {
     "frozen": false,
     "read_only": false
    }
   },
   "outputs": [],
   "source": [
    "import os\n",
    "from scipy import ndimage, misc\n",
    "from matplotlib import pyplot as plt\n",
    "import numpy as np\n",
    "import pandas as pd\n",
    "%matplotlib inline"
   ]
  },
  {
   "cell_type": "code",
   "execution_count": 4,
   "metadata": {},
   "outputs": [
    {
     "output_type": "error",
     "ename": "MemoryError",
     "evalue": "",
     "traceback": [
      "\u001b[1;31m---------------------------------------------------------------------------\u001b[0m",
      "\u001b[1;31mMemoryError\u001b[0m                               Traceback (most recent call last)",
      "\u001b[1;32m<ipython-input-4-96568d1ad005>\u001b[0m in \u001b[0;36m<module>\u001b[1;34m\u001b[0m\n\u001b[1;32m----> 1\u001b[1;33m \u001b[0mdf\u001b[0m \u001b[1;33m=\u001b[0m \u001b[0mpd\u001b[0m\u001b[1;33m.\u001b[0m\u001b[0mread_pickle\u001b[0m\u001b[1;33m(\u001b[0m\u001b[1;34m'dataframe_with_vector_compressed.pkl'\u001b[0m\u001b[1;33m,\u001b[0m \u001b[0mcompression\u001b[0m\u001b[1;33m=\u001b[0m\u001b[1;34m'zip'\u001b[0m\u001b[1;33m)\u001b[0m\u001b[1;33m\u001b[0m\u001b[1;33m\u001b[0m\u001b[0m\n\u001b[0m",
      "\u001b[1;32mc:\\Users\\daneo\\GitHub\\cs4641-project\\venv\\lib\\site-packages\\pandas\\io\\pickle.py\u001b[0m in \u001b[0;36mread_pickle\u001b[1;34m(filepath_or_buffer, compression)\u001b[0m\n\u001b[0;32m    180\u001b[0m                 \u001b[1;31m# We want to silence any warnings about, e.g. moved modules.\u001b[0m\u001b[1;33m\u001b[0m\u001b[1;33m\u001b[0m\u001b[1;33m\u001b[0m\u001b[0m\n\u001b[0;32m    181\u001b[0m                 \u001b[0mwarnings\u001b[0m\u001b[1;33m.\u001b[0m\u001b[0msimplefilter\u001b[0m\u001b[1;33m(\u001b[0m\u001b[1;34m\"ignore\"\u001b[0m\u001b[1;33m,\u001b[0m \u001b[0mWarning\u001b[0m\u001b[1;33m)\u001b[0m\u001b[1;33m\u001b[0m\u001b[1;33m\u001b[0m\u001b[0m\n\u001b[1;32m--> 182\u001b[1;33m                 \u001b[1;32mreturn\u001b[0m \u001b[0mpickle\u001b[0m\u001b[1;33m.\u001b[0m\u001b[0mload\u001b[0m\u001b[1;33m(\u001b[0m\u001b[0mf\u001b[0m\u001b[1;33m)\u001b[0m\u001b[1;33m\u001b[0m\u001b[1;33m\u001b[0m\u001b[0m\n\u001b[0m\u001b[0;32m    183\u001b[0m         \u001b[1;32mexcept\u001b[0m \u001b[0mexcs_to_catch\u001b[0m\u001b[1;33m:\u001b[0m\u001b[1;33m\u001b[0m\u001b[1;33m\u001b[0m\u001b[0m\n\u001b[0;32m    184\u001b[0m             \u001b[1;31m# e.g.\u001b[0m\u001b[1;33m\u001b[0m\u001b[1;33m\u001b[0m\u001b[1;33m\u001b[0m\u001b[0m\n",
      "\u001b[1;31mMemoryError\u001b[0m: "
     ]
    }
   ],
   "source": [
    "df = pd.read_pickle('dataframe_with_vector_compressed.pkl', compression='zip')"
   ]
  },
  {
   "cell_type": "code",
   "execution_count": 7,
   "metadata": {},
   "outputs": [
    {
     "data": {
      "text/html": [
       "<div>\n",
       "<style scoped>\n",
       "    .dataframe tbody tr th:only-of-type {\n",
       "        vertical-align: middle;\n",
       "    }\n",
       "\n",
       "    .dataframe tbody tr th {\n",
       "        vertical-align: top;\n",
       "    }\n",
       "\n",
       "    .dataframe thead th {\n",
       "        text-align: right;\n",
       "    }\n",
       "</style>\n",
       "<table border=\"1\" class=\"dataframe\">\n",
       "  <thead>\n",
       "    <tr style=\"text-align: right;\">\n",
       "      <th></th>\n",
       "      <th>track_id</th>\n",
       "      <th>artist_name</th>\n",
       "      <th>duration</th>\n",
       "      <th>loudness</th>\n",
       "      <th>tempo</th>\n",
       "      <th>title</th>\n",
       "      <th>year</th>\n",
       "      <th>lyrics</th>\n",
       "      <th>tags</th>\n",
       "      <th>lyrics_vector</th>\n",
       "    </tr>\n",
       "  </thead>\n",
       "  <tbody>\n",
       "    <tr>\n",
       "      <th>0</th>\n",
       "      <td>TRMMMKI128F931D80D</td>\n",
       "      <td>Lena Philipsson</td>\n",
       "      <td>262.26893</td>\n",
       "      <td>-3.925</td>\n",
       "      <td>122.332</td>\n",
       "      <td>006</td>\n",
       "      <td>1998</td>\n",
       "      <td>1:23,2:5,3:13,4:10,5:4,6:9,7:1,8:4,9:4,10:1,11...</td>\n",
       "      <td>[[swedish, 100], [pop, 100]]</td>\n",
       "      <td>[0, 23, 5, 13, 10, 4, 9, 1, 4, 4, 1, 2, 2, 2, ...</td>\n",
       "    </tr>\n",
       "    <tr>\n",
       "      <th>1</th>\n",
       "      <td>TRMMMUT128F42646E8</td>\n",
       "      <td>Shawn Colvin</td>\n",
       "      <td>216.47628</td>\n",
       "      <td>-14.379</td>\n",
       "      <td>99.214</td>\n",
       "      <td>(Looking For) The Heart Of Saturday</td>\n",
       "      <td>1994</td>\n",
       "      <td>2:36,3:25,4:2,5:8,6:2,7:1,8:6,10:8,12:5,13:19,...</td>\n",
       "      <td>[[cover, 100]]</td>\n",
       "      <td>[0, 0, 36, 25, 2, 8, 2, 1, 6, 0, 8, 0, 5, 19, ...</td>\n",
       "    </tr>\n",
       "    <tr>\n",
       "      <th>2</th>\n",
       "      <td>TRMMMQY128F92F0EA3</td>\n",
       "      <td>Dying Fetus</td>\n",
       "      <td>196.02240</td>\n",
       "      <td>-6.366</td>\n",
       "      <td>189.346</td>\n",
       "      <td>Ethos of Coercion</td>\n",
       "      <td>2009</td>\n",
       "      <td>2:10,3:1,4:2,5:1,9:1,10:1,13:9,14:2,18:1,21:1,...</td>\n",
       "      <td>[[Technical Death Metal, 100], [Brutal Death M...</td>\n",
       "      <td>[0, 0, 10, 1, 2, 1, 0, 0, 0, 1, 1, 0, 0, 9, 2,...</td>\n",
       "    </tr>\n",
       "    <tr>\n",
       "      <th>3</th>\n",
       "      <td>TRMMMTK128F424EF7C</td>\n",
       "      <td>Emery</td>\n",
       "      <td>217.57342</td>\n",
       "      <td>-4.867</td>\n",
       "      <td>88.423</td>\n",
       "      <td>Rock-N-Rule</td>\n",
       "      <td>2007</td>\n",
       "      <td>1:20,2:8,3:15,4:4,5:5,6:6,7:2,8:9,9:12,10:2,11...</td>\n",
       "      <td>[[post-hardcore, 100], [emo, 75], [rock, 50], ...</td>\n",
       "      <td>[0, 20, 8, 15, 4, 5, 6, 2, 9, 12, 2, 2, 7, 1, ...</td>\n",
       "    </tr>\n",
       "    <tr>\n",
       "      <th>4</th>\n",
       "      <td>TRMMMQV12903CA201E</td>\n",
       "      <td>Rev. Timothy Wright</td>\n",
       "      <td>353.77587</td>\n",
       "      <td>-7.569</td>\n",
       "      <td>167.850</td>\n",
       "      <td>I Made It Over</td>\n",
       "      <td>0</td>\n",
       "      <td>1:24,2:1,3:15,4:4,5:4,7:4,8:12,11:2,35:4,40:2,...</td>\n",
       "      <td>[[THE WRIGHT WAY, 100]]</td>\n",
       "      <td>[0, 24, 1, 15, 4, 4, 0, 4, 12, 0, 0, 2, 0, 0, ...</td>\n",
       "    </tr>\n",
       "    <tr>\n",
       "      <th>5</th>\n",
       "      <td>TRMMMNO128F93539AA</td>\n",
       "      <td>Martin Sexton</td>\n",
       "      <td>319.81669</td>\n",
       "      <td>-7.185</td>\n",
       "      <td>187.378</td>\n",
       "      <td>In The Journey</td>\n",
       "      <td>2001</td>\n",
       "      <td>1:30,2:15,3:4,4:6,5:15,6:5,7:3,8:13,9:11,10:6,...</td>\n",
       "      <td>[[singer-songwriter, 100], [rock, 66], [jazz, ...</td>\n",
       "      <td>[0, 30, 15, 4, 6, 15, 5, 3, 13, 11, 6, 5, 2, 2...</td>\n",
       "    </tr>\n",
       "    <tr>\n",
       "      <th>6</th>\n",
       "      <td>TRMMMPJ128F9306985</td>\n",
       "      <td>Christian Castro</td>\n",
       "      <td>258.89914</td>\n",
       "      <td>-4.660</td>\n",
       "      <td>157.862</td>\n",
       "      <td>Tu Vida Con La Mía</td>\n",
       "      <td>0</td>\n",
       "      <td>6:1,7:2,38:11,42:5,47:3,77:15,90:6,102:5,104:4...</td>\n",
       "      <td>[[cristian castro, 100], [azul, 100], [Roma, 5...</td>\n",
       "      <td>[0, 0, 0, 0, 0, 0, 1, 2, 0, 0, 0, 0, 0, 0, 0, ...</td>\n",
       "    </tr>\n",
       "    <tr>\n",
       "      <th>7</th>\n",
       "      <td>TRMMMRZ128F4265EB4</td>\n",
       "      <td>Aerosmith</td>\n",
       "      <td>253.70077</td>\n",
       "      <td>-3.278</td>\n",
       "      <td>67.060</td>\n",
       "      <td>I'm Ready</td>\n",
       "      <td>2004</td>\n",
       "      <td>1:23,2:1,3:13,4:2,5:2,6:5,7:4,8:2,9:2,12:1,13:...</td>\n",
       "      <td>[[classic rock, 100], [rock, 83], [hard rock, ...</td>\n",
       "      <td>[0, 23, 1, 13, 2, 2, 5, 4, 2, 2, 0, 0, 1, 1, 0...</td>\n",
       "    </tr>\n",
       "    <tr>\n",
       "      <th>8</th>\n",
       "      <td>TRMMMKQ128F92EBCB5</td>\n",
       "      <td>Kreator</td>\n",
       "      <td>372.42730</td>\n",
       "      <td>-6.663</td>\n",
       "      <td>191.665</td>\n",
       "      <td>All of the same blood</td>\n",
       "      <td>2001</td>\n",
       "      <td>2:12,3:2,4:3,5:4,10:2,12:1,13:9,15:2,17:1,21:2...</td>\n",
       "      <td>[[thrash metal, 100], [metal, 32], [thrash, 23...</td>\n",
       "      <td>[0, 0, 12, 2, 3, 4, 0, 0, 0, 0, 2, 0, 1, 9, 0,...</td>\n",
       "    </tr>\n",
       "    <tr>\n",
       "      <th>9</th>\n",
       "      <td>TRMMMBU128F9305AC3</td>\n",
       "      <td>The Maytals</td>\n",
       "      <td>175.20281</td>\n",
       "      <td>-9.049</td>\n",
       "      <td>156.753</td>\n",
       "      <td>Night And Day</td>\n",
       "      <td>1994</td>\n",
       "      <td>1:6,2:4,3:4,4:2,5:7,10:1,11:5,13:1,21:2,27:1,2...</td>\n",
       "      <td>[[reggae, 100], [rocksteady, 75], [EARLY REGGA...</td>\n",
       "      <td>[0, 6, 4, 4, 2, 7, 0, 0, 0, 0, 1, 5, 0, 1, 0, ...</td>\n",
       "    </tr>\n",
       "  </tbody>\n",
       "</table>\n",
       "</div>"
      ],
      "text/plain": [
       "             track_id          artist_name   duration  loudness    tempo  \\\n",
       "0  TRMMMKI128F931D80D      Lena Philipsson  262.26893    -3.925  122.332   \n",
       "1  TRMMMUT128F42646E8         Shawn Colvin  216.47628   -14.379   99.214   \n",
       "2  TRMMMQY128F92F0EA3          Dying Fetus  196.02240    -6.366  189.346   \n",
       "3  TRMMMTK128F424EF7C                Emery  217.57342    -4.867   88.423   \n",
       "4  TRMMMQV12903CA201E  Rev. Timothy Wright  353.77587    -7.569  167.850   \n",
       "5  TRMMMNO128F93539AA        Martin Sexton  319.81669    -7.185  187.378   \n",
       "6  TRMMMPJ128F9306985     Christian Castro  258.89914    -4.660  157.862   \n",
       "7  TRMMMRZ128F4265EB4            Aerosmith  253.70077    -3.278   67.060   \n",
       "8  TRMMMKQ128F92EBCB5              Kreator  372.42730    -6.663  191.665   \n",
       "9  TRMMMBU128F9305AC3          The Maytals  175.20281    -9.049  156.753   \n",
       "\n",
       "                                 title  year  \\\n",
       "0                                  006  1998   \n",
       "1  (Looking For) The Heart Of Saturday  1994   \n",
       "2                    Ethos of Coercion  2009   \n",
       "3                          Rock-N-Rule  2007   \n",
       "4                       I Made It Over     0   \n",
       "5                       In The Journey  2001   \n",
       "6                   Tu Vida Con La Mía     0   \n",
       "7                            I'm Ready  2004   \n",
       "8                All of the same blood  2001   \n",
       "9                        Night And Day  1994   \n",
       "\n",
       "                                              lyrics  \\\n",
       "0  1:23,2:5,3:13,4:10,5:4,6:9,7:1,8:4,9:4,10:1,11...   \n",
       "1  2:36,3:25,4:2,5:8,6:2,7:1,8:6,10:8,12:5,13:19,...   \n",
       "2  2:10,3:1,4:2,5:1,9:1,10:1,13:9,14:2,18:1,21:1,...   \n",
       "3  1:20,2:8,3:15,4:4,5:5,6:6,7:2,8:9,9:12,10:2,11...   \n",
       "4  1:24,2:1,3:15,4:4,5:4,7:4,8:12,11:2,35:4,40:2,...   \n",
       "5  1:30,2:15,3:4,4:6,5:15,6:5,7:3,8:13,9:11,10:6,...   \n",
       "6  6:1,7:2,38:11,42:5,47:3,77:15,90:6,102:5,104:4...   \n",
       "7  1:23,2:1,3:13,4:2,5:2,6:5,7:4,8:2,9:2,12:1,13:...   \n",
       "8  2:12,3:2,4:3,5:4,10:2,12:1,13:9,15:2,17:1,21:2...   \n",
       "9  1:6,2:4,3:4,4:2,5:7,10:1,11:5,13:1,21:2,27:1,2...   \n",
       "\n",
       "                                                tags  \\\n",
       "0                       [[swedish, 100], [pop, 100]]   \n",
       "1                                     [[cover, 100]]   \n",
       "2  [[Technical Death Metal, 100], [Brutal Death M...   \n",
       "3  [[post-hardcore, 100], [emo, 75], [rock, 50], ...   \n",
       "4                            [[THE WRIGHT WAY, 100]]   \n",
       "5  [[singer-songwriter, 100], [rock, 66], [jazz, ...   \n",
       "6  [[cristian castro, 100], [azul, 100], [Roma, 5...   \n",
       "7  [[classic rock, 100], [rock, 83], [hard rock, ...   \n",
       "8  [[thrash metal, 100], [metal, 32], [thrash, 23...   \n",
       "9  [[reggae, 100], [rocksteady, 75], [EARLY REGGA...   \n",
       "\n",
       "                                       lyrics_vector  \n",
       "0  [0, 23, 5, 13, 10, 4, 9, 1, 4, 4, 1, 2, 2, 2, ...  \n",
       "1  [0, 0, 36, 25, 2, 8, 2, 1, 6, 0, 8, 0, 5, 19, ...  \n",
       "2  [0, 0, 10, 1, 2, 1, 0, 0, 0, 1, 1, 0, 0, 9, 2,...  \n",
       "3  [0, 20, 8, 15, 4, 5, 6, 2, 9, 12, 2, 2, 7, 1, ...  \n",
       "4  [0, 24, 1, 15, 4, 4, 0, 4, 12, 0, 0, 2, 0, 0, ...  \n",
       "5  [0, 30, 15, 4, 6, 15, 5, 3, 13, 11, 6, 5, 2, 2...  \n",
       "6  [0, 0, 0, 0, 0, 0, 1, 2, 0, 0, 0, 0, 0, 0, 0, ...  \n",
       "7  [0, 23, 1, 13, 2, 2, 5, 4, 2, 2, 0, 0, 1, 1, 0...  \n",
       "8  [0, 0, 12, 2, 3, 4, 0, 0, 0, 0, 2, 0, 1, 9, 0,...  \n",
       "9  [0, 6, 4, 4, 2, 7, 0, 0, 0, 0, 1, 5, 0, 1, 0, ...  "
      ]
     },
     "execution_count": 7,
     "metadata": {},
     "output_type": "execute_result"
    }
   ],
   "source": [
    "df.head(10)"
   ]
  },
  {
   "cell_type": "markdown",
   "metadata": {},
   "source": [
    "# Year Analysis\n",
    "Claudia 3/23/2020"
   ]
  },
  {
   "cell_type": "code",
   "execution_count": 53,
   "metadata": {},
   "outputs": [
    {
     "data": {
      "text/plain": [
       "count    237662.000000\n",
       "mean       1473.147659\n",
       "std         879.327036\n",
       "min           0.000000\n",
       "25%           0.000000\n",
       "50%        1996.000000\n",
       "75%        2004.000000\n",
       "max        2010.000000\n",
       "Name: year, dtype: float64"
      ]
     },
     "execution_count": 53,
     "metadata": {},
     "output_type": "execute_result"
    }
   ],
   "source": [
    "df['year'].describe()\n",
    "# boxplot = df.boxplot(column=['year'])"
   ]
  },
  {
   "cell_type": "code",
   "execution_count": 9,
   "metadata": {},
   "outputs": [
    {
     "data": {
      "text/html": [
       "<div>\n",
       "<style scoped>\n",
       "    .dataframe tbody tr th:only-of-type {\n",
       "        vertical-align: middle;\n",
       "    }\n",
       "\n",
       "    .dataframe tbody tr th {\n",
       "        vertical-align: top;\n",
       "    }\n",
       "\n",
       "    .dataframe thead th {\n",
       "        text-align: right;\n",
       "    }\n",
       "</style>\n",
       "<table border=\"1\" class=\"dataframe\">\n",
       "  <thead>\n",
       "    <tr style=\"text-align: right;\">\n",
       "      <th></th>\n",
       "      <th>track_id</th>\n",
       "      <th>artist_name</th>\n",
       "      <th>duration</th>\n",
       "      <th>loudness</th>\n",
       "      <th>tempo</th>\n",
       "      <th>title</th>\n",
       "      <th>year</th>\n",
       "      <th>lyrics</th>\n",
       "      <th>tags</th>\n",
       "      <th>lyrics_vector</th>\n",
       "      <th>year_decade</th>\n",
       "    </tr>\n",
       "  </thead>\n",
       "  <tbody>\n",
       "    <tr>\n",
       "      <th>0</th>\n",
       "      <td>TRMMMKI128F931D80D</td>\n",
       "      <td>Lena Philipsson</td>\n",
       "      <td>262.26893</td>\n",
       "      <td>-3.925</td>\n",
       "      <td>122.332</td>\n",
       "      <td>006</td>\n",
       "      <td>1998</td>\n",
       "      <td>1:23,2:5,3:13,4:10,5:4,6:9,7:1,8:4,9:4,10:1,11...</td>\n",
       "      <td>[[swedish, 100], [pop, 100]]</td>\n",
       "      <td>[0, 23, 5, 13, 10, 4, 9, 1, 4, 4, 1, 2, 2, 2, ...</td>\n",
       "      <td>1990</td>\n",
       "    </tr>\n",
       "    <tr>\n",
       "      <th>1</th>\n",
       "      <td>TRMMMUT128F42646E8</td>\n",
       "      <td>Shawn Colvin</td>\n",
       "      <td>216.47628</td>\n",
       "      <td>-14.379</td>\n",
       "      <td>99.214</td>\n",
       "      <td>(Looking For) The Heart Of Saturday</td>\n",
       "      <td>1994</td>\n",
       "      <td>2:36,3:25,4:2,5:8,6:2,7:1,8:6,10:8,12:5,13:19,...</td>\n",
       "      <td>[[cover, 100]]</td>\n",
       "      <td>[0, 0, 36, 25, 2, 8, 2, 1, 6, 0, 8, 0, 5, 19, ...</td>\n",
       "      <td>1990</td>\n",
       "    </tr>\n",
       "    <tr>\n",
       "      <th>2</th>\n",
       "      <td>TRMMMQY128F92F0EA3</td>\n",
       "      <td>Dying Fetus</td>\n",
       "      <td>196.02240</td>\n",
       "      <td>-6.366</td>\n",
       "      <td>189.346</td>\n",
       "      <td>Ethos of Coercion</td>\n",
       "      <td>2009</td>\n",
       "      <td>2:10,3:1,4:2,5:1,9:1,10:1,13:9,14:2,18:1,21:1,...</td>\n",
       "      <td>[[Technical Death Metal, 100], [Brutal Death M...</td>\n",
       "      <td>[0, 0, 10, 1, 2, 1, 0, 0, 0, 1, 1, 0, 0, 9, 2,...</td>\n",
       "      <td>2000</td>\n",
       "    </tr>\n",
       "    <tr>\n",
       "      <th>3</th>\n",
       "      <td>TRMMMTK128F424EF7C</td>\n",
       "      <td>Emery</td>\n",
       "      <td>217.57342</td>\n",
       "      <td>-4.867</td>\n",
       "      <td>88.423</td>\n",
       "      <td>Rock-N-Rule</td>\n",
       "      <td>2007</td>\n",
       "      <td>1:20,2:8,3:15,4:4,5:5,6:6,7:2,8:9,9:12,10:2,11...</td>\n",
       "      <td>[[post-hardcore, 100], [emo, 75], [rock, 50], ...</td>\n",
       "      <td>[0, 20, 8, 15, 4, 5, 6, 2, 9, 12, 2, 2, 7, 1, ...</td>\n",
       "      <td>2000</td>\n",
       "    </tr>\n",
       "    <tr>\n",
       "      <th>4</th>\n",
       "      <td>TRMMMQV12903CA201E</td>\n",
       "      <td>Rev. Timothy Wright</td>\n",
       "      <td>353.77587</td>\n",
       "      <td>-7.569</td>\n",
       "      <td>167.850</td>\n",
       "      <td>I Made It Over</td>\n",
       "      <td>0</td>\n",
       "      <td>1:24,2:1,3:15,4:4,5:4,7:4,8:12,11:2,35:4,40:2,...</td>\n",
       "      <td>[[THE WRIGHT WAY, 100]]</td>\n",
       "      <td>[0, 24, 1, 15, 4, 4, 0, 4, 12, 0, 0, 2, 0, 0, ...</td>\n",
       "      <td>0</td>\n",
       "    </tr>\n",
       "  </tbody>\n",
       "</table>\n",
       "</div>"
      ],
      "text/plain": [
       "             track_id          artist_name   duration  loudness    tempo  \\\n",
       "0  TRMMMKI128F931D80D      Lena Philipsson  262.26893    -3.925  122.332   \n",
       "1  TRMMMUT128F42646E8         Shawn Colvin  216.47628   -14.379   99.214   \n",
       "2  TRMMMQY128F92F0EA3          Dying Fetus  196.02240    -6.366  189.346   \n",
       "3  TRMMMTK128F424EF7C                Emery  217.57342    -4.867   88.423   \n",
       "4  TRMMMQV12903CA201E  Rev. Timothy Wright  353.77587    -7.569  167.850   \n",
       "\n",
       "                                 title  year  \\\n",
       "0                                  006  1998   \n",
       "1  (Looking For) The Heart Of Saturday  1994   \n",
       "2                    Ethos of Coercion  2009   \n",
       "3                          Rock-N-Rule  2007   \n",
       "4                       I Made It Over     0   \n",
       "\n",
       "                                              lyrics  \\\n",
       "0  1:23,2:5,3:13,4:10,5:4,6:9,7:1,8:4,9:4,10:1,11...   \n",
       "1  2:36,3:25,4:2,5:8,6:2,7:1,8:6,10:8,12:5,13:19,...   \n",
       "2  2:10,3:1,4:2,5:1,9:1,10:1,13:9,14:2,18:1,21:1,...   \n",
       "3  1:20,2:8,3:15,4:4,5:5,6:6,7:2,8:9,9:12,10:2,11...   \n",
       "4  1:24,2:1,3:15,4:4,5:4,7:4,8:12,11:2,35:4,40:2,...   \n",
       "\n",
       "                                                tags  \\\n",
       "0                       [[swedish, 100], [pop, 100]]   \n",
       "1                                     [[cover, 100]]   \n",
       "2  [[Technical Death Metal, 100], [Brutal Death M...   \n",
       "3  [[post-hardcore, 100], [emo, 75], [rock, 50], ...   \n",
       "4                            [[THE WRIGHT WAY, 100]]   \n",
       "\n",
       "                                       lyrics_vector  year_decade  \n",
       "0  [0, 23, 5, 13, 10, 4, 9, 1, 4, 4, 1, 2, 2, 2, ...         1990  \n",
       "1  [0, 0, 36, 25, 2, 8, 2, 1, 6, 0, 8, 0, 5, 19, ...         1990  \n",
       "2  [0, 0, 10, 1, 2, 1, 0, 0, 0, 1, 1, 0, 0, 9, 2,...         2000  \n",
       "3  [0, 20, 8, 15, 4, 5, 6, 2, 9, 12, 2, 2, 7, 1, ...         2000  \n",
       "4  [0, 24, 1, 15, 4, 4, 0, 4, 12, 0, 0, 2, 0, 0, ...            0  "
      ]
     },
     "execution_count": 9,
     "metadata": {},
     "output_type": "execute_result"
    }
   ],
   "source": [
    "def bin_year(row):\n",
    "    year = row['year']\n",
    "    decade = int(np.floor(year / 10) * 10)\n",
    "    return decade\n",
    "\n",
    "df['year_decade'] = df.apply(bin_year, axis=1)\n",
    "df.head()"
   ]
  },
  {
   "cell_type": "code",
   "execution_count": 10,
   "metadata": {
    "scrolled": true
   },
   "outputs": [
    {
     "data": {
      "text/html": [
       "<div>\n",
       "<style scoped>\n",
       "    .dataframe tbody tr th:only-of-type {\n",
       "        vertical-align: middle;\n",
       "    }\n",
       "\n",
       "    .dataframe tbody tr th {\n",
       "        vertical-align: top;\n",
       "    }\n",
       "\n",
       "    .dataframe thead th {\n",
       "        text-align: right;\n",
       "    }\n",
       "</style>\n",
       "<table border=\"1\" class=\"dataframe\">\n",
       "  <thead>\n",
       "    <tr style=\"text-align: right;\">\n",
       "      <th></th>\n",
       "      <th>track_id</th>\n",
       "      <th>lyrics_vector</th>\n",
       "      <th>year_decade</th>\n",
       "    </tr>\n",
       "  </thead>\n",
       "  <tbody>\n",
       "    <tr>\n",
       "      <th>0</th>\n",
       "      <td>TRMMMKI128F931D80D</td>\n",
       "      <td>[0, 23, 5, 13, 10, 4, 9, 1, 4, 4, 1, 2, 2, 2, ...</td>\n",
       "      <td>1990.0</td>\n",
       "    </tr>\n",
       "    <tr>\n",
       "      <th>1</th>\n",
       "      <td>TRMMMUT128F42646E8</td>\n",
       "      <td>[0, 0, 36, 25, 2, 8, 2, 1, 6, 0, 8, 0, 5, 19, ...</td>\n",
       "      <td>1990.0</td>\n",
       "    </tr>\n",
       "    <tr>\n",
       "      <th>2</th>\n",
       "      <td>TRMMMQY128F92F0EA3</td>\n",
       "      <td>[0, 0, 10, 1, 2, 1, 0, 0, 0, 1, 1, 0, 0, 9, 2,...</td>\n",
       "      <td>2000.0</td>\n",
       "    </tr>\n",
       "    <tr>\n",
       "      <th>3</th>\n",
       "      <td>TRMMMTK128F424EF7C</td>\n",
       "      <td>[0, 20, 8, 15, 4, 5, 6, 2, 9, 12, 2, 2, 7, 1, ...</td>\n",
       "      <td>2000.0</td>\n",
       "    </tr>\n",
       "    <tr>\n",
       "      <th>5</th>\n",
       "      <td>TRMMMNO128F93539AA</td>\n",
       "      <td>[0, 30, 15, 4, 6, 15, 5, 3, 13, 11, 6, 5, 2, 2...</td>\n",
       "      <td>2000.0</td>\n",
       "    </tr>\n",
       "    <tr>\n",
       "      <th>7</th>\n",
       "      <td>TRMMMRZ128F4265EB4</td>\n",
       "      <td>[0, 23, 1, 13, 2, 2, 5, 4, 2, 2, 0, 0, 1, 1, 0...</td>\n",
       "      <td>2000.0</td>\n",
       "    </tr>\n",
       "    <tr>\n",
       "      <th>8</th>\n",
       "      <td>TRMMMKQ128F92EBCB5</td>\n",
       "      <td>[0, 0, 12, 2, 3, 4, 0, 0, 0, 0, 2, 0, 1, 9, 0,...</td>\n",
       "      <td>2000.0</td>\n",
       "    </tr>\n",
       "    <tr>\n",
       "      <th>9</th>\n",
       "      <td>TRMMMBU128F9305AC3</td>\n",
       "      <td>[0, 6, 4, 4, 2, 7, 0, 0, 0, 0, 1, 5, 0, 1, 0, ...</td>\n",
       "      <td>1990.0</td>\n",
       "    </tr>\n",
       "    <tr>\n",
       "      <th>10</th>\n",
       "      <td>TRMMMFJ128F92E15AC</td>\n",
       "      <td>[0, 0, 0, 0, 0, 0, 0, 0, 0, 0, 5, 0, 0, 0, 0, ...</td>\n",
       "      <td>2000.0</td>\n",
       "    </tr>\n",
       "    <tr>\n",
       "      <th>11</th>\n",
       "      <td>TRMMMFG128F425087B</td>\n",
       "      <td>[0, 8, 6, 22, 4, 0, 3, 12, 1, 1, 2, 11, 2, 3, ...</td>\n",
       "      <td>2000.0</td>\n",
       "    </tr>\n",
       "  </tbody>\n",
       "</table>\n",
       "</div>"
      ],
      "text/plain": [
       "              track_id                                      lyrics_vector  \\\n",
       "0   TRMMMKI128F931D80D  [0, 23, 5, 13, 10, 4, 9, 1, 4, 4, 1, 2, 2, 2, ...   \n",
       "1   TRMMMUT128F42646E8  [0, 0, 36, 25, 2, 8, 2, 1, 6, 0, 8, 0, 5, 19, ...   \n",
       "2   TRMMMQY128F92F0EA3  [0, 0, 10, 1, 2, 1, 0, 0, 0, 1, 1, 0, 0, 9, 2,...   \n",
       "3   TRMMMTK128F424EF7C  [0, 20, 8, 15, 4, 5, 6, 2, 9, 12, 2, 2, 7, 1, ...   \n",
       "5   TRMMMNO128F93539AA  [0, 30, 15, 4, 6, 15, 5, 3, 13, 11, 6, 5, 2, 2...   \n",
       "7   TRMMMRZ128F4265EB4  [0, 23, 1, 13, 2, 2, 5, 4, 2, 2, 0, 0, 1, 1, 0...   \n",
       "8   TRMMMKQ128F92EBCB5  [0, 0, 12, 2, 3, 4, 0, 0, 0, 0, 2, 0, 1, 9, 0,...   \n",
       "9   TRMMMBU128F9305AC3  [0, 6, 4, 4, 2, 7, 0, 0, 0, 0, 1, 5, 0, 1, 0, ...   \n",
       "10  TRMMMFJ128F92E15AC  [0, 0, 0, 0, 0, 0, 0, 0, 0, 0, 5, 0, 0, 0, 0, ...   \n",
       "11  TRMMMFG128F425087B  [0, 8, 6, 22, 4, 0, 3, 12, 1, 1, 2, 11, 2, 3, ...   \n",
       "\n",
       "    year_decade  \n",
       "0        1990.0  \n",
       "1        1990.0  \n",
       "2        2000.0  \n",
       "3        2000.0  \n",
       "5        2000.0  \n",
       "7        2000.0  \n",
       "8        2000.0  \n",
       "9        1990.0  \n",
       "10       2000.0  \n",
       "11       2000.0  "
      ]
     },
     "execution_count": 10,
     "metadata": {},
     "output_type": "execute_result"
    }
   ],
   "source": [
    "df_year = df\n",
    "df_year = df_year.drop('artist_name', axis = 1)\n",
    "df_year = df_year.drop('duration', axis = 1)\n",
    "df_year = df_year.drop('lyrics', axis = 1)\n",
    "df_year = df_year.drop('tempo', axis = 1)\n",
    "df_year = df_year.drop('loudness', axis = 1)\n",
    "df_year = df_year.drop('title', axis = 1)\n",
    "df_year = df_year.drop('year', axis = 1)\n",
    "df_year = df_year.drop('tags', axis = 1)\n",
    "\n",
    "df_year = df_year.replace(0, np.nan)\n",
    "df_year = df_year.dropna(how='any', axis=0)\n",
    "df_year.head(10)"
   ]
  },
  {
   "cell_type": "code",
   "execution_count": 54,
   "metadata": {},
   "outputs": [
    {
     "data": {
      "text/plain": [
       "count    175234.000000\n",
       "mean       1993.030805\n",
       "std          10.378616\n",
       "min        1920.000000\n",
       "25%        1990.000000\n",
       "50%        2000.000000\n",
       "75%        2000.000000\n",
       "max        2010.000000\n",
       "Name: year_decade, dtype: float64"
      ]
     },
     "execution_count": 54,
     "metadata": {},
     "output_type": "execute_result"
    }
   ],
   "source": [
    "df_year['year_decade'].describe()"
   ]
  },
  {
   "cell_type": "code",
   "execution_count": 11,
   "metadata": {},
   "outputs": [
    {
     "name": "stdout",
     "output_type": "stream",
     "text": [
      "[[ 0 23  5 ...  0  0  0]\n",
      " [ 0  0 36 ...  0  0  0]\n",
      " [ 0  0 10 ...  0  0  0]\n",
      " ...\n",
      " [ 0  0  1 ...  0  0  0]\n",
      " [ 0  8  6 ...  0  0  0]\n",
      " [ 0  0 15 ...  0  0  0]]\n",
      "(175234, 5001)\n",
      "[1990. 1990. 2000. 2000. 2000. 2000. 2000. 1990. 2000. 2000. 2000. 2000.\n",
      " 1970. 2000. 2010. 2000. 2000. 2000. 2000. 2000.]\n"
     ]
    }
   ],
   "source": [
    "# Get data to plot\n",
    "X_year = np.array(df_year[\"lyrics_vector\"].values.tolist())\n",
    "print(X_year)\n",
    "print(X_year.shape)\n",
    "\n",
    "y_year = np.array(df_year[\"year_decade\"])\n",
    "print(y_year[:20])"
   ]
  },
  {
   "cell_type": "code",
   "execution_count": 13,
   "metadata": {},
   "outputs": [
    {
     "name": "stdout",
     "output_type": "stream",
     "text": [
      "Starting PCA Decomposition ...\n",
      "Fitting Data ...\n",
      "Transforming X ...\n",
      "(175234, 3)\n"
     ]
    }
   ],
   "source": [
    "# Apply PCA\n",
    "print(\"Starting PCA Decomposition ...\")\n",
    "pca = decomposition.TruncatedSVD(n_components=3)\n",
    "print(\"Fitting Data ...\")\n",
    "pca.fit(X_year)\n",
    "print(\"Transforming X ...\")\n",
    "X_year_transform = pca.transform(X_year)\n",
    "print(X_year_transform.shape)"
   ]
  },
  {
   "cell_type": "code",
   "execution_count": 15,
   "metadata": {},
   "outputs": [
    {
     "data": {
      "text/html": [
       "<div>\n",
       "<style scoped>\n",
       "    .dataframe tbody tr th:only-of-type {\n",
       "        vertical-align: middle;\n",
       "    }\n",
       "\n",
       "    .dataframe tbody tr th {\n",
       "        vertical-align: top;\n",
       "    }\n",
       "\n",
       "    .dataframe thead th {\n",
       "        text-align: right;\n",
       "    }\n",
       "</style>\n",
       "<table border=\"1\" class=\"dataframe\">\n",
       "  <thead>\n",
       "    <tr style=\"text-align: right;\">\n",
       "      <th></th>\n",
       "      <th>track_id</th>\n",
       "      <th>lyrics_vector</th>\n",
       "      <th>year_decade</th>\n",
       "      <th>pca_1</th>\n",
       "      <th>pca_2</th>\n",
       "      <th>pca_3</th>\n",
       "    </tr>\n",
       "  </thead>\n",
       "  <tbody>\n",
       "    <tr>\n",
       "      <th>0</th>\n",
       "      <td>TRMMMKI128F931D80D</td>\n",
       "      <td>[0, 23, 5, 13, 10, 4, 9, 1, 4, 4, 1, 2, 2, 2, ...</td>\n",
       "      <td>1990.0</td>\n",
       "      <td>30.723007</td>\n",
       "      <td>-9.311274</td>\n",
       "      <td>6.357756</td>\n",
       "    </tr>\n",
       "    <tr>\n",
       "      <th>1</th>\n",
       "      <td>TRMMMUT128F42646E8</td>\n",
       "      <td>[0, 0, 36, 25, 2, 8, 2, 1, 6, 0, 8, 0, 5, 19, ...</td>\n",
       "      <td>1990.0</td>\n",
       "      <td>38.052834</td>\n",
       "      <td>21.547520</td>\n",
       "      <td>-22.597534</td>\n",
       "    </tr>\n",
       "    <tr>\n",
       "      <th>2</th>\n",
       "      <td>TRMMMQY128F92F0EA3</td>\n",
       "      <td>[0, 0, 10, 1, 2, 1, 0, 0, 0, 1, 1, 0, 0, 9, 2,...</td>\n",
       "      <td>2000.0</td>\n",
       "      <td>7.340893</td>\n",
       "      <td>8.449396</td>\n",
       "      <td>-1.640509</td>\n",
       "    </tr>\n",
       "    <tr>\n",
       "      <th>3</th>\n",
       "      <td>TRMMMTK128F424EF7C</td>\n",
       "      <td>[0, 20, 8, 15, 4, 5, 6, 2, 9, 12, 2, 2, 7, 1, ...</td>\n",
       "      <td>2000.0</td>\n",
       "      <td>31.726309</td>\n",
       "      <td>-7.335354</td>\n",
       "      <td>0.755450</td>\n",
       "    </tr>\n",
       "    <tr>\n",
       "      <th>5</th>\n",
       "      <td>TRMMMNO128F93539AA</td>\n",
       "      <td>[0, 30, 15, 4, 6, 15, 5, 3, 13, 11, 6, 5, 2, 2...</td>\n",
       "      <td>2000.0</td>\n",
       "      <td>42.800372</td>\n",
       "      <td>0.866144</td>\n",
       "      <td>14.017745</td>\n",
       "    </tr>\n",
       "  </tbody>\n",
       "</table>\n",
       "</div>"
      ],
      "text/plain": [
       "             track_id                                      lyrics_vector  \\\n",
       "0  TRMMMKI128F931D80D  [0, 23, 5, 13, 10, 4, 9, 1, 4, 4, 1, 2, 2, 2, ...   \n",
       "1  TRMMMUT128F42646E8  [0, 0, 36, 25, 2, 8, 2, 1, 6, 0, 8, 0, 5, 19, ...   \n",
       "2  TRMMMQY128F92F0EA3  [0, 0, 10, 1, 2, 1, 0, 0, 0, 1, 1, 0, 0, 9, 2,...   \n",
       "3  TRMMMTK128F424EF7C  [0, 20, 8, 15, 4, 5, 6, 2, 9, 12, 2, 2, 7, 1, ...   \n",
       "5  TRMMMNO128F93539AA  [0, 30, 15, 4, 6, 15, 5, 3, 13, 11, 6, 5, 2, 2...   \n",
       "\n",
       "   year_decade      pca_1      pca_2      pca_3  \n",
       "0       1990.0  30.723007  -9.311274   6.357756  \n",
       "1       1990.0  38.052834  21.547520 -22.597534  \n",
       "2       2000.0   7.340893   8.449396  -1.640509  \n",
       "3       2000.0  31.726309  -7.335354   0.755450  \n",
       "5       2000.0  42.800372   0.866144  14.017745  "
      ]
     },
     "execution_count": 15,
     "metadata": {},
     "output_type": "execute_result"
    }
   ],
   "source": [
    "# Plot PCA\n",
    "df_year['pca_1'] = X_year_transform[:,0]\n",
    "df_year['pca_2'] = X_year_transform[:,1]\n",
    "df_year['pca_3'] = X_year_transform[:,2]\n",
    "\n",
    "pd.DataFrame(X_year_transform).to_pickle(\"pca_year.pkl\")\n",
    "\n",
    "df_year.head()"
   ]
  },
  {
   "cell_type": "code",
   "execution_count": 57,
   "metadata": {},
   "outputs": [
    {
     "data": {
      "image/png": "[encoded data removed]",
      "text/plain": [
       "<Figure size 432x288 with 1 Axes>"
      ]
     },
     "metadata": {
      "needs_background": "light"
     },
     "output_type": "display_data"
    }
   ],
   "source": [
    "groups = df_year.groupby('year_decade')\n",
    "fig, ax = plt.subplots()\n",
    "ax.margins(0.05) # Optional, just adds 5% padding to the autoscaling\n",
    "for name, group in groups:\n",
    "    ax.plot(group.pca_1, group.pca_2, marker='o', linestyle='', ms=12, label=name)\n",
    "ax.legend()\n",
    "\n",
    "plt.show()"
   ]
  },
  {
   "cell_type": "code",
   "execution_count": 61,
   "metadata": {},
   "outputs": [
    {
     "data": {
      "image/png": "[encoded data removed]",
      "text/plain": [
       "<Figure size 432x288 with 1 Axes>"
      ]
     },
     "metadata": {
      "needs_background": "light"
     },
     "output_type": "display_data"
    }
   ],
   "source": [
    "\n",
    "fig = plt.figure()\n",
    "ax = fig.gca(projection='3d')\n",
    "ax.scatter(X_year_transform[:,0], X_year_transform[:,1], X_year_transform[:,2], c=y_year,cmap='rainbow')\n",
    "\n",
    "plt.show()"
   ]
  },
  {
   "cell_type": "markdown",
   "metadata": {},
   "source": [
    "### Analyze how many PC's we need"
   ]
  },
  {
   "cell_type": "markdown",
   "metadata": {},
   "source": [
    "# Linear Regression"
   ]
  },
  {
   "cell_type": "code",
   "execution_count": 68,
   "metadata": {},
   "outputs": [],
   "source": [
    "# Create training and test sets\n",
    "\n",
    "def create_train_test_sets(X_data, y_data, percent_train):\n",
    "    test_percent = 1 - percent_train\n",
    "    \n",
    "    train_idx = int(train_percent * N)\n",
    "\n",
    "    X_train = X_data[:train_idx,:]\n",
    "    y_train = y_data[:train_idx]\n",
    "\n",
    "    X_test = X_data[train_idx:,:]\n",
    "    y_test = y_data[train_idx:]\n",
    "    \n",
    "    return X_train,y_train,X_test, y_test\n",
    "\n",
    "def year_accuracy(y_pred, y_truth):\n",
    "    y_pred_round = np.around(y_pred, -1) # optional?\n",
    "    are_correct = y_pred_round == y_truth\n",
    "    error = np.sum(are_correct) / float(are_correct.shape[0])\n",
    "    return error"
   ]
  },
  {
   "cell_type": "markdown",
   "metadata": {},
   "source": [
    "## PCA Linear Regression"
   ]
  },
  {
   "cell_type": "code",
   "execution_count": 26,
   "metadata": {},
   "outputs": [],
   "source": [
    "from sklearn import linear_model"
   ]
  },
  {
   "cell_type": "code",
   "execution_count": 22,
   "metadata": {},
   "outputs": [
    {
     "name": "stdout",
     "output_type": "stream",
     "text": [
      "(175234, 3)\n"
     ]
    }
   ],
   "source": [
    "X_pca_year = pd.read_pickle(\"pca_year.pkl\").to_numpy()\n",
    "N,K = X_pca_year.shape # N datapoints, K PC's\n",
    "print(X_pca_year.shape)"
   ]
  },
  {
   "cell_type": "code",
   "execution_count": 61,
   "metadata": {},
   "outputs": [],
   "source": [
    "train_percent = 0.9\n",
    "y_year = np.array(df_year[\"year_decade\"])\n",
    "\n",
    "X_train, y_train, X_test, y_test = create_train_test_sets(X_pca_year, y_year, train_percent)"
   ]
  },
  {
   "cell_type": "code",
   "execution_count": 62,
   "metadata": {},
   "outputs": [
    {
     "name": "stdout",
     "output_type": "stream",
     "text": [
      "[1992.99427497 1993.06464875 1992.87312522 ... 1992.79526469 1992.9742187\n",
      " 1993.0261776 ]\n"
     ]
    }
   ],
   "source": [
    "# Running linear Regression\n",
    "\n",
    "reg = linear_model.LinearRegression().fit(X_train, y_train)\n",
    "y_predict = reg.predict(X_test)\n",
    "print(y_predict)"
   ]
  },
  {
   "cell_type": "code",
   "execution_count": 59,
   "metadata": {},
   "outputs": [
    {
     "name": "stdout",
     "output_type": "stream",
     "text": [
      "Least squares error: 1880935.1713\n"
     ]
    }
   ],
   "source": [
    "# Accuracy by raw prediction\n",
    "error = np.sum(np.power(y_predict - y_test, 2)) \n",
    "print(\"Least squares error: %.4f\" % error)"
   ]
  },
  {
   "cell_type": "code",
   "execution_count": 60,
   "metadata": {},
   "outputs": [
    {
     "name": "stdout",
     "output_type": "stream",
     "text": [
      "[1990. 2000.]\n",
      "[1920. 1930. 1940. 1950. 1960. 1970. 1980. 1990. 2000. 2010.]\n",
      "0.25131248573385073\n"
     ]
    }
   ],
   "source": [
    "# Classification accuracy\n",
    "\n",
    "y_predict_decade = np.around(y_predict, -1)\n",
    "print(np.unique(y_predict_decade)) # appears to just pick in the middle\n",
    "print(np.unique(y_test))\n",
    "are_correct = y_predict_decade == y_test\n",
    "error = np.sum(are_correct) / float(are_correct.shape[0])\n",
    "print(error)"
   ]
  },
  {
   "cell_type": "markdown",
   "metadata": {},
   "source": [
    "With linear regression, we only got 25% accuracy. The linear regression model ends up evaluating to only predict 1990 or 2000. This is not completely surprising, as least 50% of the data with decades information falls in the 1990s - 2000 range. So linear regression just picked a line that reflected the \"weighted average\" of the years it could pick from. So in this case, just knowing what the distribution of the years provided better information to predict in a linear regression model.\n",
    "\n",
    "Next we need to try this analysis with more PC's and on the raw data"
   ]
  },
  {
   "cell_type": "code",
   "execution_count": 69,
   "metadata": {},
   "outputs": [
    {
     "name": "stdout",
     "output_type": "stream",
     "text": [
      "[1987.61861915 1991.96628781 1993.9752109  ... 1991.46502923 1988.32213632\n",
      " 2004.99978384]\n",
      "0.39677014380278475\n"
     ]
    }
   ],
   "source": [
    "ridge = linear_model.Ridge(alpha=1.0).fit(X_train, y_train)\n",
    "y_ridge_predict = ridge.predict(X_test)\n",
    "print(y_ridge_predict)\n",
    "\n",
    "ridge_error = year_accuracy(y_ridge_predict, y_test)\n",
    "print(ridge_error)"
   ]
  },
  {
   "cell_type": "code",
   "execution_count": 70,
   "metadata": {},
   "outputs": [
    {
     "name": "stdout",
     "output_type": "stream",
     "text": [
      "[1991.72052046 1986.96036919 1992.21811488 ... 1992.72746218 1991.17069835\n",
      " 1993.01511318]\n",
      "0.32361333028988815\n"
     ]
    }
   ],
   "source": [
    "lasso = linear_model.Lasso(alpha=0.1).fit(X_train, y_train)\n",
    "y_lasso_predict = lasso.predict(X_test)\n",
    "print(y_lasso_predict)\n",
    "\n",
    "lasso_error = year_accuracy(y_lasso_predict, y_test)\n",
    "print(lasso_error)"
   ]
  },
  {
   "cell_type": "markdown",
   "metadata": {},
   "source": [
    "## Linear Regression on Raw Data"
   ]
  },
  {
   "cell_type": "code",
   "execution_count": 65,
   "metadata": {},
   "outputs": [],
   "source": [
    "# X_year = np.array(df_year[\"lyrics_vector\"].values.tolist())\n",
    "\n",
    "N,D = X_lyrics.shape\n",
    "\n",
    "y_year = np.array(df_year[\"year_decade\"])\n",
    "\n",
    "X_train,y_train,X_test, y_test = create_train_test_sets(X_lyrics, y_year, percent_train=0.9)"
   ]
  },
  {
   "cell_type": "code",
   "execution_count": 66,
   "metadata": {},
   "outputs": [
    {
     "name": "stdout",
     "output_type": "stream",
     "text": [
      "[1987.61868683 1991.97096032 1993.97515829 ... 1991.46483881 1988.322108\n",
      " 2005.00820024]\n"
     ]
    }
   ],
   "source": [
    "reg = linear_model.LinearRegression().fit(X_train, y_train)\n",
    "y_predict = reg.predict(X_test)\n",
    "print(y_predict)"
   ]
  },
  {
   "cell_type": "code",
   "execution_count": 67,
   "metadata": {},
   "outputs": [
    {
     "name": "stdout",
     "output_type": "stream",
     "text": [
      "[1930. 1960. 1970. 1980. 1990. 2000. 2010. 2020. 2030.]\n",
      "[1920. 1930. 1940. 1950. 1960. 1970. 1980. 1990. 2000. 2010.]\n",
      "0.39677014380278475\n"
     ]
    }
   ],
   "source": [
    "# Classification accuracy\n",
    "\n",
    "y_predict_decade = np.around(y_predict, -1)\n",
    "print(np.unique(y_predict_decade)) # appears to just pick in the middle\n",
    "print(np.unique(y_test))\n",
    "are_correct = y_predict_decade == y_test\n",
    "error = np.sum(are_correct) / float(are_correct.shape[0])\n",
    "print(error)"
   ]
  },
  {
   "cell_type": "code",
   "execution_count": null,
   "metadata": {},
   "outputs": [],
   "source": [
    "# Try Lasso for sparse coefficients\n",
    "# try ridge regression?\n",
    "\n",
    "# show the coefficients from the linear model: determine which words are informative"
   ]
  }
 ],
 "metadata": {
  "accelerator": "TPU",
  "colab": {
   "collapsed_sections": [],
   "name": "HW3_student_v4.ipynb",
   "provenance": []
  },
  "kernelspec": {
   "display_name": "Python 3.6.8 32-bit ('venv': venv)",
   "language": "python",
   "name": "python36832bitvenvvenv7c9ecefb2d8e4b76a75b16f06082a9df"
  },
  "language_info": {
   "codemirror_mode": {
    "name": "ipython",
    "version": 3
   },
   "file_extension": ".py",
   "mimetype": "text/x-python",
   "name": "python",
   "nbconvert_exporter": "python",
   "pygments_lexer": "ipython3",
   "version": "3.6.8-final"
  },
  "latex_envs": {
   "LaTeX_envs_menu_present": true,
   "autocomplete": true,
   "bibliofile": "biblio.bib",
   "cite_by": "apalike",
   "current_citInitial": 1,
   "eqLabelWithNumbers": true,
   "eqNumInitial": 1,
   "hotkeys": {
    "equation": "Ctrl-E",
    "itemize": "Ctrl-I"
   },
   "labels_anchors": false,
   "latex_user_defs": false,
   "report_style_numbering": false,
   "user_envs_cfg": false
  }
 },
 "nbformat": 4,
 "nbformat_minor": 1
}