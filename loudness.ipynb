{
 "cells": [
  {
   "cell_type": "markdown",
   "metadata": {
    "ExecuteTime": {
     "end_time": "2019-06-20T17:17:25.168179Z",
     "start_time": "2019-06-20T17:17:24.986130Z"
    },
    "colab_type": "text",
    "id": "Hjp__3bRh42K",
    "run_control": {
     "frozen": false,
     "read_only": false
    }
   },
   "source": [
    "# Spring 2020 CS4641 Project\n"
   ]
  },
  {
   "cell_type": "markdown",
   "metadata": {
    "colab_type": "text",
    "id": "3akj-Wgji85Z",
    "run_control": {
     "frozen": false,
     "read_only": false
    }
   },
   "source": [
    "### Environment Setup"
   ]
  },
  {
   "cell_type": "code",
   "execution_count": 1,
   "metadata": {
    "ExecuteTime": {
     "end_time": "2019-06-22T17:18:34.536577Z",
     "start_time": "2019-06-22T17:18:34.485825Z"
    },
    "colab": {},
    "colab_type": "code",
    "id": "XMefd5nTi4Zv",
    "run_control": {
     "frozen": false,
     "read_only": false
    }
   },
   "outputs": [],
   "source": [
    "import os\n",
    "from scipy import ndimage, misc\n",
    "from matplotlib import pyplot as plt\n",
    "import numpy as np\n",
    "import pandas as pd\n",
    "import pickle\n",
    "%matplotlib inline"
   ]
  },
  {
   "cell_type": "code",
   "execution_count": 2,
   "metadata": {},
   "outputs": [],
   "source": [
    "from sklearn import decomposition\n",
    "from sklearn import datasets\n",
    "from sklearn import linear_model\n",
    "from sklearn.linear_model import LogisticRegression\n",
    "from sklearn import svm\n",
    "from sklearn.ensemble import RandomForestClassifier\n",
    "from sklearn.model_selection import train_test_split\n",
    "from sklearn.naive_bayes import GaussianNB\n",
    "from sklearn.neural_network import MLPClassifier\n",
    "from sklearn import tree"
   ]
  },
  {
   "cell_type": "code",
   "execution_count": 3,
   "metadata": {},
   "outputs": [],
   "source": [
    "from mpl_toolkits.mplot3d import Axes3D\n",
    "from matplotlib.colors import ListedColormap\n",
    "from sklearn.preprocessing import StandardScaler\n",
    "from sklearn.datasets import make_moons, make_circles, make_classification"
   ]
  },
  {
   "cell_type": "code",
   "execution_count": 4,
   "metadata": {},
   "outputs": [],
   "source": [
    "df = pd.read_pickle('dataframe_with_vector_compressed.pkl', compression='zip')"
   ]
  },
  {
   "cell_type": "code",
   "execution_count": 5,
   "metadata": {},
   "outputs": [
    {
     "data": {
      "text/html": [
       "<div>\n",
       "<style scoped>\n",
       "    .dataframe tbody tr th:only-of-type {\n",
       "        vertical-align: middle;\n",
       "    }\n",
       "\n",
       "    .dataframe tbody tr th {\n",
       "        vertical-align: top;\n",
       "    }\n",
       "\n",
       "    .dataframe thead th {\n",
       "        text-align: right;\n",
       "    }\n",
       "</style>\n",
       "<table border=\"1\" class=\"dataframe\">\n",
       "  <thead>\n",
       "    <tr style=\"text-align: right;\">\n",
       "      <th></th>\n",
       "      <th>track_id</th>\n",
       "      <th>artist_name</th>\n",
       "      <th>duration</th>\n",
       "      <th>loudness</th>\n",
       "      <th>tempo</th>\n",
       "      <th>title</th>\n",
       "      <th>year</th>\n",
       "      <th>lyrics</th>\n",
       "      <th>tags</th>\n",
       "      <th>lyrics_vector</th>\n",
       "    </tr>\n",
       "  </thead>\n",
       "  <tbody>\n",
       "    <tr>\n",
       "      <th>0</th>\n",
       "      <td>TRMMMKI128F931D80D</td>\n",
       "      <td>Lena Philipsson</td>\n",
       "      <td>262.26893</td>\n",
       "      <td>-3.925</td>\n",
       "      <td>122.332</td>\n",
       "      <td>006</td>\n",
       "      <td>1998</td>\n",
       "      <td>1:23,2:5,3:13,4:10,5:4,6:9,7:1,8:4,9:4,10:1,11...</td>\n",
       "      <td>[[swedish, 100], [pop, 100]]</td>\n",
       "      <td>[0, 23, 5, 13, 10, 4, 9, 1, 4, 4, 1, 2, 2, 2, ...</td>\n",
       "    </tr>\n",
       "    <tr>\n",
       "      <th>1</th>\n",
       "      <td>TRMMMUT128F42646E8</td>\n",
       "      <td>Shawn Colvin</td>\n",
       "      <td>216.47628</td>\n",
       "      <td>-14.379</td>\n",
       "      <td>99.214</td>\n",
       "      <td>(Looking For) The Heart Of Saturday</td>\n",
       "      <td>1994</td>\n",
       "      <td>2:36,3:25,4:2,5:8,6:2,7:1,8:6,10:8,12:5,13:19,...</td>\n",
       "      <td>[[cover, 100]]</td>\n",
       "      <td>[0, 0, 36, 25, 2, 8, 2, 1, 6, 0, 8, 0, 5, 19, ...</td>\n",
       "    </tr>\n",
       "    <tr>\n",
       "      <th>2</th>\n",
       "      <td>TRMMMQY128F92F0EA3</td>\n",
       "      <td>Dying Fetus</td>\n",
       "      <td>196.02240</td>\n",
       "      <td>-6.366</td>\n",
       "      <td>189.346</td>\n",
       "      <td>Ethos of Coercion</td>\n",
       "      <td>2009</td>\n",
       "      <td>2:10,3:1,4:2,5:1,9:1,10:1,13:9,14:2,18:1,21:1,...</td>\n",
       "      <td>[[Technical Death Metal, 100], [Brutal Death M...</td>\n",
       "      <td>[0, 0, 10, 1, 2, 1, 0, 0, 0, 1, 1, 0, 0, 9, 2,...</td>\n",
       "    </tr>\n",
       "    <tr>\n",
       "      <th>3</th>\n",
       "      <td>TRMMMTK128F424EF7C</td>\n",
       "      <td>Emery</td>\n",
       "      <td>217.57342</td>\n",
       "      <td>-4.867</td>\n",
       "      <td>88.423</td>\n",
       "      <td>Rock-N-Rule</td>\n",
       "      <td>2007</td>\n",
       "      <td>1:20,2:8,3:15,4:4,5:5,6:6,7:2,8:9,9:12,10:2,11...</td>\n",
       "      <td>[[post-hardcore, 100], [emo, 75], [rock, 50], ...</td>\n",
       "      <td>[0, 20, 8, 15, 4, 5, 6, 2, 9, 12, 2, 2, 7, 1, ...</td>\n",
       "    </tr>\n",
       "    <tr>\n",
       "      <th>4</th>\n",
       "      <td>TRMMMQV12903CA201E</td>\n",
       "      <td>Rev. Timothy Wright</td>\n",
       "      <td>353.77587</td>\n",
       "      <td>-7.569</td>\n",
       "      <td>167.850</td>\n",
       "      <td>I Made It Over</td>\n",
       "      <td>0</td>\n",
       "      <td>1:24,2:1,3:15,4:4,5:4,7:4,8:12,11:2,35:4,40:2,...</td>\n",
       "      <td>[[THE WRIGHT WAY, 100]]</td>\n",
       "      <td>[0, 24, 1, 15, 4, 4, 0, 4, 12, 0, 0, 2, 0, 0, ...</td>\n",
       "    </tr>\n",
       "    <tr>\n",
       "      <th>5</th>\n",
       "      <td>TRMMMNO128F93539AA</td>\n",
       "      <td>Martin Sexton</td>\n",
       "      <td>319.81669</td>\n",
       "      <td>-7.185</td>\n",
       "      <td>187.378</td>\n",
       "      <td>In The Journey</td>\n",
       "      <td>2001</td>\n",
       "      <td>1:30,2:15,3:4,4:6,5:15,6:5,7:3,8:13,9:11,10:6,...</td>\n",
       "      <td>[[singer-songwriter, 100], [rock, 66], [jazz, ...</td>\n",
       "      <td>[0, 30, 15, 4, 6, 15, 5, 3, 13, 11, 6, 5, 2, 2...</td>\n",
       "    </tr>\n",
       "    <tr>\n",
       "      <th>6</th>\n",
       "      <td>TRMMMPJ128F9306985</td>\n",
       "      <td>Christian Castro</td>\n",
       "      <td>258.89914</td>\n",
       "      <td>-4.660</td>\n",
       "      <td>157.862</td>\n",
       "      <td>Tu Vida Con La Mía</td>\n",
       "      <td>0</td>\n",
       "      <td>6:1,7:2,38:11,42:5,47:3,77:15,90:6,102:5,104:4...</td>\n",
       "      <td>[[cristian castro, 100], [azul, 100], [Roma, 5...</td>\n",
       "      <td>[0, 0, 0, 0, 0, 0, 1, 2, 0, 0, 0, 0, 0, 0, 0, ...</td>\n",
       "    </tr>\n",
       "    <tr>\n",
       "      <th>7</th>\n",
       "      <td>TRMMMRZ128F4265EB4</td>\n",
       "      <td>Aerosmith</td>\n",
       "      <td>253.70077</td>\n",
       "      <td>-3.278</td>\n",
       "      <td>67.060</td>\n",
       "      <td>I'm Ready</td>\n",
       "      <td>2004</td>\n",
       "      <td>1:23,2:1,3:13,4:2,5:2,6:5,7:4,8:2,9:2,12:1,13:...</td>\n",
       "      <td>[[classic rock, 100], [rock, 83], [hard rock, ...</td>\n",
       "      <td>[0, 23, 1, 13, 2, 2, 5, 4, 2, 2, 0, 0, 1, 1, 0...</td>\n",
       "    </tr>\n",
       "    <tr>\n",
       "      <th>8</th>\n",
       "      <td>TRMMMKQ128F92EBCB5</td>\n",
       "      <td>Kreator</td>\n",
       "      <td>372.42730</td>\n",
       "      <td>-6.663</td>\n",
       "      <td>191.665</td>\n",
       "      <td>All of the same blood</td>\n",
       "      <td>2001</td>\n",
       "      <td>2:12,3:2,4:3,5:4,10:2,12:1,13:9,15:2,17:1,21:2...</td>\n",
       "      <td>[[thrash metal, 100], [metal, 32], [thrash, 23...</td>\n",
       "      <td>[0, 0, 12, 2, 3, 4, 0, 0, 0, 0, 2, 0, 1, 9, 0,...</td>\n",
       "    </tr>\n",
       "    <tr>\n",
       "      <th>9</th>\n",
       "      <td>TRMMMBU128F9305AC3</td>\n",
       "      <td>The Maytals</td>\n",
       "      <td>175.20281</td>\n",
       "      <td>-9.049</td>\n",
       "      <td>156.753</td>\n",
       "      <td>Night And Day</td>\n",
       "      <td>1994</td>\n",
       "      <td>1:6,2:4,3:4,4:2,5:7,10:1,11:5,13:1,21:2,27:1,2...</td>\n",
       "      <td>[[reggae, 100], [rocksteady, 75], [EARLY REGGA...</td>\n",
       "      <td>[0, 6, 4, 4, 2, 7, 0, 0, 0, 0, 1, 5, 0, 1, 0, ...</td>\n",
       "    </tr>\n",
       "  </tbody>\n",
       "</table>\n",
       "</div>"
      ],
      "text/plain": [
       "             track_id          artist_name   duration  loudness    tempo  \\\n",
       "0  TRMMMKI128F931D80D      Lena Philipsson  262.26893    -3.925  122.332   \n",
       "1  TRMMMUT128F42646E8         Shawn Colvin  216.47628   -14.379   99.214   \n",
       "2  TRMMMQY128F92F0EA3          Dying Fetus  196.02240    -6.366  189.346   \n",
       "3  TRMMMTK128F424EF7C                Emery  217.57342    -4.867   88.423   \n",
       "4  TRMMMQV12903CA201E  Rev. Timothy Wright  353.77587    -7.569  167.850   \n",
       "5  TRMMMNO128F93539AA        Martin Sexton  319.81669    -7.185  187.378   \n",
       "6  TRMMMPJ128F9306985     Christian Castro  258.89914    -4.660  157.862   \n",
       "7  TRMMMRZ128F4265EB4            Aerosmith  253.70077    -3.278   67.060   \n",
       "8  TRMMMKQ128F92EBCB5              Kreator  372.42730    -6.663  191.665   \n",
       "9  TRMMMBU128F9305AC3          The Maytals  175.20281    -9.049  156.753   \n",
       "\n",
       "                                 title  year  \\\n",
       "0                                  006  1998   \n",
       "1  (Looking For) The Heart Of Saturday  1994   \n",
       "2                    Ethos of Coercion  2009   \n",
       "3                          Rock-N-Rule  2007   \n",
       "4                       I Made It Over     0   \n",
       "5                       In The Journey  2001   \n",
       "6                   Tu Vida Con La Mía     0   \n",
       "7                            I'm Ready  2004   \n",
       "8                All of the same blood  2001   \n",
       "9                        Night And Day  1994   \n",
       "\n",
       "                                              lyrics  \\\n",
       "0  1:23,2:5,3:13,4:10,5:4,6:9,7:1,8:4,9:4,10:1,11...   \n",
       "1  2:36,3:25,4:2,5:8,6:2,7:1,8:6,10:8,12:5,13:19,...   \n",
       "2  2:10,3:1,4:2,5:1,9:1,10:1,13:9,14:2,18:1,21:1,...   \n",
       "3  1:20,2:8,3:15,4:4,5:5,6:6,7:2,8:9,9:12,10:2,11...   \n",
       "4  1:24,2:1,3:15,4:4,5:4,7:4,8:12,11:2,35:4,40:2,...   \n",
       "5  1:30,2:15,3:4,4:6,5:15,6:5,7:3,8:13,9:11,10:6,...   \n",
       "6  6:1,7:2,38:11,42:5,47:3,77:15,90:6,102:5,104:4...   \n",
       "7  1:23,2:1,3:13,4:2,5:2,6:5,7:4,8:2,9:2,12:1,13:...   \n",
       "8  2:12,3:2,4:3,5:4,10:2,12:1,13:9,15:2,17:1,21:2...   \n",
       "9  1:6,2:4,3:4,4:2,5:7,10:1,11:5,13:1,21:2,27:1,2...   \n",
       "\n",
       "                                                tags  \\\n",
       "0                       [[swedish, 100], [pop, 100]]   \n",
       "1                                     [[cover, 100]]   \n",
       "2  [[Technical Death Metal, 100], [Brutal Death M...   \n",
       "3  [[post-hardcore, 100], [emo, 75], [rock, 50], ...   \n",
       "4                            [[THE WRIGHT WAY, 100]]   \n",
       "5  [[singer-songwriter, 100], [rock, 66], [jazz, ...   \n",
       "6  [[cristian castro, 100], [azul, 100], [Roma, 5...   \n",
       "7  [[classic rock, 100], [rock, 83], [hard rock, ...   \n",
       "8  [[thrash metal, 100], [metal, 32], [thrash, 23...   \n",
       "9  [[reggae, 100], [rocksteady, 75], [EARLY REGGA...   \n",
       "\n",
       "                                       lyrics_vector  \n",
       "0  [0, 23, 5, 13, 10, 4, 9, 1, 4, 4, 1, 2, 2, 2, ...  \n",
       "1  [0, 0, 36, 25, 2, 8, 2, 1, 6, 0, 8, 0, 5, 19, ...  \n",
       "2  [0, 0, 10, 1, 2, 1, 0, 0, 0, 1, 1, 0, 0, 9, 2,...  \n",
       "3  [0, 20, 8, 15, 4, 5, 6, 2, 9, 12, 2, 2, 7, 1, ...  \n",
       "4  [0, 24, 1, 15, 4, 4, 0, 4, 12, 0, 0, 2, 0, 0, ...  \n",
       "5  [0, 30, 15, 4, 6, 15, 5, 3, 13, 11, 6, 5, 2, 2...  \n",
       "6  [0, 0, 0, 0, 0, 0, 1, 2, 0, 0, 0, 0, 0, 0, 0, ...  \n",
       "7  [0, 23, 1, 13, 2, 2, 5, 4, 2, 2, 0, 0, 1, 1, 0...  \n",
       "8  [0, 0, 12, 2, 3, 4, 0, 0, 0, 0, 2, 0, 1, 9, 0,...  \n",
       "9  [0, 6, 4, 4, 2, 7, 0, 0, 0, 0, 1, 5, 0, 1, 0, ...  "
      ]
     },
     "execution_count": 5,
     "metadata": {},
     "output_type": "execute_result"
    }
   ],
   "source": [
    "df.head(10)"
   ]
  },
  {
   "cell_type": "markdown",
   "metadata": {},
   "source": [
    "# Loudness"
   ]
  },
  {
   "cell_type": "code",
   "execution_count": 6,
   "metadata": {},
   "outputs": [
    {
     "data": {
      "text/plain": [
       "count    237662.000000\n",
       "mean         -8.634050\n",
       "std           4.141223\n",
       "min         -47.691000\n",
       "25%         -10.898000\n",
       "50%          -7.696000\n",
       "75%          -5.575000\n",
       "max           3.147000\n",
       "Name: loudness, dtype: float64"
      ]
     },
     "execution_count": 6,
     "metadata": {},
     "output_type": "execute_result"
    }
   ],
   "source": [
    "df['loudness'].describe()\n"
   ]
  },
  {
   "cell_type": "code",
   "execution_count": 7,
   "metadata": {},
   "outputs": [
    {
     "data": {
      "image/png": "[encoded data removed]",
      "text/plain": [
       "<Figure size 432x288 with 1 Axes>"
      ]
     },
     "metadata": {
      "needs_background": "light"
     },
     "output_type": "display_data"
    }
   ],
   "source": [
    "boxplot = df.boxplot(column=['loudness'])"
   ]
  },
  {
   "cell_type": "code",
   "execution_count": 6,
   "metadata": {},
   "outputs": [
    {
     "data": {
      "text/html": [
       "<div>\n",
       "<style scoped>\n",
       "    .dataframe tbody tr th:only-of-type {\n",
       "        vertical-align: middle;\n",
       "    }\n",
       "\n",
       "    .dataframe tbody tr th {\n",
       "        vertical-align: top;\n",
       "    }\n",
       "\n",
       "    .dataframe thead th {\n",
       "        text-align: right;\n",
       "    }\n",
       "</style>\n",
       "<table border=\"1\" class=\"dataframe\">\n",
       "  <thead>\n",
       "    <tr style=\"text-align: right;\">\n",
       "      <th></th>\n",
       "      <th>track_id</th>\n",
       "      <th>loudness</th>\n",
       "      <th>lyrics_vector</th>\n",
       "    </tr>\n",
       "  </thead>\n",
       "  <tbody>\n",
       "    <tr>\n",
       "      <th>0</th>\n",
       "      <td>TRMMMKI128F931D80D</td>\n",
       "      <td>-3.925</td>\n",
       "      <td>[0, 23, 5, 13, 10, 4, 9, 1, 4, 4, 1, 2, 2, 2, ...</td>\n",
       "    </tr>\n",
       "    <tr>\n",
       "      <th>1</th>\n",
       "      <td>TRMMMUT128F42646E8</td>\n",
       "      <td>-14.379</td>\n",
       "      <td>[0, 0, 36, 25, 2, 8, 2, 1, 6, 0, 8, 0, 5, 19, ...</td>\n",
       "    </tr>\n",
       "    <tr>\n",
       "      <th>2</th>\n",
       "      <td>TRMMMQY128F92F0EA3</td>\n",
       "      <td>-6.366</td>\n",
       "      <td>[0, 0, 10, 1, 2, 1, 0, 0, 0, 1, 1, 0, 0, 9, 2,...</td>\n",
       "    </tr>\n",
       "    <tr>\n",
       "      <th>3</th>\n",
       "      <td>TRMMMTK128F424EF7C</td>\n",
       "      <td>-4.867</td>\n",
       "      <td>[0, 20, 8, 15, 4, 5, 6, 2, 9, 12, 2, 2, 7, 1, ...</td>\n",
       "    </tr>\n",
       "    <tr>\n",
       "      <th>4</th>\n",
       "      <td>TRMMMQV12903CA201E</td>\n",
       "      <td>-7.569</td>\n",
       "      <td>[0, 24, 1, 15, 4, 4, 0, 4, 12, 0, 0, 2, 0, 0, ...</td>\n",
       "    </tr>\n",
       "    <tr>\n",
       "      <th>5</th>\n",
       "      <td>TRMMMNO128F93539AA</td>\n",
       "      <td>-7.185</td>\n",
       "      <td>[0, 30, 15, 4, 6, 15, 5, 3, 13, 11, 6, 5, 2, 2...</td>\n",
       "    </tr>\n",
       "    <tr>\n",
       "      <th>6</th>\n",
       "      <td>TRMMMPJ128F9306985</td>\n",
       "      <td>-4.660</td>\n",
       "      <td>[0, 0, 0, 0, 0, 0, 1, 2, 0, 0, 0, 0, 0, 0, 0, ...</td>\n",
       "    </tr>\n",
       "    <tr>\n",
       "      <th>7</th>\n",
       "      <td>TRMMMRZ128F4265EB4</td>\n",
       "      <td>-3.278</td>\n",
       "      <td>[0, 23, 1, 13, 2, 2, 5, 4, 2, 2, 0, 0, 1, 1, 0...</td>\n",
       "    </tr>\n",
       "    <tr>\n",
       "      <th>8</th>\n",
       "      <td>TRMMMKQ128F92EBCB5</td>\n",
       "      <td>-6.663</td>\n",
       "      <td>[0, 0, 12, 2, 3, 4, 0, 0, 0, 0, 2, 0, 1, 9, 0,...</td>\n",
       "    </tr>\n",
       "    <tr>\n",
       "      <th>9</th>\n",
       "      <td>TRMMMBU128F9305AC3</td>\n",
       "      <td>-9.049</td>\n",
       "      <td>[0, 6, 4, 4, 2, 7, 0, 0, 0, 0, 1, 5, 0, 1, 0, ...</td>\n",
       "    </tr>\n",
       "  </tbody>\n",
       "</table>\n",
       "</div>"
      ],
      "text/plain": [
       "             track_id  loudness  \\\n",
       "0  TRMMMKI128F931D80D    -3.925   \n",
       "1  TRMMMUT128F42646E8   -14.379   \n",
       "2  TRMMMQY128F92F0EA3    -6.366   \n",
       "3  TRMMMTK128F424EF7C    -4.867   \n",
       "4  TRMMMQV12903CA201E    -7.569   \n",
       "5  TRMMMNO128F93539AA    -7.185   \n",
       "6  TRMMMPJ128F9306985    -4.660   \n",
       "7  TRMMMRZ128F4265EB4    -3.278   \n",
       "8  TRMMMKQ128F92EBCB5    -6.663   \n",
       "9  TRMMMBU128F9305AC3    -9.049   \n",
       "\n",
       "                                       lyrics_vector  \n",
       "0  [0, 23, 5, 13, 10, 4, 9, 1, 4, 4, 1, 2, 2, 2, ...  \n",
       "1  [0, 0, 36, 25, 2, 8, 2, 1, 6, 0, 8, 0, 5, 19, ...  \n",
       "2  [0, 0, 10, 1, 2, 1, 0, 0, 0, 1, 1, 0, 0, 9, 2,...  \n",
       "3  [0, 20, 8, 15, 4, 5, 6, 2, 9, 12, 2, 2, 7, 1, ...  \n",
       "4  [0, 24, 1, 15, 4, 4, 0, 4, 12, 0, 0, 2, 0, 0, ...  \n",
       "5  [0, 30, 15, 4, 6, 15, 5, 3, 13, 11, 6, 5, 2, 2...  \n",
       "6  [0, 0, 0, 0, 0, 0, 1, 2, 0, 0, 0, 0, 0, 0, 0, ...  \n",
       "7  [0, 23, 1, 13, 2, 2, 5, 4, 2, 2, 0, 0, 1, 1, 0...  \n",
       "8  [0, 0, 12, 2, 3, 4, 0, 0, 0, 0, 2, 0, 1, 9, 0,...  \n",
       "9  [0, 6, 4, 4, 2, 7, 0, 0, 0, 0, 1, 5, 0, 1, 0, ...  "
      ]
     },
     "execution_count": 6,
     "metadata": {},
     "output_type": "execute_result"
    }
   ],
   "source": [
    "df_loudness = df\n",
    "df_loudness = df_loudness.drop('artist_name', axis = 1)\n",
    "df_loudness = df_loudness.drop('duration', axis = 1)\n",
    "df_loudness = df_loudness.drop('tempo', axis = 1)\n",
    "df_loudness = df_loudness.drop('title', axis = 1)\n",
    "df_loudness = df_loudness.drop('year', axis = 1)\n",
    "df_loudness = df_loudness.drop('lyrics', axis = 1)\n",
    "df_loudness = df_loudness.drop('tags', axis = 1)\n",
    "df_loudness.head(10)"
   ]
  },
  {
   "cell_type": "markdown",
   "metadata": {},
   "source": [
    "### We need to remove rows without loudness info, there turns out all of them have loudness info"
   ]
  },
  {
   "cell_type": "code",
   "execution_count": 7,
   "metadata": {},
   "outputs": [
    {
     "name": "stdout",
     "output_type": "stream",
     "text": [
      "count    237662.000000\n",
      "mean         -8.634050\n",
      "std           4.141223\n",
      "min         -47.691000\n",
      "25%         -10.898000\n",
      "50%          -7.696000\n",
      "75%          -5.575000\n",
      "max           3.147000\n",
      "Name: loudness, dtype: float64\n",
      "track_id         0\n",
      "loudness         0\n",
      "lyrics_vector    0\n",
      "dtype: int64\n",
      "count    237662.000000\n",
      "mean         -8.634050\n",
      "std           4.141223\n",
      "min         -47.691000\n",
      "25%         -10.898000\n",
      "50%          -7.696000\n",
      "75%          -5.575000\n",
      "max           3.147000\n",
      "Name: loudness, dtype: float64\n"
     ]
    }
   ],
   "source": [
    "print(df_loudness['loudness'].describe())\n",
    "print(df_loudness[df_loudness['loudness'] == 0].count())\n",
    "df_loudness = df_loudness.replace(0, np.nan)\n",
    "df_loudness = df_loudness.dropna(how='any', axis=0)\n",
    "print(df_loudness['loudness'].describe())"
   ]
  },
  {
   "cell_type": "markdown",
   "metadata": {},
   "source": [
    "### We use 75%, 50%, 25% to classify our data.\n",
    "#### 0: 0\\~25%; 1: 25\\~50%; 2: 50\\~75%; 3: 75\\~100%"
   ]
  },
  {
   "cell_type": "code",
   "execution_count": 8,
   "metadata": {},
   "outputs": [
    {
     "data": {
      "text/html": [
       "<div>\n",
       "<style scoped>\n",
       "    .dataframe tbody tr th:only-of-type {\n",
       "        vertical-align: middle;\n",
       "    }\n",
       "\n",
       "    .dataframe tbody tr th {\n",
       "        vertical-align: top;\n",
       "    }\n",
       "\n",
       "    .dataframe thead th {\n",
       "        text-align: right;\n",
       "    }\n",
       "</style>\n",
       "<table border=\"1\" class=\"dataframe\">\n",
       "  <thead>\n",
       "    <tr style=\"text-align: right;\">\n",
       "      <th></th>\n",
       "      <th>track_id</th>\n",
       "      <th>loudness</th>\n",
       "      <th>lyrics_vector</th>\n",
       "      <th>loudness_type</th>\n",
       "    </tr>\n",
       "  </thead>\n",
       "  <tbody>\n",
       "    <tr>\n",
       "      <th>0</th>\n",
       "      <td>TRMMMKI128F931D80D</td>\n",
       "      <td>-3.925</td>\n",
       "      <td>[0, 23, 5, 13, 10, 4, 9, 1, 4, 4, 1, 2, 2, 2, ...</td>\n",
       "      <td>3</td>\n",
       "    </tr>\n",
       "    <tr>\n",
       "      <th>1</th>\n",
       "      <td>TRMMMUT128F42646E8</td>\n",
       "      <td>-14.379</td>\n",
       "      <td>[0, 0, 36, 25, 2, 8, 2, 1, 6, 0, 8, 0, 5, 19, ...</td>\n",
       "      <td>0</td>\n",
       "    </tr>\n",
       "    <tr>\n",
       "      <th>2</th>\n",
       "      <td>TRMMMQY128F92F0EA3</td>\n",
       "      <td>-6.366</td>\n",
       "      <td>[0, 0, 10, 1, 2, 1, 0, 0, 0, 1, 1, 0, 0, 9, 2,...</td>\n",
       "      <td>2</td>\n",
       "    </tr>\n",
       "    <tr>\n",
       "      <th>3</th>\n",
       "      <td>TRMMMTK128F424EF7C</td>\n",
       "      <td>-4.867</td>\n",
       "      <td>[0, 20, 8, 15, 4, 5, 6, 2, 9, 12, 2, 2, 7, 1, ...</td>\n",
       "      <td>3</td>\n",
       "    </tr>\n",
       "    <tr>\n",
       "      <th>4</th>\n",
       "      <td>TRMMMQV12903CA201E</td>\n",
       "      <td>-7.569</td>\n",
       "      <td>[0, 24, 1, 15, 4, 4, 0, 4, 12, 0, 0, 2, 0, 0, ...</td>\n",
       "      <td>2</td>\n",
       "    </tr>\n",
       "    <tr>\n",
       "      <th>5</th>\n",
       "      <td>TRMMMNO128F93539AA</td>\n",
       "      <td>-7.185</td>\n",
       "      <td>[0, 30, 15, 4, 6, 15, 5, 3, 13, 11, 6, 5, 2, 2...</td>\n",
       "      <td>2</td>\n",
       "    </tr>\n",
       "    <tr>\n",
       "      <th>6</th>\n",
       "      <td>TRMMMPJ128F9306985</td>\n",
       "      <td>-4.660</td>\n",
       "      <td>[0, 0, 0, 0, 0, 0, 1, 2, 0, 0, 0, 0, 0, 0, 0, ...</td>\n",
       "      <td>3</td>\n",
       "    </tr>\n",
       "    <tr>\n",
       "      <th>7</th>\n",
       "      <td>TRMMMRZ128F4265EB4</td>\n",
       "      <td>-3.278</td>\n",
       "      <td>[0, 23, 1, 13, 2, 2, 5, 4, 2, 2, 0, 0, 1, 1, 0...</td>\n",
       "      <td>3</td>\n",
       "    </tr>\n",
       "    <tr>\n",
       "      <th>8</th>\n",
       "      <td>TRMMMKQ128F92EBCB5</td>\n",
       "      <td>-6.663</td>\n",
       "      <td>[0, 0, 12, 2, 3, 4, 0, 0, 0, 0, 2, 0, 1, 9, 0,...</td>\n",
       "      <td>2</td>\n",
       "    </tr>\n",
       "    <tr>\n",
       "      <th>9</th>\n",
       "      <td>TRMMMBU128F9305AC3</td>\n",
       "      <td>-9.049</td>\n",
       "      <td>[0, 6, 4, 4, 2, 7, 0, 0, 0, 0, 1, 5, 0, 1, 0, ...</td>\n",
       "      <td>1</td>\n",
       "    </tr>\n",
       "  </tbody>\n",
       "</table>\n",
       "</div>"
      ],
      "text/plain": [
       "             track_id  loudness  \\\n",
       "0  TRMMMKI128F931D80D    -3.925   \n",
       "1  TRMMMUT128F42646E8   -14.379   \n",
       "2  TRMMMQY128F92F0EA3    -6.366   \n",
       "3  TRMMMTK128F424EF7C    -4.867   \n",
       "4  TRMMMQV12903CA201E    -7.569   \n",
       "5  TRMMMNO128F93539AA    -7.185   \n",
       "6  TRMMMPJ128F9306985    -4.660   \n",
       "7  TRMMMRZ128F4265EB4    -3.278   \n",
       "8  TRMMMKQ128F92EBCB5    -6.663   \n",
       "9  TRMMMBU128F9305AC3    -9.049   \n",
       "\n",
       "                                       lyrics_vector  loudness_type  \n",
       "0  [0, 23, 5, 13, 10, 4, 9, 1, 4, 4, 1, 2, 2, 2, ...              3  \n",
       "1  [0, 0, 36, 25, 2, 8, 2, 1, 6, 0, 8, 0, 5, 19, ...              0  \n",
       "2  [0, 0, 10, 1, 2, 1, 0, 0, 0, 1, 1, 0, 0, 9, 2,...              2  \n",
       "3  [0, 20, 8, 15, 4, 5, 6, 2, 9, 12, 2, 2, 7, 1, ...              3  \n",
       "4  [0, 24, 1, 15, 4, 4, 0, 4, 12, 0, 0, 2, 0, 0, ...              2  \n",
       "5  [0, 30, 15, 4, 6, 15, 5, 3, 13, 11, 6, 5, 2, 2...              2  \n",
       "6  [0, 0, 0, 0, 0, 0, 1, 2, 0, 0, 0, 0, 0, 0, 0, ...              3  \n",
       "7  [0, 23, 1, 13, 2, 2, 5, 4, 2, 2, 0, 0, 1, 1, 0...              3  \n",
       "8  [0, 0, 12, 2, 3, 4, 0, 0, 0, 0, 2, 0, 1, 9, 0,...              2  \n",
       "9  [0, 6, 4, 4, 2, 7, 0, 0, 0, 0, 1, 5, 0, 1, 0, ...              1  "
      ]
     },
     "execution_count": 8,
     "metadata": {},
     "output_type": "execute_result"
    }
   ],
   "source": [
    "def f(row):\n",
    "    if row['loudness'] >= -5.575000:\n",
    "        val = 3\n",
    "    elif row['loudness'] >= -7.696000:\n",
    "        val = 2\n",
    "    elif row['loudness'] >= -10.898000:\n",
    "        val = 1\n",
    "    else:\n",
    "        val = 0\n",
    "    return val\n",
    "df_loudness['loudness_type'] = df_loudness.apply(f, axis=1)\n",
    "df_loudness.head(10)"
   ]
  },
  {
   "cell_type": "code",
   "execution_count": 9,
   "metadata": {},
   "outputs": [
    {
     "name": "stdout",
     "output_type": "stream",
     "text": [
      "[[23  5 13 ...  0  0  0]\n",
      " [ 0 36 25 ...  0  0  0]\n",
      " [ 0 10  1 ...  0  0  0]\n",
      " ...\n",
      " [ 0  1  0 ...  0  0  0]\n",
      " [ 8  6  6 ...  0  0  0]\n",
      " [ 0 15  1 ...  0  0  0]]\n",
      "(237662, 5000)\n",
      "[3 0 2 3 2 2 3 3 2 1 1 3 0 0 1 3 2 3 2 1]\n",
      "(237662,)\n"
     ]
    }
   ],
   "source": [
    "# Get data to plot\n",
    "X_loudness = np.array(df_loudness[\"lyrics_vector\"].values.tolist())[:,1:]\n",
    "print(X_loudness)\n",
    "print(X_loudness.shape)\n",
    "\n",
    "y_loudness = np.array(df_loudness[\"loudness_type\"])\n",
    "print(y_loudness[:20])\n",
    "print(y_loudness.shape)"
   ]
  },
  {
   "cell_type": "code",
   "execution_count": 13,
   "metadata": {},
   "outputs": [
    {
     "data": {
      "image/png": "[encoded data removed]",
      "text/plain": [
       "<Figure size 432x288 with 1 Axes>"
      ]
     },
     "metadata": {
      "needs_background": "light"
     },
     "output_type": "display_data"
    }
   ],
   "source": [
    "y_loudness_ori = np.array(df_loudness[\"loudness\"])\n",
    "plt.xlabel('Loudness')\n",
    "plt.ylabel('Frequency')\n",
    "plt.hist(y_loudness_ori, bins=40)\n",
    "plt.show()"
   ]
  },
  {
   "cell_type": "markdown",
   "metadata": {},
   "source": [
    "## PCA"
   ]
  },
  {
   "cell_type": "code",
   "execution_count": 22,
   "metadata": {},
   "outputs": [
    {
     "name": "stdout",
     "output_type": "stream",
     "text": [
      "Starting PCA Decomposition ...\n",
      "Fitting Data ...\n",
      "Transforming X ...\n",
      "(237662, 600)\n",
      "Variance retained by top 20 components\n",
      "[0.1840761  0.0616306  0.04532879 0.02502119 0.02172465 0.0182933\n",
      " 0.01549365 0.01477086 0.01313112 0.01195562 0.01044135 0.01004401\n",
      " 0.0096278  0.00911801 0.00825723 0.0081365  0.0076984  0.00752297\n",
      " 0.0072434  0.00692066]\n",
      "Variance Retained: 0.8984850322024853\n"
     ]
    }
   ],
   "source": [
    "# Apply PCA\n",
    "print(\"Starting PCA Decomposition ...\")\n",
    "pca = decomposition.TruncatedSVD(n_components=600)\n",
    "print(\"Fitting Data ...\")\n",
    "pca.fit(X_loudness)\n",
    "print(\"Transforming X ...\")\n",
    "X_loudness_transform = pca.transform(X_loudness)\n",
    "print(X_loudness_transform.shape)\n",
    "variance = pca.explained_variance_ratio_\n",
    "print(\"Variance retained by top 20 components\")\n",
    "print(variance[:20])\n",
    "print(\"Variance Retained: \" + str(np.sum(variance)))"
   ]
  },
  {
   "cell_type": "code",
   "execution_count": 15,
   "metadata": {},
   "outputs": [
    {
     "data": {
      "text/plain": [
       "Text(0, 0.5, 'Retained Variance')"
      ]
     },
     "execution_count": 15,
     "metadata": {},
     "output_type": "execute_result"
    },
    {
     "data": {
      "image/png": "[encoded data removed]",
      "text/plain": [
       "<Figure size 432x288 with 1 Axes>"
      ]
     },
     "metadata": {
      "needs_background": "light"
     },
     "output_type": "display_data"
    }
   ],
   "source": [
    "a = [0.1840761, 0.0616306, 0.04532879, 0.02502119, 0.02172465, 0.0182933,\n",
    " 0.01549365, 0.01477086, 0.01313112, 0.01195562, 0.01044135, 0.01004401,\n",
    " 0.0096278,  0.00911801, 0.00825723, 0.0081365,  0.0076984,  0.00752297,\n",
    " 0.0072434, 0.00692066]\n",
    "\n",
    "plt.bar(range(20),a)\n",
    "plt.xlabel(\"PCA Components\")\n",
    "plt.ylabel(\"Retained Variance\")"
   ]
  },
  {
   "cell_type": "code",
   "execution_count": 17,
   "metadata": {},
   "outputs": [
    {
     "name": "stdout",
     "output_type": "stream",
     "text": [
      "0.4964362100000001\n"
     ]
    }
   ],
   "source": [
    "print(sum(a))"
   ]
  },
  {
   "cell_type": "code",
   "execution_count": 23,
   "metadata": {},
   "outputs": [],
   "source": [
    "pd.DataFrame(X_loudness_transform).to_pickle(\"pca_loudness.pkl\")"
   ]
  },
  {
   "cell_type": "code",
   "execution_count": 20,
   "metadata": {},
   "outputs": [],
   "source": [
    "df_pca = pd.read_pickle('pca_loudness.pkl')\n",
    "X_pca = df_pca.to_numpy()"
   ]
  },
  {
   "cell_type": "code",
   "execution_count": 12,
   "metadata": {},
   "outputs": [
    {
     "name": "stdout",
     "output_type": "stream",
     "text": [
      "[[ 3.07003874e+01  9.22572316e+00  6.59715844e+00 ... -6.31225449e-01\n",
      "  -6.18479225e-01  6.31809377e-02]\n",
      " [ 3.80039726e+01 -2.12329863e+01 -2.29781861e+01 ...  1.38715436e-01\n",
      "  -6.97354535e-01  3.10087229e-01]\n",
      " [ 7.33690619e+00 -8.39194868e+00 -1.69372859e+00 ... -7.22993229e-02\n",
      "  -9.90140528e-02  2.17653462e-02]\n",
      " ...\n",
      " [ 2.49285438e+00 -1.51289711e+00 -3.55336387e-01 ...  3.43173721e-01\n",
      "   6.45812350e-02 -4.65134603e-01]\n",
      " [ 1.55466522e+01  1.87964603e-01  9.99111480e-02 ...  2.59579837e-02\n",
      "   5.42255405e-02  3.04877485e-01]\n",
      " [ 2.16497833e+01 -1.60346455e+01 -1.89842487e+00 ...  5.44132645e-01\n",
      "   6.49669890e-01 -1.50201968e-01]]\n"
     ]
    }
   ],
   "source": [
    "print(X_pca)"
   ]
  },
  {
   "cell_type": "code",
   "execution_count": 26,
   "metadata": {},
   "outputs": [
    {
     "data": {
      "image/png": "[encoded data removed]",
      "text/plain": [
       "<Figure size 432x288 with 1 Axes>"
      ]
     },
     "metadata": {
      "needs_background": "light"
     },
     "output_type": "display_data"
    }
   ],
   "source": [
    "fig = plt.figure()\n",
    "ax = fig.add_subplot(111, projection='3d')\n",
    "ax.scatter(X_loudness_transform[:,0], X_loudness_transform[:,1], X_loudness_transform[:,2], c = y_loudness, marker = 'o')\n",
    "plt.show()"
   ]
  },
  {
   "cell_type": "code",
   "execution_count": 27,
   "metadata": {
    "scrolled": true
   },
   "outputs": [
    {
     "data": {
      "image/png": "[encoded data removed]",
      "text/plain": [
       "<Figure size 432x288 with 1 Axes>"
      ]
     },
     "metadata": {
      "needs_background": "light"
     },
     "output_type": "display_data"
    }
   ],
   "source": [
    "fig, ax = plt.subplots()\n",
    "ax.scatter(X_loudness_transform[:,0], X_loudness_transform[:,1], c = y_loudness, marker = 'o')\n",
    "plt.show()"
   ]
  },
  {
   "cell_type": "markdown",
   "metadata": {},
   "source": [
    "## Plot for Random Forest on PCA Data"
   ]
  },
  {
   "cell_type": "code",
   "execution_count": null,
   "metadata": {},
   "outputs": [],
   "source": [
    "h = .02\n",
    "fig, (ax1, ax2) = plt.subplots(1, 2)\n",
    "X, y = X_pca[:,:2],y_loudness\n",
    "X_train, X_test, y_train, y_test = train_test_split(X, y, test_size=0.3, random_state=0)\n",
    "x_min, x_max = X[:, 0].min() - .5, X[:, 0].max() + .5\n",
    "y_min, y_max = X[:, 1].min() - .5, X[:, 1].max() + .5\n",
    "xx, yy = np.meshgrid(np.arange(x_min, x_max, h),\n",
    "                        np.arange(y_min, y_max, h))\n",
    "\n",
    "# just plot the dataset first\n",
    "cm = plt.cm.RdBu\n",
    "cm_bright = ListedColormap(['#FF0000', '#0000FF'])\n",
    "ax1.set_title(\"Input data\")\n",
    "# Plot the training points\n",
    "ax1.scatter(X_train[:, 0], X_train[:, 1], c=y_train, cmap=cm_bright,\n",
    "            edgecolors='k')\n",
    "# Plot the testing points\n",
    "ax1.scatter(X_test[:, 0], X_test[:, 1], c=y_test, cmap=cm_bright, alpha=0.6,\n",
    "            edgecolors='k')\n",
    "ax1.set_xlim(xx.min(), xx.max())\n",
    "ax1.set_ylim(yy.min(), yy.max())\n",
    "ax1.set_xticks(())\n",
    "ax1.set_yticks(())\n",
    "\n",
    "clf_100 = RandomForestClassifier(max_depth=3, random_state=0)\n",
    "clf_100.fit(X_train, y_train)\n",
    "score = clf_100.score(X_test, y_test)\n",
    "\n",
    "# Plot the decision boundary. For that, we will assign a color to each\n",
    "# point in the mesh [x_min, x_max]x[y_min, y_max].\n",
    "Z = clf_100.predict_proba(np.c_[xx.ravel(), yy.ravel()])[:, 1]\n",
    "\n",
    "# Put the result into a color plot\n",
    "Z = Z.reshape(xx.shape)\n",
    "ax2.contourf(xx, yy, Z, cmap=cm, alpha=.8)\n",
    "\n",
    "# Plot the training points\n",
    "ax2.scatter(X_train[:, 0], X_train[:, 1], c=y_train, cmap=cm_bright,\n",
    "            edgecolors='k')\n",
    "# Plot the testing points\n",
    "ax2.scatter(X_test[:, 0], X_test[:, 1], c=y_test, cmap=cm_bright,\n",
    "            edgecolors='k', alpha=0.6)\n",
    "\n",
    "ax2.set_xlim(xx.min(), xx.max())\n",
    "ax2.set_ylim(yy.min(), yy.max())\n",
    "ax2.set_xticks(())\n",
    "ax2.set_yticks(())\n",
    "ax2.set_title(\"Random Tree\")\n",
    "ax2.text(xx.max() - .3, yy.min() + .3, ('%.2f' % score).lstrip('0'),\n",
    "                size=15, horizontalalignment='right')\n",
    "plt.show()"
   ]
  },
  {
   "cell_type": "code",
   "execution_count": 21,
   "metadata": {},
   "outputs": [
    {
     "name": "stdout",
     "output_type": "stream",
     "text": [
      "(237662, 600)\n"
     ]
    }
   ],
   "source": [
    "X_train_pca, X_test_pca, y_train_pca, y_test_pca = train_test_split(X_pca, y_loudness, test_size=0.3, random_state=0)\n",
    "print(X_pca.shape)"
   ]
  },
  {
   "cell_type": "code",
   "execution_count": 22,
   "metadata": {},
   "outputs": [
    {
     "name": "stdout",
     "output_type": "stream",
     "text": [
      "[0.02004664 0.0029161  0.00146601 0.00660643 0.00514141 0.00636664\n",
      " 0.00191221 0.00536843 0.00843509 0.00458624 0.00332364 0.00254368\n",
      " 0.01334782 0.02287326 0.0100985  0.00823219 0.01525403 0.00919423\n",
      " 0.00679612 0.0019712  0.00124914 0.00580298 0.00435351 0.00174591\n",
      " 0.00154495 0.00159818 0.00121458 0.00304178 0.00735723 0.00199768\n",
      " 0.0013665  0.00146913 0.00275889 0.00115068 0.00479022 0.00293018\n",
      " 0.0018854  0.0012798  0.0017999  0.0016965  0.00198518 0.00337264\n",
      " 0.00256978 0.00131364 0.00156703 0.0014714  0.0017657  0.00195455\n",
      " 0.00127812 0.00247981 0.00250895 0.00331681 0.00143346 0.00127752\n",
      " 0.00132963 0.00122456 0.00114277 0.0013792  0.00141984 0.00126417\n",
      " 0.00245005 0.00478089 0.00115645 0.00217145 0.00143849 0.00125352\n",
      " 0.00109305 0.00125055 0.00287789 0.00149162 0.00133829 0.0024443\n",
      " 0.0015986  0.00225051 0.00154174 0.0013821  0.00126197 0.00130201\n",
      " 0.00185123 0.00255986 0.00156999 0.00131217 0.00142873 0.00125358\n",
      " 0.00182577 0.00254252 0.00127844 0.00122987 0.00093458 0.00713609\n",
      " 0.00152451 0.0016256  0.00164874 0.00103136 0.00137928 0.00177701\n",
      " 0.00120896 0.00119856 0.00118868 0.00121697 0.0023024  0.00118562\n",
      " 0.00123749 0.0013232  0.00198883 0.00203421 0.00117934 0.00118129\n",
      " 0.00134814 0.00168069 0.00150811 0.00150006 0.00140501 0.00132023\n",
      " 0.00134234 0.00180806 0.00109317 0.00143532 0.0012839  0.00196366\n",
      " 0.00103385 0.0011073  0.00110624 0.00119454 0.00151737 0.00130252\n",
      " 0.00133154 0.00185619 0.00115096 0.00137833 0.0013157  0.00167896\n",
      " 0.0031151  0.00235939 0.0017816  0.00634215 0.00288912 0.00138723\n",
      " 0.00162766 0.0016621  0.00117747 0.00382811 0.00105084 0.00206031\n",
      " 0.00221436 0.00133885 0.00106977 0.0016738  0.00134525 0.00110263\n",
      " 0.00135371 0.00149209 0.00304258 0.00112115 0.00139165 0.0030383\n",
      " 0.00146084 0.00123863 0.00120171 0.00187796 0.00116841 0.0012903\n",
      " 0.00128368 0.00118602 0.00351677 0.00134962 0.0014805  0.00138653\n",
      " 0.00102701 0.001083   0.00141218 0.00293652 0.00158766 0.0021606\n",
      " 0.00118415 0.00120675 0.00129518 0.00134233 0.00128563 0.00122351\n",
      " 0.00234647 0.0011642  0.00128083 0.00138805 0.00129628 0.00101324\n",
      " 0.0015674  0.00134995 0.00139984 0.00143104 0.00134888 0.0018483\n",
      " 0.00146393 0.00332571 0.00159154 0.00319569 0.00422755 0.00141348\n",
      " 0.00181812 0.00128437 0.00134412 0.00181841 0.00172077 0.00128803\n",
      " 0.00147355 0.00117759 0.00127314 0.00103423 0.00109366 0.00177273\n",
      " 0.00108298 0.00110724 0.00121468 0.00126035 0.00169426 0.00124168\n",
      " 0.00128668 0.00153701 0.00403482 0.00225335 0.00118515 0.00117353\n",
      " 0.00105063 0.00131911 0.0011998  0.00093989 0.00123637 0.00181138\n",
      " 0.00112713 0.00113131 0.00103356 0.00154027 0.00122875 0.00102923\n",
      " 0.00116207 0.00244759 0.00119417 0.00152804 0.00131752 0.00118299\n",
      " 0.00118297 0.00171157 0.0016173  0.00120731 0.00141936 0.00150546\n",
      " 0.00110259 0.00126939 0.00129193 0.00141315 0.00148836 0.00137986\n",
      " 0.00122716 0.00129837 0.00125646 0.0012902  0.00293085 0.00145023\n",
      " 0.00414666 0.00129567 0.00156094 0.00165149 0.00132714 0.00141457\n",
      " 0.00128974 0.00193665 0.00146063 0.00140819 0.00123546 0.00102135\n",
      " 0.00108123 0.00141991 0.00119824 0.00137922 0.00166992 0.00167973\n",
      " 0.00126237 0.00108996 0.00166941 0.00136454 0.00104437 0.00109861\n",
      " 0.00144204 0.00260585 0.00111785 0.00215454 0.00154478 0.00161924\n",
      " 0.00139771 0.00125235 0.00115535 0.00139512 0.00121132 0.00141393\n",
      " 0.00160011 0.00164018 0.00124975 0.00139239 0.00128555 0.0012491\n",
      " 0.0020923  0.00124778 0.00111776 0.00150952 0.00123925 0.00163727\n",
      " 0.00124851 0.00191634 0.0014693  0.00107207 0.00118021 0.00143158\n",
      " 0.00137852 0.0015434  0.00184749 0.00136508 0.0008895  0.00150562\n",
      " 0.00131614 0.00716738 0.00116489 0.00136423 0.00103003 0.00126701\n",
      " 0.00154962 0.00142849 0.0012804  0.0012365  0.00117518 0.00230566\n",
      " 0.00223977 0.00147013 0.00119102 0.00115688 0.00140279 0.00151399\n",
      " 0.0013454  0.00104509 0.00132285 0.00138941 0.00176176 0.00107647\n",
      " 0.00113727 0.00125741 0.00092229 0.00110533 0.00105915 0.00114757\n",
      " 0.00115987 0.00337189 0.00103004 0.00227677 0.00140753 0.00125237\n",
      " 0.00149311 0.00183734 0.0010457  0.00115927 0.00133946 0.00124801\n",
      " 0.00127194 0.00111383 0.0014179  0.00121136 0.00112803 0.00155189\n",
      " 0.00142264 0.00136    0.00172961 0.00113556 0.00117228 0.00141888\n",
      " 0.00120769 0.00133915 0.00133526 0.00099075 0.0011864  0.00124633\n",
      " 0.00117253 0.00134994 0.00113855 0.00125992 0.00131051 0.00139002\n",
      " 0.00113511 0.00115478 0.00099409 0.00101563 0.00107865 0.00103565\n",
      " 0.00111654 0.00122865 0.00106957 0.00129099 0.00113562 0.00132605\n",
      " 0.00131465 0.001139   0.00100708 0.00105548 0.00118555 0.00107103\n",
      " 0.00110883 0.00112008 0.00132552 0.00114523 0.00118187 0.00106617\n",
      " 0.00108611 0.00125498 0.00116925 0.00138275 0.0009182  0.00107445\n",
      " 0.00117558 0.00103241 0.00141097 0.00119761 0.00165561 0.00118602\n",
      " 0.00115548 0.00106213 0.00117992 0.00125123 0.00129016 0.00111424\n",
      " 0.00117674 0.00119662 0.00130989 0.00121181 0.00169091 0.00123292\n",
      " 0.00104348 0.00112864 0.00124865 0.00101287 0.00115775 0.00106168\n",
      " 0.00113222 0.00107085 0.00111535 0.00083461 0.00126903 0.00126896\n",
      " 0.00126032 0.00106506 0.0010938  0.00114703 0.00102259 0.00120592\n",
      " 0.00104174 0.0012015  0.00098288 0.00090862 0.0015321  0.00120718\n",
      " 0.00097637 0.00131371 0.00117059 0.00113682 0.0011559  0.00120901\n",
      " 0.00107244 0.00110756 0.00119279 0.00108283 0.00144859 0.00122186\n",
      " 0.00125321 0.00114075 0.00096167 0.00113978 0.00117179 0.00123503\n",
      " 0.00125998 0.00130729 0.00116877 0.00113496 0.00116084 0.0012085\n",
      " 0.00096071 0.00113573 0.00116878 0.00093422 0.00125436 0.00150748\n",
      " 0.00117312 0.00118987 0.00089147 0.00134858 0.00102592 0.00111802\n",
      " 0.00129177 0.00138736 0.00135858 0.00095533 0.00113296 0.00117898\n",
      " 0.00127067 0.00113849 0.00115695 0.00108562 0.00136821 0.00121051\n",
      " 0.00105371 0.00117066 0.00133896 0.00121279 0.00097757 0.00133255\n",
      " 0.00134434 0.00122135 0.00118227 0.00148628 0.00112333 0.00110551\n",
      " 0.00124763 0.00108731 0.00098716 0.00110405 0.00115757 0.0010369\n",
      " 0.00134722 0.00121366 0.001157   0.00109947 0.00093235 0.00113822\n",
      " 0.00117611 0.00110657 0.00113997 0.00120983 0.00123772 0.00130897\n",
      " 0.00116379 0.00126801 0.00088446 0.00124521 0.00107605 0.00124436\n",
      " 0.00145338 0.00095864 0.00094154 0.00121011 0.00114152 0.0010108\n",
      " 0.00105836 0.00119041 0.00133898 0.00110178 0.00115478 0.00097316\n",
      " 0.00117791 0.0011412  0.00108678 0.00108792 0.00098    0.00125219\n",
      " 0.0012822  0.00095642 0.00096913 0.00132874 0.00124303 0.00134857\n",
      " 0.00110677 0.0009794  0.00126225 0.00115478 0.00116172 0.00111223\n",
      " 0.00112673 0.00130378 0.00124107 0.00113168 0.00094558 0.00106395\n",
      " 0.00102205 0.00091652 0.0009952  0.00134153 0.00109759 0.0012572\n",
      " 0.00117256 0.00125627 0.0010874  0.00106194 0.00111175 0.00092801\n",
      " 0.00121829 0.00110973 0.00103103 0.00125537 0.0014582  0.00124967\n",
      " 0.00125752 0.00084789 0.00144818 0.0011605  0.00138674 0.00112586]\n",
      "[240   6   9 284  55 109 434  24 260 314]\n",
      "Train score: 0.5044751537300962\n",
      "Test score: 0.3282935244533584\n"
     ]
    }
   ],
   "source": [
    "clf_pca = RandomForestClassifier(max_depth=10, random_state=0)\n",
    "clf_pca.fit(X_train_pca, y_train_pca)\n",
    "print(clf_pca.feature_importances_)\n",
    "top_ten = imp.argsort()[-10:][::-1]\n",
    "print(top_ten)\n",
    "train_score = clf_pca.score(X_train_pca, y_train_pca)\n",
    "test_score = clf_pca.score(X_test_pca, y_test_pca)\n",
    "print(\"Train score: \" + str(train_score))\n",
    "print(\"Test score: \" + str(test_score))"
   ]
  },
  {
   "cell_type": "markdown",
   "metadata": {},
   "source": [
    "### Conclusion: Top ten most important features are not pca features that captures most variance "
   ]
  },
  {
   "cell_type": "markdown",
   "metadata": {},
   "source": [
    "## Get Words"
   ]
  },
  {
   "cell_type": "code",
   "execution_count": 16,
   "metadata": {},
   "outputs": [],
   "source": [
    "import json\n",
    "with open(\"word_list.json\", 'r') as w:\n",
    "    word_list = list(json.load(w))"
   ]
  },
  {
   "cell_type": "markdown",
   "metadata": {},
   "source": [
    "## All words included"
   ]
  },
  {
   "cell_type": "code",
   "execution_count": 10,
   "metadata": {},
   "outputs": [],
   "source": [
    "X_train, X_test, y_train, y_test = train_test_split(X_loudness, y_loudness, test_size=0.3, random_state=0)"
   ]
  },
  {
   "cell_type": "markdown",
   "metadata": {},
   "source": [
    "## Logistic regression"
   ]
  },
  {
   "cell_type": "code",
   "execution_count": null,
   "metadata": {},
   "outputs": [],
   "source": [
    "clf = LogisticRegression(random_state=0, max_iter = 2000).fit(X_train, y_train)"
   ]
  },
  {
   "cell_type": "code",
   "execution_count": null,
   "metadata": {},
   "outputs": [],
   "source": [
    "train_score = clf.score(X_train, y_train)\n",
    "test_score = clf.score(X_test, y_test)\n",
    "print(\"Train score: \" + str(train_score))\n",
    "print(\"Test score: \" + str(test_score))"
   ]
  },
  {
   "cell_type": "code",
   "execution_count": 12,
   "metadata": {},
   "outputs": [],
   "source": [
    "def accuracy(y_predict, y_test):\n",
    "    accuracy = 0\n",
    "    n = y_predict.shape[0]\n",
    "    for i in range(n):\n",
    "        if y_predict[i] == y_test[i]:\n",
    "            accuracy += 1\n",
    "    accuracy /= n\n",
    "    return accuracy"
   ]
  },
  {
   "cell_type": "code",
   "execution_count": 50,
   "metadata": {},
   "outputs": [
    {
     "name": "stdout",
     "output_type": "stream",
     "text": [
      "0.3508313734069901\n"
     ]
    }
   ],
   "source": [
    "print(accuracy(y_predict, y_test))"
   ]
  },
  {
   "cell_type": "markdown",
   "metadata": {},
   "source": [
    "## Linear regression"
   ]
  },
  {
   "cell_type": "markdown",
   "metadata": {},
   "source": [
    "### Using original tempo"
   ]
  },
  {
   "cell_type": "code",
   "execution_count": 26,
   "metadata": {},
   "outputs": [],
   "source": [
    "reg = linear_model.LinearRegression().fit(X_train, y_train)"
   ]
  },
  {
   "cell_type": "code",
   "execution_count": 28,
   "metadata": {},
   "outputs": [
    {
     "name": "stdout",
     "output_type": "stream",
     "text": [
      "Train score: 0.17341482522850038\n",
      "Test score: 0.11137352103129873\n"
     ]
    }
   ],
   "source": [
    "train_score = reg.score(X_train, y_train)\n",
    "test_score = reg.score(X_test, y_test)\n",
    "print(\"Train score: \" + str(train_score))\n",
    "print(\"Test score: \" + str(test_score))"
   ]
  },
  {
   "cell_type": "markdown",
   "metadata": {},
   "source": [
    "## Lassso Regression"
   ]
  },
  {
   "cell_type": "code",
   "execution_count": 15,
   "metadata": {},
   "outputs": [],
   "source": [
    "lasso = linear_model.Lasso(alpha=0.0001, max_iter = 3000).fit(X_train, y_train)"
   ]
  },
  {
   "cell_type": "code",
   "execution_count": 16,
   "metadata": {},
   "outputs": [
    {
     "name": "stdout",
     "output_type": "stream",
     "text": [
      "Train score: 0.17114739339372298\n",
      "Test score: 0.12075797189333261\n"
     ]
    }
   ],
   "source": [
    "train_score = lasso.score(X_train, y_train)\n",
    "test_score = lasso.score(X_test, y_test)\n",
    "print(\"Train score: \" + str(train_score))\n",
    "print(\"Test score: \" + str(test_score))"
   ]
  },
  {
   "cell_type": "markdown",
   "metadata": {},
   "source": [
    "## Support vector machines (SVMs) \n",
    "\n",
    "Effective in high dimensional spaces.\n",
    "\n",
    "Still effective in cases where number of dimensions is greater than the number of samples."
   ]
  },
  {
   "cell_type": "code",
   "execution_count": null,
   "metadata": {},
   "outputs": [],
   "source": [
    "clf = svm.SVC()\n",
    "clf.fit(X_train, y_train)\n",
    "train_score = clf.score(X_train, y_train)\n",
    "test_score = clf.score(X_test, y_test)\n",
    "print(\"Train score: \" + str(train_score))\n",
    "print(\"Test score: \" + str(test_score))"
   ]
  },
  {
   "cell_type": "markdown",
   "metadata": {},
   "source": [
    "## Gaussian Naive Bayes"
   ]
  },
  {
   "cell_type": "code",
   "execution_count": 32,
   "metadata": {},
   "outputs": [
    {
     "name": "stdout",
     "output_type": "stream",
     "text": [
      "Train score: 0.3431953018399524\n",
      "Test score: 0.3139735480161012\n"
     ]
    }
   ],
   "source": [
    "gnb = GaussianNB()\n",
    "y_pred = gnb.fit(X_train, y_train).predict(X_test)\n",
    "train_score = gnb.score(X_train, y_train)\n",
    "test_score = gnb.score(X_test, y_test)\n",
    "print(\"Train score: \" + str(train_score))\n",
    "print(\"Test score: \" + str(test_score))"
   ]
  },
  {
   "cell_type": "markdown",
   "metadata": {},
   "source": [
    "## Random Forest"
   ]
  },
  {
   "cell_type": "code",
   "execution_count": 33,
   "metadata": {},
   "outputs": [
    {
     "name": "stdout",
     "output_type": "stream",
     "text": [
      "[0.03482689 0.01057861 0.00424074 ... 0.         0.         0.        ]\n"
     ]
    }
   ],
   "source": [
    "clf = RandomForestClassifier(max_depth=2, random_state=0)\n",
    "clf.fit(X_train, y_train)\n",
    "print(clf.feature_importances_)"
   ]
  },
  {
   "cell_type": "code",
   "execution_count": 34,
   "metadata": {},
   "outputs": [
    {
     "name": "stdout",
     "output_type": "stream",
     "text": [
      "Train score: 0.3241345731923565\n",
      "Test score: 0.3182513078724807\n"
     ]
    }
   ],
   "source": [
    "train_score = clf.score(X_train, y_train)\n",
    "test_score = clf.score(X_test, y_test)\n",
    "print(\"Train score: \" + str(train_score))\n",
    "print(\"Test score: \" + str(test_score))"
   ]
  },
  {
   "cell_type": "code",
   "execution_count": 35,
   "metadata": {},
   "outputs": [
    {
     "name": "stdout",
     "output_type": "stream",
     "text": [
      "[  0 454 464 260 191  23  11  66  32  74]\n",
      "i\n",
      "shit\n",
      "scream\n",
      "fuck\n",
      "these\n",
      "no\n",
      "is\n",
      "take\n",
      "what\n",
      "life\n"
     ]
    }
   ],
   "source": [
    "imp = clf.feature_importances_\n",
    "top_ten = imp.argsort()[-10:][::-1]\n",
    "print(top_ten)\n",
    "for i in top_ten:\n",
    "    print(word_list[i+1])"
   ]
  },
  {
   "cell_type": "code",
   "execution_count": 11,
   "metadata": {},
   "outputs": [
    {
     "name": "stdout",
     "output_type": "stream",
     "text": [
      "[0.02742007 0.01176994 0.0066483  ... 0.         0.         0.        ]\n",
      "Train score: 0.34323136755167916\n",
      "Test score: 0.3332164546487328\n",
      "[  0   7  29 260 454   8  32 334  18 333]\n",
      "i\n",
      "it\n",
      "this\n",
      "fuck\n",
      "shit\n",
      "not\n",
      "what\n",
      "hate\n",
      "we\n",
      "death\n"
     ]
    }
   ],
   "source": [
    "clf = RandomForestClassifier(max_depth=5, random_state=0)\n",
    "clf.fit(X_train, y_train)\n",
    "print(clf.feature_importances_)\n",
    "train_score = clf.score(X_train, y_train)\n",
    "test_score = clf.score(X_test, y_test)\n",
    "print(\"Train score: \" + str(train_score))\n",
    "print(\"Test score: \" + str(test_score))\n",
    "imp = clf.feature_importances_\n",
    "top_ten = imp.argsort()[-10:][::-1]\n",
    "print(top_ten)\n",
    "for i in top_ten:\n",
    "    print(word_list[i+1])"
   ]
  },
  {
   "cell_type": "code",
   "execution_count": 19,
   "metadata": {},
   "outputs": [
    {
     "name": "stdout",
     "output_type": "stream",
     "text": [
      "[1.37816829e-02 7.87442999e-03 6.10629062e-03 ... 0.00000000e+00\n",
      " 7.55545222e-05 0.00000000e+00]\n",
      "Train score: 0.3990009797851686\n",
      "Test score: 0.34543261476318043\n",
      "[ 29 260  18  26   0   7 454 334 333  32]\n",
      "this\n",
      "fuck\n",
      "we\n",
      "love\n",
      "i\n",
      "it\n",
      "shit\n",
      "hate\n",
      "death\n",
      "what\n"
     ]
    }
   ],
   "source": [
    "clf = RandomForestClassifier(max_depth=10, random_state=0)\n",
    "clf.fit(X_train, y_train)\n",
    "print(clf.feature_importances_)\n",
    "train_score = clf.score(X_train, y_train)\n",
    "test_score = clf.score(X_test, y_test)\n",
    "print(\"Train score: \" + str(train_score))\n",
    "print(\"Test score: \" + str(test_score))\n",
    "imp = clf.feature_importances_\n",
    "top_ten = imp.argsort()[-10:][::-1]\n",
    "print(top_ten)\n",
    "for i in top_ten:\n",
    "    print(word_list[i+1])"
   ]
  },
  {
   "cell_type": "markdown",
   "metadata": {},
   "source": [
    "# Exclude first twenty common words"
   ]
  },
  {
   "cell_type": "code",
   "execution_count": 14,
   "metadata": {},
   "outputs": [],
   "source": [
    "X_train, X_test, y_train, y_test = train_test_split(X_loudness[:,20:], y_loudness, test_size=0.3, random_state=0)"
   ]
  },
  {
   "cell_type": "markdown",
   "metadata": {},
   "source": [
    "## Gaussian Naive Bayes"
   ]
  },
  {
   "cell_type": "code",
   "execution_count": 15,
   "metadata": {},
   "outputs": [
    {
     "name": "stdout",
     "output_type": "stream",
     "text": [
      "Train score: 0.34302098423327304\n",
      "Test score: 0.3141138024376218\n"
     ]
    }
   ],
   "source": [
    "gnb = GaussianNB()\n",
    "y_pred = gnb.fit(X_train, y_train).predict(X_test)\n",
    "train_score = gnb.score(X_train, y_train)\n",
    "test_score = gnb.score(X_test, y_test)\n",
    "print(\"Train score: \" + str(train_score))\n",
    "print(\"Test score: \" + str(test_score))"
   ]
  },
  {
   "cell_type": "markdown",
   "metadata": {},
   "source": [
    "## Random Forest"
   ]
  },
  {
   "cell_type": "code",
   "execution_count": 15,
   "metadata": {},
   "outputs": [
    {
     "name": "stdout",
     "output_type": "stream",
     "text": [
      "[0.00596575 0.01238951 0.00407465 ... 0.         0.         0.        ]\n",
      "Train score: 0.34812428244261046\n",
      "Test score: 0.3380692576333469\n",
      "[  6   9 284 240 260 262 563   3 109 184 347  54   1  55 434 121 313  49\n",
      "  39  24]\n"
     ]
    },
    {
     "ename": "NameError",
     "evalue": "name 'word_list' is not defined",
     "output_type": "error",
     "traceback": [
      "\u001b[0;31m---------------------------------------------------------------------------\u001b[0m",
      "\u001b[0;31mNameError\u001b[0m                                 Traceback (most recent call last)",
      "\u001b[0;32m<ipython-input-15-4e27b520b084>\u001b[0m in \u001b[0;36m<module>\u001b[0;34m\u001b[0m\n\u001b[1;32m     10\u001b[0m \u001b[0mprint\u001b[0m\u001b[0;34m(\u001b[0m\u001b[0mtop_twenty\u001b[0m\u001b[0;34m)\u001b[0m\u001b[0;34m\u001b[0m\u001b[0;34m\u001b[0m\u001b[0m\n\u001b[1;32m     11\u001b[0m \u001b[0;32mfor\u001b[0m \u001b[0mi\u001b[0m \u001b[0;32min\u001b[0m \u001b[0mtop_twenty\u001b[0m\u001b[0;34m:\u001b[0m\u001b[0;34m\u001b[0m\u001b[0;34m\u001b[0m\u001b[0m\n\u001b[0;32m---> 12\u001b[0;31m     \u001b[0mprint\u001b[0m\u001b[0;34m(\u001b[0m\u001b[0mword_list\u001b[0m\u001b[0;34m[\u001b[0m\u001b[0mi\u001b[0m\u001b[0;34m+\u001b[0m\u001b[0;36m21\u001b[0m\u001b[0;34m]\u001b[0m\u001b[0;34m)\u001b[0m\u001b[0;34m\u001b[0m\u001b[0;34m\u001b[0m\u001b[0m\n\u001b[0m",
      "\u001b[0;31mNameError\u001b[0m: name 'word_list' is not defined"
     ]
    }
   ],
   "source": [
    "clf = RandomForestClassifier(max_depth=5, random_state=0)\n",
    "clf.fit(X_train, y_train)\n",
    "print(clf.feature_importances_)\n",
    "train_score = clf.score(X_train, y_train)\n",
    "test_score = clf.score(X_test, y_test)\n",
    "print(\"Train score: \" + str(train_score))\n",
    "print(\"Test score: \" + str(test_score))\n",
    "imp = clf.feature_importances_\n",
    "top_twenty = imp.argsort()[-20:][::-1]\n",
    "print(top_twenty)\n",
    "for i in top_twenty:\n",
    "    print(word_list[i+21])"
   ]
  },
  {
   "cell_type": "code",
   "execution_count": 17,
   "metadata": {},
   "outputs": [
    {
     "name": "stdout",
     "output_type": "stream",
     "text": [
      "love\n",
      "this\n",
      "blood\n",
      "fuck\n",
      "kill\n",
      "breath\n",
      "bleed\n",
      "no\n",
      "wanna\n",
      "burn\n",
      "hell\n",
      "life\n",
      "all\n",
      "yeah\n",
      "shit\n",
      "noth\n",
      "death\n",
      "ca\n",
      "he\n",
      "up\n"
     ]
    }
   ],
   "source": [
    "for i in top_twenty:\n",
    "    print(word_list[i+21])"
   ]
  },
  {
   "cell_type": "code",
   "execution_count": 19,
   "metadata": {},
   "outputs": [
    {
     "name": "stdout",
     "output_type": "stream",
     "text": [
      "[  6   9 284 240 260 262 563   3 109 184 347  54   1  55 434 121 313  49\n",
      "  39  24]\n",
      "love\n",
      "this\n",
      "blood\n",
      "fuck\n",
      "kill\n",
      "breath\n",
      "bleed\n",
      "no\n",
      "wanna\n",
      "burn\n",
      "hell\n",
      "life\n",
      "all\n",
      "yeah\n",
      "shit\n",
      "noth\n",
      "death\n",
      "ca\n",
      "he\n",
      "up\n"
     ]
    }
   ],
   "source": [
    "top_twenty = imp.argsort()[-20:][::-1]\n",
    "print(top_twenty)\n",
    "for i in top_twenty:\n",
    "    print(word_list[i+21])"
   ]
  },
  {
   "cell_type": "markdown",
   "metadata": {},
   "source": [
    "## Use Randon Forest to reduce dymansion first to refuce dimension to 500 and then use Neural Network"
   ]
  },
  {
   "cell_type": "code",
   "execution_count": 12,
   "metadata": {},
   "outputs": [
    {
     "name": "stdout",
     "output_type": "stream",
     "text": [
      "[3.50944496e-03 5.47227108e-03 3.13461386e-03 ... 2.39803552e-05\n",
      " 7.02927466e-05 0.00000000e+00]\n",
      "Train score: 0.4887625253211351\n",
      "Test score: 0.3557132638606432\n",
      "[240   6   9 284  55 109 434  24 260 314  31   1   3  39  40 347 563 262\n",
      "  12  54]\n",
      "fuck\n",
      "love\n",
      "this\n",
      "blood\n",
      "yeah\n",
      "wanna\n",
      "shit\n",
      "up\n",
      "kill\n",
      "hate\n",
      "get\n",
      "all\n",
      "no\n",
      "he\n",
      "feel\n",
      "hell\n",
      "bleed\n",
      "breath\n",
      "what\n",
      "life\n"
     ]
    }
   ],
   "source": [
    "clf = RandomForestClassifier(max_depth=15, random_state=0)\n",
    "clf.fit(X_train, y_train)\n",
    "print(clf.feature_importances_)\n",
    "train_score = clf.score(X_train, y_train)\n",
    "test_score = clf.score(X_test, y_test)\n",
    "print(\"Train score: \" + str(train_score))\n",
    "print(\"Test score: \" + str(test_score))\n",
    "imp = clf.feature_importances_\n",
    "top_500 = imp.argsort()[-500:][::-1]\n",
    "top_20 = top_500[:20]\n",
    "print(top_20)\n",
    "for i in top_20:\n",
    "    print(word_list[i+21])"
   ]
  },
  {
   "cell_type": "code",
   "execution_count": 13,
   "metadata": {},
   "outputs": [],
   "source": [
    "top_500 = top_500 + 20\n",
    "X_500 = X_loudness[:,top_500]"
   ]
  },
  {
   "cell_type": "code",
   "execution_count": 17,
   "metadata": {},
   "outputs": [],
   "source": [
    "X_train_500, X_test_500, y_train_500, y_test_500 = train_test_split(X_500, y_loudness, test_size=0.3, random_state=0)"
   ]
  },
  {
   "cell_type": "code",
   "execution_count": 18,
   "metadata": {},
   "outputs": [
    {
     "name": "stderr",
     "output_type": "stream",
     "text": [
      "/opt/anaconda3/lib/python3.7/site-packages/sklearn/neural_network/_multilayer_perceptron.py:470: ConvergenceWarning: lbfgs failed to converge (status=1):\n",
      "STOP: TOTAL NO. of ITERATIONS REACHED LIMIT.\n",
      "\n",
      "Increase the number of iterations (max_iter) or scale the data as shown in:\n",
      "    https://scikit-learn.org/stable/modules/preprocessing.html\n",
      "  self.n_iter_ = _check_optimize_result(\"lbfgs\", opt_res, self.max_iter)\n"
     ]
    },
    {
     "data": {
      "text/plain": [
       "MLPClassifier(activation='relu', alpha=1e-05, batch_size='auto', beta_1=0.9,\n",
       "              beta_2=0.999, early_stopping=False, epsilon=1e-08,\n",
       "              hidden_layer_sizes=(5, 2), learning_rate='constant',\n",
       "              learning_rate_init=0.001, max_fun=15000, max_iter=1000,\n",
       "              momentum=0.9, n_iter_no_change=10, nesterovs_momentum=True,\n",
       "              power_t=0.5, random_state=1, shuffle=True, solver='lbfgs',\n",
       "              tol=0.0001, validation_fraction=0.1, verbose=False,\n",
       "              warm_start=False)"
      ]
     },
     "execution_count": 18,
     "metadata": {},
     "output_type": "execute_result"
    }
   ],
   "source": [
    "clf = MLPClassifier(solver='lbfgs', alpha=1e-5, hidden_layer_sizes=(5, 2), random_state=1, max_iter = 1000)\n",
    "clf.fit(X_train_500, y_train_500)"
   ]
  },
  {
   "cell_type": "code",
   "execution_count": 19,
   "metadata": {},
   "outputs": [
    {
     "name": "stdout",
     "output_type": "stream",
     "text": [
      "Train score: 0.36838720148109855\n",
      "Test score: 0.35502601719519206\n"
     ]
    }
   ],
   "source": [
    "train_score = clf.score(X_train_500, y_train_500)\n",
    "test_score = clf.score(X_test_500, y_test_500)\n",
    "print(\"Train score: \" + str(train_score))\n",
    "print(\"Test score: \" + str(test_score))"
   ]
  },
  {
   "cell_type": "markdown",
   "metadata": {},
   "source": [
    "## Find the best depth for Random Forest with plot"
   ]
  },
  {
   "cell_type": "code",
   "execution_count": 12,
   "metadata": {},
   "outputs": [],
   "source": [
    "min_depth = 3\n",
    "max_depth = 61\n",
    "\n",
    "depths = range(min_depth, max_depth, 3)\n",
    "\n",
    "test_accuracies = np.zeros(len(depths))\n",
    "train_accuracies = np.zeros(len(depths))\n",
    "\n",
    "clf_models = list()"
   ]
  },
  {
   "cell_type": "code",
   "execution_count": 14,
   "metadata": {},
   "outputs": [
    {
     "name": "stdout",
     "output_type": "stream",
     "text": [
      "Running with Max Depth: 3\n",
      "Running with Max Depth: 6\n",
      "Running with Max Depth: 9\n",
      "Running with Max Depth: 12\n",
      "Running with Max Depth: 15\n",
      "Running with Max Depth: 18\n",
      "Running with Max Depth: 21\n",
      "Running with Max Depth: 24\n",
      "Running with Max Depth: 27\n",
      "Running with Max Depth: 30\n",
      "Running with Max Depth: 33\n",
      "Running with Max Depth: 36\n",
      "Running with Max Depth: 39\n",
      "Running with Max Depth: 42\n",
      "Running with Max Depth: 45\n",
      "Running with Max Depth: 48\n",
      "Running with Max Depth: 51\n",
      "Running with Max Depth: 54\n",
      "Running with Max Depth: 57\n",
      "Running with Max Depth: 60\n",
      "Done!\n"
     ]
    }
   ],
   "source": [
    "for i in range(len(depths)):\n",
    "    print(\"Running with Max Depth: %d\" % depths[i])\n",
    "\n",
    "    clf = RandomForestClassifier(max_depth=depths[i], random_state=0)\n",
    "    clf.fit(X_train, y_train)\n",
    "    \n",
    "    test_accuracies[i] = clf.score(X_test, y_test)\n",
    "    train_accuracies[i] = clf.score(X_train, y_train)\n",
    "    \n",
    "    clf_models.append(clf)   \n",
    "\n",
    "print(\"Done!\")"
   ]
  },
  {
   "cell_type": "code",
   "execution_count": 15,
   "metadata": {},
   "outputs": [
    {
     "data": {
      "text/plain": [
       "<matplotlib.legend.Legend at 0x1a74e0bc50>"
      ]
     },
     "execution_count": 15,
     "metadata": {},
     "output_type": "execute_result"
    },
    {
     "data": {
      "image/png": "[encoded data removed]",
      "text/plain": [
       "<Figure size 432x288 with 1 Axes>"
      ]
     },
     "metadata": {
      "needs_background": "light"
     },
     "output_type": "display_data"
    }
   ],
   "source": [
    "# print(test_accuracies)\n",
    "fig, ax = plt.subplots()\n",
    "ax.plot(depths, test_accuracies, label=\"test_accuracy\")\n",
    "ax.plot(depths, train_accuracies, label=\"train_accuracy\")\n",
    "ax.set_ylabel('Random Forest Accuracy')\n",
    "ax.set_xlabel('Max Depth')\n",
    "ax.legend(bbox_to_anchor=(1.05, 1), loc='upper left', borderaxespad=0.)"
   ]
  },
  {
   "cell_type": "code",
   "execution_count": 18,
   "metadata": {},
   "outputs": [
    {
     "data": {
      "text/plain": [
       "<matplotlib.legend.Legend at 0x1a749abfd0>"
      ]
     },
     "execution_count": 18,
     "metadata": {},
     "output_type": "execute_result"
    },
    {
     "data": {
      "image/png": "[encoded data removed]",
      "text/plain": [
       "<Figure size 432x288 with 1 Axes>"
      ]
     },
     "metadata": {
      "needs_background": "light"
     },
     "output_type": "display_data"
    }
   ],
   "source": [
    "# print(test_accuracies)\n",
    "fig, ax = plt.subplots()\n",
    "ax.plot(depths[:6], test_accuracies[:6], label=\"test_accuracy\")\n",
    "ax.plot(depths[:6], train_accuracies[:6], label=\"train_accuracy\")\n",
    "ax.set_ylabel('Random Forest Accuracy')\n",
    "ax.set_xlabel('Max Depth')\n",
    "ax.legend(bbox_to_anchor=(1.05, 1), loc='upper left', borderaxespad=0.)"
   ]
  },
  {
   "cell_type": "markdown",
   "metadata": {},
   "source": [
    "## Only include 21 - 2000 words"
   ]
  },
  {
   "cell_type": "code",
   "execution_count": 11,
   "metadata": {},
   "outputs": [],
   "source": [
    "X_train, X_test, y_train, y_test = train_test_split(X_loudness[:,20:2000], y_loudness, test_size=0.3, random_state=0)"
   ]
  },
  {
   "cell_type": "code",
   "execution_count": 12,
   "metadata": {},
   "outputs": [
    {
     "name": "stdout",
     "output_type": "stream",
     "text": [
      "[0.00511171 0.01054915 0.00244973 ... 0.         0.         0.        ]\n",
      "Train score: 0.3482084357699729\n",
      "Test score: 0.33825158838132374\n",
      "[  9 284 240   6 434 314  55  54 109 224 313 262 141  12 347 184 446  49\n",
      " 214 255]\n",
      "this\n",
      "0.04668481944570859\n",
      "blood\n",
      "0.039984687809334125\n",
      "fuck\n",
      "0.039469102918727385\n",
      "love\n",
      "0.0392460528189483\n",
      "shit\n",
      "0.03519459890264929\n",
      "hate\n",
      "0.02651181556364638\n",
      "yeah\n",
      "0.023074500372797662\n",
      "life\n",
      "0.019781010754313277\n",
      "wanna\n",
      "0.019078784621935053\n",
      "blue\n",
      "0.018505043394164325\n",
      "death\n",
      "0.018080800577647514\n",
      "breath\n",
      "0.017827306381320022\n",
      "lie\n",
      "0.014807244754308762\n",
      "what\n",
      "0.01471835131231562\n",
      "hell\n",
      "0.014291116727939781\n",
      "burn\n",
      "0.014267296246888956\n",
      "control\n",
      "0.011705891476945375\n",
      "ca\n",
      "0.011536927981807004\n",
      "pain\n",
      "0.011388739239904055\n",
      "fight\n",
      "0.011298669911400015\n"
     ]
    }
   ],
   "source": [
    "clf = RandomForestClassifier(max_depth=5, random_state=0)\n",
    "clf.fit(X_train, y_train)\n",
    "print(clf.feature_importances_)\n",
    "train_score = clf.score(X_train, y_train)\n",
    "test_score = clf.score(X_test, y_test)\n",
    "print(\"Train score: \" + str(train_score))\n",
    "print(\"Test score: \" + str(test_score))\n",
    "imp = clf.feature_importances_\n",
    "top_twenty = imp.argsort()[-20:][::-1]\n",
    "print(top_twenty)\n",
    "for i in top_twenty:\n",
    "    print(word_list[i+21])\n",
    "    print(imp[i])"
   ]
  },
  {
   "cell_type": "code",
   "execution_count": 15,
   "metadata": {},
   "outputs": [
    {
     "name": "stdout",
     "output_type": "stream",
     "text": [
      "this this this this this this this this this this this this this this this this this this this this this this this this this this this this this this this this this this this this this this this this this this this this this this this \n",
      "blood blood blood blood blood blood blood blood blood blood blood blood blood blood blood blood blood blood blood blood blood blood blood blood blood blood blood blood blood blood blood blood blood blood blood blood blood blood blood blood \n",
      "fuck fuck fuck fuck fuck fuck fuck fuck fuck fuck fuck fuck fuck fuck fuck fuck fuck fuck fuck fuck fuck fuck fuck fuck fuck fuck fuck fuck fuck fuck fuck fuck fuck fuck fuck fuck fuck fuck fuck \n",
      "love love love love love love love love love love love love love love love love love love love love love love love love love love love love love love love love love love love love love love love \n",
      "shit shit shit shit shit shit shit shit shit shit shit shit shit shit shit shit shit shit shit shit shit shit shit shit shit shit shit shit shit shit shit shit shit shit shit \n",
      "hate hate hate hate hate hate hate hate hate hate hate hate hate hate hate hate hate hate hate hate hate hate hate hate hate hate hate \n",
      "yeah yeah yeah yeah yeah yeah yeah yeah yeah yeah yeah yeah yeah yeah yeah yeah yeah yeah yeah yeah yeah yeah yeah \n",
      "life life life life life life life life life life life life life life life life life life life life \n",
      "wanna wanna wanna wanna wanna wanna wanna wanna wanna wanna wanna wanna wanna wanna wanna wanna wanna wanna wanna \n",
      "blue blue blue blue blue blue blue blue blue blue blue blue blue blue blue blue blue blue blue \n",
      "death death death death death death death death death death death death death death death death death death \n",
      "breath breath breath breath breath breath breath breath breath breath breath breath breath breath breath breath breath breath \n",
      "lie lie lie lie lie lie lie lie lie lie lie lie lie lie lie \n",
      "what what what what what what what what what what what what what what what \n",
      "hell hell hell hell hell hell hell hell hell hell hell hell hell hell \n",
      "burn burn burn burn burn burn burn burn burn burn burn burn burn burn \n",
      "control control control control control control control control control control control control \n",
      "ca ca ca ca ca ca ca ca ca ca ca ca \n",
      "pain pain pain pain pain pain pain pain pain pain pain \n",
      "fight fight fight fight fight fight fight fight fight fight fight \n"
     ]
    }
   ],
   "source": [
    "print(\"this \"*47)\n",
    "print(\"blood \"*40)\n",
    "print(\"fuck \"*39)\n",
    "print(\"love \"*39)\n",
    "print(\"shit \"*35)\n",
    "print(\"hate \"*27)\n",
    "print(\"yeah \"*23)\n",
    "print(\"life \"*20)\n",
    "print(\"wanna \"*19)\n",
    "print(\"blue \"*19)\n",
    "print(\"death \"*18)\n",
    "print(\"breath \"*18)\n",
    "print(\"lie \"*15)\n",
    "print(\"what \"*15)\n",
    "print(\"hell \"*14)\n",
    "print(\"burn \"*14)\n",
    "print(\"control \"*12)\n",
    "print(\"ca \"*12)\n",
    "print(\"pain \"*11)\n",
    "print(\"fight \"*11)"
   ]
  },
  {
   "cell_type": "code",
   "execution_count": 40,
   "metadata": {},
   "outputs": [
    {
     "data": {
      "text/plain": [
       "<BarContainer object of 20 artists>"
      ]
     },
     "execution_count": 40,
     "metadata": {},
     "output_type": "execute_result"
    },
    {
     "data": {
      "image/png": "[encoded data removed]",
      "text/plain": [
       "<Figure size 792x288 with 1 Axes>"
      ]
     },
     "metadata": {
      "needs_background": "light"
     },
     "output_type": "display_data"
    }
   ],
   "source": [
    "strs = list()\n",
    "heights = list()\n",
    "for i in top_twenty:\n",
    "    strs.append(word_list[i+21])\n",
    "    heights.append(imp[i])\n",
    "fig = plt.figure(figsize=(11, 4))\n",
    "ax = fig.add_subplot(111)\n",
    "ax.bar(strs, heights, width=0.8, bottom=None, align='center', data=None)"
   ]
  },
  {
   "cell_type": "markdown",
   "metadata": {},
   "source": [
    "## Reduce dimension"
   ]
  },
  {
   "cell_type": "code",
   "execution_count": 56,
   "metadata": {},
   "outputs": [],
   "source": [
    "top_100 = imp.argsort()[-100:][::-1]\n",
    "top_100 = top_100 + 20\n",
    "X_100 = X_loudness[:,top_100]"
   ]
  },
  {
   "cell_type": "code",
   "execution_count": 57,
   "metadata": {},
   "outputs": [
    {
     "name": "stdout",
     "output_type": "stream",
     "text": [
      "(237662, 100)\n"
     ]
    }
   ],
   "source": [
    "print(X_100.shape)\n",
    "X_train_100, X_test_100, y_train_100, y_test_100 = train_test_split(X_100, y_loudness, test_size=0.3, random_state=0)"
   ]
  },
  {
   "cell_type": "code",
   "execution_count": 59,
   "metadata": {
    "scrolled": true
   },
   "outputs": [
    {
     "name": "stdout",
     "output_type": "stream",
     "text": [
      "Train score: 0.38942553332171215\n",
      "Test score: 0.3418000252457959\n",
      "[ 0  2  3  6  8 20  4 31  1 47 21 13  5  9 27 10 29  7 48 61]\n",
      "this\n",
      "fuck\n",
      "love\n",
      "yeah\n",
      "wanna\n",
      "get\n",
      "shit\n",
      "he\n",
      "blood\n",
      "feel\n",
      "all\n",
      "what\n",
      "hate\n",
      "blue\n",
      "no\n",
      "death\n",
      "up\n",
      "life\n",
      "will\n",
      "like\n"
     ]
    }
   ],
   "source": [
    "clf_100 = RandomForestClassifier(max_depth=10, random_state=0)\n",
    "clf_100.fit(X_train_100, y_train_100)\n",
    "train_score = clf_100.score(X_train_100, y_train_100)\n",
    "test_score = clf_100.score(X_test_100, y_test_100)\n",
    "print(\"Train score: \" + str(train_score))\n",
    "print(\"Test score: \" + str(test_score))\n",
    "imp_100 = clf_100.feature_importances_\n",
    "top_twenty = imp_100.argsort()[-20:][::-1]\n",
    "print(top_twenty)\n",
    "for i in top_twenty:\n",
    "    print(word_list[top_100[i]+1])"
   ]
  },
  {
   "cell_type": "markdown",
   "metadata": {},
   "source": [
    "## Plot Random Forest Classfication Result using only love and fuck"
   ]
  },
  {
   "cell_type": "code",
   "execution_count": 84,
   "metadata": {},
   "outputs": [
    {
     "data": {
      "image/png": "[encoded data removed]",
      "text/plain": [
       "<Figure size 432x288 with 2 Axes>"
      ]
     },
     "metadata": {},
     "output_type": "display_data"
    }
   ],
   "source": [
    "h = .02\n",
    "fig, (ax1, ax2) = plt.subplots(1, 2)\n",
    "X, y = X_100[:,1:3],y_loudness\n",
    "X_train, X_test, y_train, y_test = train_test_split(X, y, test_size=0.3, random_state=0)\n",
    "x_min, x_max = X[:, 0].min() - .5, X[:, 0].max() + .5\n",
    "y_min, y_max = X[:, 1].min() - .5, X[:, 1].max() + .5\n",
    "xx, yy = np.meshgrid(np.arange(x_min, x_max, h),\n",
    "                        np.arange(y_min, y_max, h))\n",
    "\n",
    "# just plot the dataset first\n",
    "cm = plt.cm.RdBu\n",
    "cm_bright = ListedColormap(['#FF0000', '#0000FF'])\n",
    "ax1.set_title(\"Input data\")\n",
    "# Plot the training points\n",
    "ax1.scatter(X_train[:, 0], X_train[:, 1], c=y_train, cmap=cm_bright,\n",
    "            edgecolors='k')\n",
    "# Plot the testing points\n",
    "ax1.scatter(X_test[:, 0], X_test[:, 1], c=y_test, cmap=cm_bright, alpha=0.6,\n",
    "            edgecolors='k')\n",
    "ax1.set_xlim(xx.min(), xx.max())\n",
    "ax1.set_ylim(yy.min(), yy.max())\n",
    "ax1.set_xticks(())\n",
    "ax1.set_yticks(())\n",
    "\n",
    "clf_100 = RandomForestClassifier(max_depth=10, random_state=0)\n",
    "clf_100.fit(X_train, y_train)\n",
    "score = clf_100.score(X_test, y_test)\n",
    "\n",
    "# Plot the decision boundary. For that, we will assign a color to each\n",
    "# point in the mesh [x_min, x_max]x[y_min, y_max].\n",
    "Z = clf_100.predict_proba(np.c_[xx.ravel(), yy.ravel()])[:, 1]\n",
    "\n",
    "# Put the result into a color plot\n",
    "Z = Z.reshape(xx.shape)\n",
    "ax2.contourf(xx, yy, Z, cmap=cm, alpha=.8)\n",
    "\n",
    "# Plot the training points\n",
    "ax2.scatter(X_train[:, 0], X_train[:, 1], c=y_train, cmap=cm_bright,\n",
    "            edgecolors='k')\n",
    "# Plot the testing points\n",
    "ax2.scatter(X_test[:, 0], X_test[:, 1], c=y_test, cmap=cm_bright,\n",
    "            edgecolors='k', alpha=0.6)\n",
    "\n",
    "ax2.set_xlim(xx.min(), xx.max())\n",
    "ax2.set_ylim(yy.min(), yy.max())\n",
    "ax2.set_xticks(())\n",
    "ax2.set_yticks(())\n",
    "ax2.set_title(\"Random Tree\")\n",
    "ax2.text(xx.max() - .3, yy.min() + .3, ('%.2f' % score).lstrip('0'),\n",
    "                size=15, horizontalalignment='right')\n",
    "plt.show()"
   ]
  },
  {
   "cell_type": "markdown",
   "metadata": {},
   "source": [
    "## Plot for Decision Tree using only love and fuck"
   ]
  },
  {
   "cell_type": "code",
   "execution_count": 83,
   "metadata": {},
   "outputs": [
    {
     "data": {
      "image/png": "[encoded data removed]",
      "text/plain": [
       "<Figure size 432x288 with 2 Axes>"
      ]
     },
     "metadata": {},
     "output_type": "display_data"
    }
   ],
   "source": [
    "h = .02\n",
    "fig, (ax1, ax2) = plt.subplots(1, 2)\n",
    "X, y = X_100[:,1:3],y_loudness\n",
    "X_train, X_test, y_train, y_test = train_test_split(X, y, test_size=0.3, random_state=0)\n",
    "x_min, x_max = X[:, 0].min() - .5, X[:, 0].max() + .5\n",
    "y_min, y_max = X[:, 1].min() - .5, X[:, 1].max() + .5\n",
    "xx, yy = np.meshgrid(np.arange(x_min, x_max, h),\n",
    "                        np.arange(y_min, y_max, h))\n",
    "\n",
    "# just plot the dataset first\n",
    "cm = plt.cm.RdBu\n",
    "cm_bright = ListedColormap(['#FF0000', '#0000FF'])\n",
    "ax1.set_title(\"Input data\")\n",
    "# Plot the training points\n",
    "ax1.scatter(X_train[:, 0], X_train[:, 1], c=y_train, cmap=cm_bright,\n",
    "            edgecolors='k')\n",
    "# Plot the testing points\n",
    "ax1.scatter(X_test[:, 0], X_test[:, 1], c=y_test, cmap=cm_bright, alpha=0.6,\n",
    "            edgecolors='k')\n",
    "ax1.set_xlim(xx.min(), xx.max())\n",
    "ax1.set_ylim(yy.min(), yy.max())\n",
    "ax1.set_xticks(())\n",
    "ax1.set_yticks(())\n",
    "\n",
    "\n",
    "clf = tree.DecisionTreeClassifier(max_depth=10)\n",
    "clf.fit(X_train, y_train)\n",
    "score = clf.score(X_test, y_test)\n",
    "\n",
    "# Plot the decision boundary. For that, we will assign a color to each\n",
    "# point in the mesh [x_min, x_max]x[y_min, y_max].\n",
    "if hasattr(clf, \"decision_function\"):\n",
    "    Z = clf.decision_function(np.c_[xx.ravel(), yy.ravel()])\n",
    "else:\n",
    "    Z = clf.predict_proba(np.c_[xx.ravel(), yy.ravel()])[:, 1]\n",
    "\n",
    "\n",
    "# Put the result into a color plot\n",
    "Z = Z.reshape(xx.shape)\n",
    "ax2.contourf(xx, yy, Z, cmap=cm, alpha=.8)\n",
    "\n",
    "# Plot the training points\n",
    "ax2.scatter(X_train[:, 0], X_train[:, 1], c=y_train, cmap=cm_bright,\n",
    "            edgecolors='k')\n",
    "# Plot the testing points\n",
    "ax2.scatter(X_test[:, 0], X_test[:, 1], c=y_test, cmap=cm_bright,\n",
    "            edgecolors='k', alpha=0.6)\n",
    "\n",
    "ax2.set_xlim(xx.min(), xx.max())\n",
    "ax2.set_ylim(yy.min(), yy.max())\n",
    "ax2.set_xticks(())\n",
    "ax2.set_yticks(())\n",
    "ax2.set_title(\"Decision Tree\")\n",
    "ax2.text(xx.max() - .3, yy.min() + .3, ('%.2f' % score).lstrip('0'),\n",
    "                size=15, horizontalalignment='right')\n",
    "plt.show()"
   ]
  },
  {
   "cell_type": "code",
   "execution_count": 58,
   "metadata": {},
   "outputs": [
    {
     "name": "stdout",
     "output_type": "stream",
     "text": [
      "Train score: 0.6522063199148849\n",
      "Test score: 0.3484621102680262\n",
      "[ 3  0 21 27 48 79 33 13 61 29 20 95  2 41 22 31 98 69 47 89]\n",
      "love\n",
      "this\n",
      "all\n",
      "no\n",
      "will\n",
      "for\n",
      "so\n",
      "what\n",
      "like\n",
      "up\n",
      "get\n",
      "just\n",
      "fuck\n",
      "now\n",
      "out\n",
      "he\n",
      "was\n",
      "time\n",
      "feel\n",
      "got\n"
     ]
    }
   ],
   "source": [
    "clf_100 = RandomForestClassifier(max_depth=20, random_state=0)\n",
    "clf_100.fit(X_train_100, y_train_100)\n",
    "train_score = clf_100.score(X_train_100, y_train_100)\n",
    "test_score = clf_100.score(X_test_100, y_test_100)\n",
    "print(\"Train score: \" + str(train_score))\n",
    "print(\"Test score: \" + str(test_score))\n",
    "imp_100 = clf_100.feature_importances_\n",
    "top_twenty = imp_100.argsort()[-20:][::-1]\n",
    "print(top_twenty)\n",
    "for i in top_twenty:\n",
    "    print(word_list[top_100[i]+1])"
   ]
  },
  {
   "cell_type": "code",
   "execution_count": 43,
   "metadata": {},
   "outputs": [],
   "source": [
    "top_500 = imp.argsort()[-500:][::-1]\n",
    "top_500 = top_500 + 20\n",
    "X_500 = X_loudness[:,top_500]"
   ]
  },
  {
   "cell_type": "code",
   "execution_count": 49,
   "metadata": {},
   "outputs": [
    {
     "name": "stdout",
     "output_type": "stream",
     "text": [
      "(237662, 500)\n"
     ]
    }
   ],
   "source": [
    "print(X_500.shape)\n",
    "X_train_500, X_test_500, y_train_500, y_test_500 = train_test_split(X_500, y_loudness, test_size=0.3, random_state=0)"
   ]
  },
  {
   "cell_type": "code",
   "execution_count": 53,
   "metadata": {},
   "outputs": [
    {
     "name": "stdout",
     "output_type": "stream",
     "text": [
      "Train score: 0.6741523055006221\n",
      "Test score: 0.3552083479431689\n",
      "[  3   0   2  21  27  20  13   6  48  33  29  31   8  79 334  47 189  22\n",
      " 158  61]\n",
      "love\n",
      "this\n",
      "fuck\n",
      "all\n",
      "no\n",
      "get\n",
      "what\n",
      "yeah\n",
      "will\n",
      "so\n",
      "up\n",
      "he\n",
      "wanna\n",
      "for\n",
      "be\n",
      "feel\n",
      "but\n",
      "out\n",
      "have\n",
      "like\n"
     ]
    }
   ],
   "source": [
    "clf = RandomForestClassifier(max_depth=20, random_state=0)\n",
    "clf.fit(X_train_500, y_train_500)\n",
    "train_score = clf.score(X_train_500, y_train_500)\n",
    "test_score = clf.score(X_test_500, y_test_500)\n",
    "print(\"Train score: \" + str(train_score))\n",
    "print(\"Test score: \" + str(test_score))\n",
    "imp = clf.feature_importances_\n",
    "top_twenty = imp.argsort()[-20:][::-1]\n",
    "print(top_twenty)\n",
    "for i in top_twenty:\n",
    "    print(word_list[top_500[i]+1])"
   ]
  },
  {
   "cell_type": "markdown",
   "metadata": {},
   "source": [
    "## SVM"
   ]
  },
  {
   "cell_type": "code",
   "execution_count": null,
   "metadata": {},
   "outputs": [],
   "source": [
    "clf = svm.SVC()\n",
    "clf.fit(X_train, y_train)\n",
    "train_score = clf.score(X_train, y_train)\n",
    "test_score = clf.score(X_test, y_test)\n",
    "print(\"Train score: \" + str(train_score))\n",
    "print(\"Test score: \" + str(test_score))"
   ]
  },
  {
   "cell_type": "markdown",
   "metadata": {},
   "source": [
    "## Neural Network"
   ]
  },
  {
   "cell_type": "code",
   "execution_count": 14,
   "metadata": {},
   "outputs": [
    {
     "name": "stderr",
     "output_type": "stream",
     "text": [
      "/opt/anaconda3/lib/python3.7/site-packages/sklearn/neural_network/_multilayer_perceptron.py:470: ConvergenceWarning: lbfgs failed to converge (status=1):\n",
      "STOP: TOTAL NO. of ITERATIONS REACHED LIMIT.\n",
      "\n",
      "Increase the number of iterations (max_iter) or scale the data as shown in:\n",
      "    https://scikit-learn.org/stable/modules/preprocessing.html\n",
      "  self.n_iter_ = _check_optimize_result(\"lbfgs\", opt_res, self.max_iter)\n"
     ]
    },
    {
     "data": {
      "text/plain": [
       "MLPClassifier(activation='relu', alpha=1e-05, batch_size='auto', beta_1=0.9,\n",
       "              beta_2=0.999, early_stopping=False, epsilon=1e-08,\n",
       "              hidden_layer_sizes=(5, 2), learning_rate='constant',\n",
       "              learning_rate_init=0.001, max_fun=15000, max_iter=200,\n",
       "              momentum=0.9, n_iter_no_change=10, nesterovs_momentum=True,\n",
       "              power_t=0.5, random_state=1, shuffle=True, solver='lbfgs',\n",
       "              tol=0.0001, validation_fraction=0.1, verbose=False,\n",
       "              warm_start=False)"
      ]
     },
     "execution_count": 14,
     "metadata": {},
     "output_type": "execute_result"
    }
   ],
   "source": [
    "clf = MLPClassifier(solver='lbfgs', alpha=1e-5, hidden_layer_sizes=(5, 2), random_state=1)\n",
    "clf.fit(X_train, y_train)"
   ]
  },
  {
   "cell_type": "code",
   "execution_count": 15,
   "metadata": {},
   "outputs": [
    {
     "name": "stdout",
     "output_type": "stream",
     "text": [
      "Train score: 0.40207257623389814\n",
      "Test score: 0.36018737990715155\n"
     ]
    }
   ],
   "source": [
    "train_score = clf.score(X_train, y_train)\n",
    "test_score = clf.score(X_test, y_test)\n",
    "print(\"Train score: \" + str(train_score))\n",
    "print(\"Test score: \" + str(test_score))"
   ]
  },
  {
   "cell_type": "markdown",
   "metadata": {},
   "source": [
    "## Decision Tree"
   ]
  },
  {
   "cell_type": "code",
   "execution_count": 17,
   "metadata": {},
   "outputs": [],
   "source": [
    "clf = tree.DecisionTreeClassifier(max_depth=20)\n",
    "clf = clf.fit(X_train, y_train)"
   ]
  },
  {
   "cell_type": "code",
   "execution_count": 18,
   "metadata": {},
   "outputs": [
    {
     "name": "stdout",
     "output_type": "stream",
     "text": [
      "Train score: 0.45821486748856416\n",
      "Test score: 0.3170451198474032\n"
     ]
    }
   ],
   "source": [
    "train_score = clf.score(X_train, y_train)\n",
    "test_score = clf.score(X_test, y_test)\n",
    "print(\"Train score: \" + str(train_score))\n",
    "print(\"Test score: \" + str(test_score))"
   ]
  },
  {
   "cell_type": "markdown",
   "metadata": {},
   "source": [
    "# Normalize each song to let them have the same sum of words (By row)"
   ]
  },
  {
   "cell_type": "code",
   "execution_count": 27,
   "metadata": {},
   "outputs": [
    {
     "name": "stdout",
     "output_type": "stream",
     "text": [
      "[[0.09349593 0.0203252  0.05284553 ... 0.         0.         0.        ]\n",
      " [0.         0.1097561  0.07621951 ... 0.         0.         0.        ]\n",
      " [0.         0.12820513 0.01282051 ... 0.         0.         0.        ]\n",
      " ...\n",
      " [0.         0.01886792 0.         ... 0.         0.         0.        ]\n",
      " [0.04848485 0.03636364 0.03636364 ... 0.         0.         0.        ]\n",
      " [0.         0.04347826 0.00289855 ... 0.         0.         0.        ]]\n"
     ]
    }
   ],
   "source": [
    "X_sum = np.sum(X_loudness, axis=1).reshape((X_loudness.shape[0],1))\n",
    "X_loudness_n = X_loudness/X_sum\n",
    "print(X_loudness_n)"
   ]
  },
  {
   "cell_type": "code",
   "execution_count": 28,
   "metadata": {},
   "outputs": [],
   "source": [
    "X_train, X_test, y_train, y_test = train_test_split(X_loudness_n[:,20:], y_loudness, test_size=0.4, random_state=0)"
   ]
  },
  {
   "cell_type": "code",
   "execution_count": 29,
   "metadata": {
    "scrolled": true
   },
   "outputs": [
    {
     "name": "stdout",
     "output_type": "stream",
     "text": [
      "[0.00371463 0.0052025  0.00215893 ... 0.         0.         0.        ]\n",
      "Train score: 0.35455865130402464\n",
      "Test score: 0.3414611055593541\n",
      "[  6   9 284 260 240  39 563 262 109 224  54 347  55 121 313 434  49 184\n",
      "  33   3]\n",
      "love\n",
      "this\n",
      "blood\n",
      "kill\n",
      "fuck\n",
      "he\n",
      "bleed\n",
      "breath\n",
      "wanna\n",
      "blue\n",
      "life\n",
      "hell\n",
      "yeah\n",
      "noth\n",
      "death\n",
      "shit\n",
      "ca\n",
      "burn\n",
      "was\n",
      "no\n"
     ]
    }
   ],
   "source": [
    "clf = RandomForestClassifier(max_depth=5, random_state=0)\n",
    "clf.fit(X_train, y_train)\n",
    "print(clf.feature_importances_)\n",
    "train_score = clf.score(X_train, y_train)\n",
    "test_score = clf.score(X_test, y_test)\n",
    "print(\"Train score: \" + str(train_score))\n",
    "print(\"Test score: \" + str(test_score))\n",
    "imp = clf.feature_importances_\n",
    "top_twenty = imp.argsort()[-20:][::-1]\n",
    "print(top_twenty)\n",
    "for i in top_twenty:\n",
    "    print(word_list[i+21])"
   ]
  },
  {
   "cell_type": "code",
   "execution_count": 32,
   "metadata": {},
   "outputs": [
    {
     "data": {
      "text/plain": [
       "<BarContainer object of 20 artists>"
      ]
     },
     "execution_count": 32,
     "metadata": {},
     "output_type": "execute_result"
    },
    {
     "data": {
      "image/png": "[encoded data removed]",
      "text/plain": [
       "<Figure size 864x288 with 1 Axes>"
      ]
     },
     "metadata": {
      "needs_background": "light"
     },
     "output_type": "display_data"
    }
   ],
   "source": [
    "strs = list()\n",
    "heights = list()\n",
    "for i in top_twenty:\n",
    "    strs.append(word_list[i+21])\n",
    "    heights.append(imp[i])\n",
    "fig = plt.figure(figsize=(12, 4))\n",
    "ax = fig.add_subplot(111)\n",
    "ax.bar(strs, heights, width=0.8, bottom=None, align='center', data=None)"
   ]
  },
  {
   "cell_type": "code",
   "execution_count": 23,
   "metadata": {},
   "outputs": [
    {
     "name": "stdout",
     "output_type": "stream",
     "text": [
      "[3.85458088e-03 4.04343477e-03 3.16333198e-03 ... 1.05145367e-05\n",
      " 3.20733713e-05 1.17306772e-05]\n",
      "Train score: 0.6770268659228456\n",
      "Test score: 0.3552201125545679\n",
      "[  6   9 240  39 224  55 284   1 109  24   0   3  31  54  33 314  12 434\n",
      "  40 313]\n",
      "love\n",
      "this\n",
      "fuck\n",
      "he\n",
      "blue\n",
      "yeah\n",
      "blood\n",
      "all\n",
      "wanna\n",
      "up\n",
      "will\n",
      "no\n",
      "get\n",
      "life\n",
      "was\n",
      "hate\n",
      "what\n",
      "shit\n",
      "feel\n",
      "death\n"
     ]
    }
   ],
   "source": [
    "clf = RandomForestClassifier(max_depth=20, random_state=0)\n",
    "clf.fit(X_train, y_train)\n",
    "print(clf.feature_importances_)\n",
    "train_score = clf.score(X_train, y_train)\n",
    "test_score = clf.score(X_test, y_test)\n",
    "print(\"Train score: \" + str(train_score))\n",
    "print(\"Test score: \" + str(test_score))\n",
    "imp = clf.feature_importances_\n",
    "top_twenty = imp.argsort()[-20:][::-1]\n",
    "print(top_twenty)\n",
    "for i in top_twenty:\n",
    "    print(word_list[i+21])"
   ]
  },
  {
   "cell_type": "code",
   "execution_count": 34,
   "metadata": {},
   "outputs": [
    {
     "data": {
      "text/plain": [
       "<BarContainer object of 20 artists>"
      ]
     },
     "execution_count": 34,
     "metadata": {},
     "output_type": "execute_result"
    },
    {
     "data": {
      "image/png": "[encoded data removed]",
      "text/plain": [
       "<Figure size 648x288 with 1 Axes>"
      ]
     },
     "metadata": {
      "needs_background": "light"
     },
     "output_type": "display_data"
    }
   ],
   "source": [
    "strs = list()\n",
    "heights = list()\n",
    "for i in top_twenty:\n",
    "    strs.append(word_list[i+21])\n",
    "    heights.append(imp[i])\n",
    "fig = plt.figure(figsize=(9, 4))\n",
    "ax = fig.add_subplot(111)\n",
    "ax.bar(strs, heights, width=0.8, bottom=None, align='center', data=None)"
   ]
  },
  {
   "cell_type": "markdown",
   "metadata": {},
   "source": [
    "### Normalized Decision Tree"
   ]
  },
  {
   "cell_type": "code",
   "execution_count": 15,
   "metadata": {},
   "outputs": [],
   "source": [
    "clf = tree.DecisionTreeClassifier()\n",
    "clf = clf.fit(X_train, y_train)"
   ]
  },
  {
   "cell_type": "code",
   "execution_count": 16,
   "metadata": {},
   "outputs": [
    {
     "name": "stdout",
     "output_type": "stream",
     "text": [
      "Train score: 0.9894748231277387\n",
      "Test score: 0.2911261027503892\n"
     ]
    }
   ],
   "source": [
    "train_score = clf.score(X_train, y_train)\n",
    "test_score = clf.score(X_test, y_test)\n",
    "print(\"Train score: \" + str(train_score))\n",
    "print(\"Test score: \" + str(test_score))"
   ]
  },
  {
   "cell_type": "markdown",
   "metadata": {},
   "source": [
    "# Normalize by column to let each word have same occurrance"
   ]
  },
  {
   "cell_type": "code",
   "execution_count": 18,
   "metadata": {},
   "outputs": [
    {
     "name": "stdout",
     "output_type": "stream",
     "text": [
      "[[1.10640328e-05 2.68271718e-06 7.45303014e-06 ... 0.00000000e+00\n",
      "  0.00000000e+00 0.00000000e+00]\n",
      " [0.00000000e+00 1.93155637e-05 1.43327503e-05 ... 0.00000000e+00\n",
      "  0.00000000e+00 0.00000000e+00]\n",
      " [0.00000000e+00 5.36543437e-06 5.73310011e-07 ... 0.00000000e+00\n",
      "  0.00000000e+00 0.00000000e+00]\n",
      " ...\n",
      " [0.00000000e+00 5.36543437e-07 0.00000000e+00 ... 0.00000000e+00\n",
      "  0.00000000e+00 0.00000000e+00]\n",
      " [3.84835925e-06 3.21926062e-06 3.43986007e-06 ... 0.00000000e+00\n",
      "  0.00000000e+00 0.00000000e+00]\n",
      " [0.00000000e+00 8.04815155e-06 5.73310011e-07 ... 0.00000000e+00\n",
      "  0.00000000e+00 0.00000000e+00]]\n"
     ]
    }
   ],
   "source": [
    "X_sum_c = np.sum(X_loudness, axis=0).reshape((1, X_loudness.shape[1]))\n",
    "X_loudness_n_c = X_loudness/X_sum_c\n",
    "print(X_loudness_n_c)"
   ]
  },
  {
   "cell_type": "code",
   "execution_count": 24,
   "metadata": {},
   "outputs": [],
   "source": [
    "X_train, X_test, y_train, y_test = train_test_split(X_loudness_n_c[:,20:], y_loudness, test_size=0.4, random_state=0)"
   ]
  },
  {
   "cell_type": "code",
   "execution_count": 25,
   "metadata": {},
   "outputs": [
    {
     "name": "stdout",
     "output_type": "stream",
     "text": [
      "[0.0040129  0.01449196 0.00395303 ... 0.         0.         0.        ]\n",
      "Train score: 0.35086292137983266\n",
      "Test score: 0.34023036869510337\n",
      "[  6   9 284 240 260 262 563 109  54   1  55 184   3 121 347 434 313  49\n",
      " 171  39]\n",
      "love\n",
      "this\n",
      "blood\n",
      "fuck\n",
      "kill\n",
      "breath\n",
      "bleed\n",
      "wanna\n",
      "life\n",
      "all\n",
      "yeah\n",
      "burn\n",
      "no\n",
      "noth\n",
      "hell\n",
      "shit\n",
      "death\n",
      "ca\n",
      "these\n",
      "he\n"
     ]
    }
   ],
   "source": [
    "clf = RandomForestClassifier(max_depth=5, random_state=0)\n",
    "clf.fit(X_train, y_train)\n",
    "print(clf.feature_importances_)\n",
    "train_score = clf.score(X_train, y_train)\n",
    "test_score = clf.score(X_test, y_test)\n",
    "print(\"Train score: \" + str(train_score))\n",
    "print(\"Test score: \" + str(test_score))\n",
    "imp = clf.feature_importances_\n",
    "top_twenty = imp.argsort()[-20:][::-1]\n",
    "print(top_twenty)\n",
    "for i in top_twenty:\n",
    "    print(word_list[i+21])"
   ]
  },
  {
   "cell_type": "code",
   "execution_count": 26,
   "metadata": {
    "scrolled": true
   },
   "outputs": [
    {
     "data": {
      "text/plain": [
       "<BarContainer object of 20 artists>"
      ]
     },
     "execution_count": 26,
     "metadata": {},
     "output_type": "execute_result"
    },
    {
     "data": {
      "image/png": "[encoded data removed]",
      "text/plain": [
       "<Figure size 792x288 with 1 Axes>"
      ]
     },
     "metadata": {
      "needs_background": "light"
     },
     "output_type": "display_data"
    }
   ],
   "source": [
    "strs = list()\n",
    "heights = list()\n",
    "for i in top_twenty:\n",
    "    strs.append(word_list[i+21])\n",
    "    heights.append(imp[i])\n",
    "fig = plt.figure(figsize=(11, 4))\n",
    "ax = fig.add_subplot(111)\n",
    "ax.bar(strs, heights, width=0.8, bottom=None, align='center', data=None)"
   ]
  },
  {
   "cell_type": "code",
   "execution_count": 78,
   "metadata": {},
   "outputs": [
    {
     "name": "stdout",
     "output_type": "stream",
     "text": [
      "[2.55668679e-03 9.41301801e-03 2.91599251e-03 ... 5.68801240e-05\n",
      " 2.12631146e-05 5.09645185e-05]\n",
      "Train score: 0.40673366199849925\n",
      "Test score: 0.3468153368747699\n",
      "[  9 240   6 434 284  55 314 224 109  12  31   1  54  39 262 313 446 137\n",
      "  24 347]\n",
      "this\n",
      "fuck\n",
      "love\n",
      "shit\n",
      "blood\n",
      "yeah\n",
      "hate\n",
      "blue\n",
      "wanna\n",
      "what\n",
      "get\n",
      "all\n",
      "life\n",
      "he\n",
      "breath\n",
      "death\n",
      "control\n",
      "es\n",
      "up\n",
      "hell\n"
     ]
    }
   ],
   "source": [
    "clf = RandomForestClassifier(max_depth=10, random_state=0)\n",
    "clf.fit(X_train, y_train)\n",
    "print(clf.feature_importances_)\n",
    "train_score = clf.score(X_train, y_train)\n",
    "test_score = clf.score(X_test, y_test)\n",
    "print(\"Train score: \" + str(train_score))\n",
    "print(\"Test score: \" + str(test_score))\n",
    "imp = clf.feature_importances_\n",
    "top_twenty = imp.argsort()[-20:][::-1]\n",
    "print(top_twenty)\n",
    "for i in top_twenty:\n",
    "    print(word_list[i+21])"
   ]
  },
  {
   "cell_type": "code",
   "execution_count": 79,
   "metadata": {},
   "outputs": [
    {
     "name": "stdout",
     "output_type": "stream",
     "text": [
      "[3.54982647e-03 7.50205553e-03 3.21977270e-03 ... 6.13572745e-05\n",
      " 4.75602782e-05 9.70001739e-05]\n",
      "Train score: 0.520361578434329\n",
      "Test score: 0.3521169725976963\n",
      "[  9   6 240  55 109 434 284   1  31 314  12 224  39  54  24   3 262 313\n",
      "  40  29]\n",
      "this\n",
      "love\n",
      "fuck\n",
      "yeah\n",
      "wanna\n",
      "shit\n",
      "blood\n",
      "all\n",
      "get\n",
      "hate\n",
      "what\n",
      "blue\n",
      "he\n",
      "life\n",
      "up\n",
      "no\n",
      "breath\n",
      "death\n",
      "feel\n",
      "out\n"
     ]
    }
   ],
   "source": [
    "clf = RandomForestClassifier(max_depth=15, random_state=0)\n",
    "clf.fit(X_train, y_train)\n",
    "print(clf.feature_importances_)\n",
    "train_score = clf.score(X_train, y_train)\n",
    "test_score = clf.score(X_test, y_test)\n",
    "print(\"Train score: \" + str(train_score))\n",
    "print(\"Test score: \" + str(test_score))\n",
    "imp = clf.feature_importances_\n",
    "top_twenty = imp.argsort()[-20:][::-1]\n",
    "print(top_twenty)\n",
    "for i in top_twenty:\n",
    "    print(word_list[i+21])"
   ]
  },
  {
   "cell_type": "code",
   "execution_count": 80,
   "metadata": {},
   "outputs": [
    {
     "name": "stdout",
     "output_type": "stream",
     "text": [
      "[0.00383517 0.00599342 0.00381243 ... 0.00016128 0.0001027  0.00017963]\n",
      "Train score: 0.6554205207683191\n",
      "Test score: 0.3558933361384316\n",
      "[  9   6 240   1  55  12  31   3 109  24 284  39 224   7 434  54 314  29\n",
      "  15   0]\n",
      "this\n",
      "love\n",
      "fuck\n",
      "all\n",
      "yeah\n",
      "what\n",
      "get\n",
      "no\n",
      "wanna\n",
      "up\n",
      "blood\n",
      "he\n",
      "blue\n",
      "so\n",
      "shit\n",
      "life\n",
      "hate\n",
      "out\n",
      "like\n",
      "will\n"
     ]
    }
   ],
   "source": [
    "clf = RandomForestClassifier(max_depth=20, random_state=0)\n",
    "clf.fit(X_train, y_train)\n",
    "print(clf.feature_importances_)\n",
    "train_score = clf.score(X_train, y_train)\n",
    "test_score = clf.score(X_test, y_test)\n",
    "print(\"Train score: \" + str(train_score))\n",
    "print(\"Test score: \" + str(test_score))\n",
    "imp = clf.feature_importances_\n",
    "top_twenty = imp.argsort()[-20:][::-1]\n",
    "print(top_twenty)\n",
    "for i in top_twenty:\n",
    "    print(word_list[i+21])"
   ]
  },
  {
   "cell_type": "markdown",
   "metadata": {},
   "source": [
    "# Normalization doesn't give a better result for trees"
   ]
  },
  {
   "cell_type": "code",
   "execution_count": null,
   "metadata": {},
   "outputs": [],
   "source": []
  }
 ],
 "metadata": {
  "accelerator": "TPU",
  "colab": {
   "collapsed_sections": [],
   "name": "HW3_student_v4.ipynb",
   "provenance": []
  },
  "kernelspec": {
   "display_name": "Python 3",
   "language": "python",
   "name": "python3"
  },
  "language_info": {
   "codemirror_mode": {
    "name": "ipython",
    "version": 3
   },
   "file_extension": ".py",
   "mimetype": "text/x-python",
   "name": "python",
   "nbconvert_exporter": "python",
   "pygments_lexer": "ipython3",
   "version": "3.7.6"
  },
  "latex_envs": {
   "LaTeX_envs_menu_present": true,
   "autocomplete": true,
   "bibliofile": "biblio.bib",
   "cite_by": "apalike",
   "current_citInitial": 1,
   "eqLabelWithNumbers": true,
   "eqNumInitial": 1,
   "hotkeys": {
    "equation": "Ctrl-E",
    "itemize": "Ctrl-I"
   },
   "labels_anchors": false,
   "latex_user_defs": false,
   "report_style_numbering": false,
   "user_envs_cfg": false
  }
 },
 "nbformat": 4,
 "nbformat_minor": 1
}
