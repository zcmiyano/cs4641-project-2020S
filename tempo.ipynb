{
 "cells": [
  {
   "cell_type": "markdown",
   "metadata": {
    "ExecuteTime": {
     "end_time": "2019-06-20T17:17:25.168179Z",
     "start_time": "2019-06-20T17:17:24.986130Z"
    },
    "colab_type": "text",
    "id": "Hjp__3bRh42K",
    "run_control": {
     "frozen": false,
     "read_only": false
    }
   },
   "source": [
    "# Spring 2020 CS4641 Project\n"
   ]
  },
  {
   "cell_type": "markdown",
   "metadata": {
    "colab_type": "text",
    "id": "3akj-Wgji85Z",
    "run_control": {
     "frozen": false,
     "read_only": false
    }
   },
   "source": [
    "### Environment Setup"
   ]
  },
  {
   "cell_type": "code",
   "execution_count": 1,
   "metadata": {
    "ExecuteTime": {
     "end_time": "2019-06-22T17:18:34.536577Z",
     "start_time": "2019-06-22T17:18:34.485825Z"
    },
    "colab": {},
    "colab_type": "code",
    "id": "XMefd5nTi4Zv",
    "run_control": {
     "frozen": false,
     "read_only": false
    }
   },
   "outputs": [],
   "source": [
    "import os\n",
    "from scipy import ndimage, misc\n",
    "from matplotlib import pyplot as plt\n",
    "import numpy as np\n",
    "import pandas as pd\n",
    "%matplotlib inline"
   ]
  },
  {
   "cell_type": "code",
   "execution_count": 2,
   "metadata": {},
   "outputs": [],
   "source": [
    "from sklearn import decomposition\n",
    "from sklearn import datasets\n",
    "from sklearn import linear_model\n",
    "from sklearn.linear_model import LogisticRegression\n",
    "from sklearn import svm\n",
    "from sklearn.ensemble import RandomForestClassifier\n",
    "from sklearn.model_selection import train_test_split\n",
    "from sklearn.naive_bayes import GaussianNB\n",
    "from sklearn.neural_network import MLPClassifier\n",
    "from sklearn import tree"
   ]
  },
  {
   "cell_type": "code",
   "execution_count": 3,
   "metadata": {},
   "outputs": [],
   "source": [
    "from mpl_toolkits.mplot3d import Axes3D\n",
    "from matplotlib.colors import ListedColormap\n",
    "from sklearn.preprocessing import StandardScaler\n",
    "from sklearn.datasets import make_moons, make_circles, make_classification"
   ]
  },
  {
   "cell_type": "code",
   "execution_count": 4,
   "metadata": {},
   "outputs": [],
   "source": [
    "df = pd.read_pickle('dataframe_with_vector_compressed.pkl', compression='zip')"
   ]
  },
  {
   "cell_type": "code",
   "execution_count": 5,
   "metadata": {},
   "outputs": [
    {
     "data": {
      "text/html": [
       "<div>\n",
       "<style scoped>\n",
       "    .dataframe tbody tr th:only-of-type {\n",
       "        vertical-align: middle;\n",
       "    }\n",
       "\n",
       "    .dataframe tbody tr th {\n",
       "        vertical-align: top;\n",
       "    }\n",
       "\n",
       "    .dataframe thead th {\n",
       "        text-align: right;\n",
       "    }\n",
       "</style>\n",
       "<table border=\"1\" class=\"dataframe\">\n",
       "  <thead>\n",
       "    <tr style=\"text-align: right;\">\n",
       "      <th></th>\n",
       "      <th>track_id</th>\n",
       "      <th>artist_name</th>\n",
       "      <th>duration</th>\n",
       "      <th>loudness</th>\n",
       "      <th>tempo</th>\n",
       "      <th>title</th>\n",
       "      <th>year</th>\n",
       "      <th>lyrics</th>\n",
       "      <th>tags</th>\n",
       "      <th>lyrics_vector</th>\n",
       "    </tr>\n",
       "  </thead>\n",
       "  <tbody>\n",
       "    <tr>\n",
       "      <th>0</th>\n",
       "      <td>TRMMMKI128F931D80D</td>\n",
       "      <td>Lena Philipsson</td>\n",
       "      <td>262.26893</td>\n",
       "      <td>-3.925</td>\n",
       "      <td>122.332</td>\n",
       "      <td>006</td>\n",
       "      <td>1998</td>\n",
       "      <td>1:23,2:5,3:13,4:10,5:4,6:9,7:1,8:4,9:4,10:1,11...</td>\n",
       "      <td>[[swedish, 100], [pop, 100]]</td>\n",
       "      <td>[0, 23, 5, 13, 10, 4, 9, 1, 4, 4, 1, 2, 2, 2, ...</td>\n",
       "    </tr>\n",
       "    <tr>\n",
       "      <th>1</th>\n",
       "      <td>TRMMMUT128F42646E8</td>\n",
       "      <td>Shawn Colvin</td>\n",
       "      <td>216.47628</td>\n",
       "      <td>-14.379</td>\n",
       "      <td>99.214</td>\n",
       "      <td>(Looking For) The Heart Of Saturday</td>\n",
       "      <td>1994</td>\n",
       "      <td>2:36,3:25,4:2,5:8,6:2,7:1,8:6,10:8,12:5,13:19,...</td>\n",
       "      <td>[[cover, 100]]</td>\n",
       "      <td>[0, 0, 36, 25, 2, 8, 2, 1, 6, 0, 8, 0, 5, 19, ...</td>\n",
       "    </tr>\n",
       "    <tr>\n",
       "      <th>2</th>\n",
       "      <td>TRMMMQY128F92F0EA3</td>\n",
       "      <td>Dying Fetus</td>\n",
       "      <td>196.02240</td>\n",
       "      <td>-6.366</td>\n",
       "      <td>189.346</td>\n",
       "      <td>Ethos of Coercion</td>\n",
       "      <td>2009</td>\n",
       "      <td>2:10,3:1,4:2,5:1,9:1,10:1,13:9,14:2,18:1,21:1,...</td>\n",
       "      <td>[[Technical Death Metal, 100], [Brutal Death M...</td>\n",
       "      <td>[0, 0, 10, 1, 2, 1, 0, 0, 0, 1, 1, 0, 0, 9, 2,...</td>\n",
       "    </tr>\n",
       "    <tr>\n",
       "      <th>3</th>\n",
       "      <td>TRMMMTK128F424EF7C</td>\n",
       "      <td>Emery</td>\n",
       "      <td>217.57342</td>\n",
       "      <td>-4.867</td>\n",
       "      <td>88.423</td>\n",
       "      <td>Rock-N-Rule</td>\n",
       "      <td>2007</td>\n",
       "      <td>1:20,2:8,3:15,4:4,5:5,6:6,7:2,8:9,9:12,10:2,11...</td>\n",
       "      <td>[[post-hardcore, 100], [emo, 75], [rock, 50], ...</td>\n",
       "      <td>[0, 20, 8, 15, 4, 5, 6, 2, 9, 12, 2, 2, 7, 1, ...</td>\n",
       "    </tr>\n",
       "    <tr>\n",
       "      <th>4</th>\n",
       "      <td>TRMMMQV12903CA201E</td>\n",
       "      <td>Rev. Timothy Wright</td>\n",
       "      <td>353.77587</td>\n",
       "      <td>-7.569</td>\n",
       "      <td>167.850</td>\n",
       "      <td>I Made It Over</td>\n",
       "      <td>0</td>\n",
       "      <td>1:24,2:1,3:15,4:4,5:4,7:4,8:12,11:2,35:4,40:2,...</td>\n",
       "      <td>[[THE WRIGHT WAY, 100]]</td>\n",
       "      <td>[0, 24, 1, 15, 4, 4, 0, 4, 12, 0, 0, 2, 0, 0, ...</td>\n",
       "    </tr>\n",
       "    <tr>\n",
       "      <th>5</th>\n",
       "      <td>TRMMMNO128F93539AA</td>\n",
       "      <td>Martin Sexton</td>\n",
       "      <td>319.81669</td>\n",
       "      <td>-7.185</td>\n",
       "      <td>187.378</td>\n",
       "      <td>In The Journey</td>\n",
       "      <td>2001</td>\n",
       "      <td>1:30,2:15,3:4,4:6,5:15,6:5,7:3,8:13,9:11,10:6,...</td>\n",
       "      <td>[[singer-songwriter, 100], [rock, 66], [jazz, ...</td>\n",
       "      <td>[0, 30, 15, 4, 6, 15, 5, 3, 13, 11, 6, 5, 2, 2...</td>\n",
       "    </tr>\n",
       "    <tr>\n",
       "      <th>6</th>\n",
       "      <td>TRMMMPJ128F9306985</td>\n",
       "      <td>Christian Castro</td>\n",
       "      <td>258.89914</td>\n",
       "      <td>-4.660</td>\n",
       "      <td>157.862</td>\n",
       "      <td>Tu Vida Con La Mía</td>\n",
       "      <td>0</td>\n",
       "      <td>6:1,7:2,38:11,42:5,47:3,77:15,90:6,102:5,104:4...</td>\n",
       "      <td>[[cristian castro, 100], [azul, 100], [Roma, 5...</td>\n",
       "      <td>[0, 0, 0, 0, 0, 0, 1, 2, 0, 0, 0, 0, 0, 0, 0, ...</td>\n",
       "    </tr>\n",
       "    <tr>\n",
       "      <th>7</th>\n",
       "      <td>TRMMMRZ128F4265EB4</td>\n",
       "      <td>Aerosmith</td>\n",
       "      <td>253.70077</td>\n",
       "      <td>-3.278</td>\n",
       "      <td>67.060</td>\n",
       "      <td>I'm Ready</td>\n",
       "      <td>2004</td>\n",
       "      <td>1:23,2:1,3:13,4:2,5:2,6:5,7:4,8:2,9:2,12:1,13:...</td>\n",
       "      <td>[[classic rock, 100], [rock, 83], [hard rock, ...</td>\n",
       "      <td>[0, 23, 1, 13, 2, 2, 5, 4, 2, 2, 0, 0, 1, 1, 0...</td>\n",
       "    </tr>\n",
       "    <tr>\n",
       "      <th>8</th>\n",
       "      <td>TRMMMKQ128F92EBCB5</td>\n",
       "      <td>Kreator</td>\n",
       "      <td>372.42730</td>\n",
       "      <td>-6.663</td>\n",
       "      <td>191.665</td>\n",
       "      <td>All of the same blood</td>\n",
       "      <td>2001</td>\n",
       "      <td>2:12,3:2,4:3,5:4,10:2,12:1,13:9,15:2,17:1,21:2...</td>\n",
       "      <td>[[thrash metal, 100], [metal, 32], [thrash, 23...</td>\n",
       "      <td>[0, 0, 12, 2, 3, 4, 0, 0, 0, 0, 2, 0, 1, 9, 0,...</td>\n",
       "    </tr>\n",
       "    <tr>\n",
       "      <th>9</th>\n",
       "      <td>TRMMMBU128F9305AC3</td>\n",
       "      <td>The Maytals</td>\n",
       "      <td>175.20281</td>\n",
       "      <td>-9.049</td>\n",
       "      <td>156.753</td>\n",
       "      <td>Night And Day</td>\n",
       "      <td>1994</td>\n",
       "      <td>1:6,2:4,3:4,4:2,5:7,10:1,11:5,13:1,21:2,27:1,2...</td>\n",
       "      <td>[[reggae, 100], [rocksteady, 75], [EARLY REGGA...</td>\n",
       "      <td>[0, 6, 4, 4, 2, 7, 0, 0, 0, 0, 1, 5, 0, 1, 0, ...</td>\n",
       "    </tr>\n",
       "  </tbody>\n",
       "</table>\n",
       "</div>"
      ],
      "text/plain": [
       "             track_id          artist_name   duration  loudness    tempo  \\\n",
       "0  TRMMMKI128F931D80D      Lena Philipsson  262.26893    -3.925  122.332   \n",
       "1  TRMMMUT128F42646E8         Shawn Colvin  216.47628   -14.379   99.214   \n",
       "2  TRMMMQY128F92F0EA3          Dying Fetus  196.02240    -6.366  189.346   \n",
       "3  TRMMMTK128F424EF7C                Emery  217.57342    -4.867   88.423   \n",
       "4  TRMMMQV12903CA201E  Rev. Timothy Wright  353.77587    -7.569  167.850   \n",
       "5  TRMMMNO128F93539AA        Martin Sexton  319.81669    -7.185  187.378   \n",
       "6  TRMMMPJ128F9306985     Christian Castro  258.89914    -4.660  157.862   \n",
       "7  TRMMMRZ128F4265EB4            Aerosmith  253.70077    -3.278   67.060   \n",
       "8  TRMMMKQ128F92EBCB5              Kreator  372.42730    -6.663  191.665   \n",
       "9  TRMMMBU128F9305AC3          The Maytals  175.20281    -9.049  156.753   \n",
       "\n",
       "                                 title  year  \\\n",
       "0                                  006  1998   \n",
       "1  (Looking For) The Heart Of Saturday  1994   \n",
       "2                    Ethos of Coercion  2009   \n",
       "3                          Rock-N-Rule  2007   \n",
       "4                       I Made It Over     0   \n",
       "5                       In The Journey  2001   \n",
       "6                   Tu Vida Con La Mía     0   \n",
       "7                            I'm Ready  2004   \n",
       "8                All of the same blood  2001   \n",
       "9                        Night And Day  1994   \n",
       "\n",
       "                                              lyrics  \\\n",
       "0  1:23,2:5,3:13,4:10,5:4,6:9,7:1,8:4,9:4,10:1,11...   \n",
       "1  2:36,3:25,4:2,5:8,6:2,7:1,8:6,10:8,12:5,13:19,...   \n",
       "2  2:10,3:1,4:2,5:1,9:1,10:1,13:9,14:2,18:1,21:1,...   \n",
       "3  1:20,2:8,3:15,4:4,5:5,6:6,7:2,8:9,9:12,10:2,11...   \n",
       "4  1:24,2:1,3:15,4:4,5:4,7:4,8:12,11:2,35:4,40:2,...   \n",
       "5  1:30,2:15,3:4,4:6,5:15,6:5,7:3,8:13,9:11,10:6,...   \n",
       "6  6:1,7:2,38:11,42:5,47:3,77:15,90:6,102:5,104:4...   \n",
       "7  1:23,2:1,3:13,4:2,5:2,6:5,7:4,8:2,9:2,12:1,13:...   \n",
       "8  2:12,3:2,4:3,5:4,10:2,12:1,13:9,15:2,17:1,21:2...   \n",
       "9  1:6,2:4,3:4,4:2,5:7,10:1,11:5,13:1,21:2,27:1,2...   \n",
       "\n",
       "                                                tags  \\\n",
       "0                       [[swedish, 100], [pop, 100]]   \n",
       "1                                     [[cover, 100]]   \n",
       "2  [[Technical Death Metal, 100], [Brutal Death M...   \n",
       "3  [[post-hardcore, 100], [emo, 75], [rock, 50], ...   \n",
       "4                            [[THE WRIGHT WAY, 100]]   \n",
       "5  [[singer-songwriter, 100], [rock, 66], [jazz, ...   \n",
       "6  [[cristian castro, 100], [azul, 100], [Roma, 5...   \n",
       "7  [[classic rock, 100], [rock, 83], [hard rock, ...   \n",
       "8  [[thrash metal, 100], [metal, 32], [thrash, 23...   \n",
       "9  [[reggae, 100], [rocksteady, 75], [EARLY REGGA...   \n",
       "\n",
       "                                       lyrics_vector  \n",
       "0  [0, 23, 5, 13, 10, 4, 9, 1, 4, 4, 1, 2, 2, 2, ...  \n",
       "1  [0, 0, 36, 25, 2, 8, 2, 1, 6, 0, 8, 0, 5, 19, ...  \n",
       "2  [0, 0, 10, 1, 2, 1, 0, 0, 0, 1, 1, 0, 0, 9, 2,...  \n",
       "3  [0, 20, 8, 15, 4, 5, 6, 2, 9, 12, 2, 2, 7, 1, ...  \n",
       "4  [0, 24, 1, 15, 4, 4, 0, 4, 12, 0, 0, 2, 0, 0, ...  \n",
       "5  [0, 30, 15, 4, 6, 15, 5, 3, 13, 11, 6, 5, 2, 2...  \n",
       "6  [0, 0, 0, 0, 0, 0, 1, 2, 0, 0, 0, 0, 0, 0, 0, ...  \n",
       "7  [0, 23, 1, 13, 2, 2, 5, 4, 2, 2, 0, 0, 1, 1, 0...  \n",
       "8  [0, 0, 12, 2, 3, 4, 0, 0, 0, 0, 2, 0, 1, 9, 0,...  \n",
       "9  [0, 6, 4, 4, 2, 7, 0, 0, 0, 0, 1, 5, 0, 1, 0, ...  "
      ]
     },
     "execution_count": 5,
     "metadata": {},
     "output_type": "execute_result"
    }
   ],
   "source": [
    "df.head(10)"
   ]
  },
  {
   "cell_type": "markdown",
   "metadata": {},
   "source": [
    "# Tempo"
   ]
  },
  {
   "cell_type": "code",
   "execution_count": 5,
   "metadata": {},
   "outputs": [
    {
     "data": {
      "text/plain": [
       "count    237662.000000\n",
       "mean        126.213038\n",
       "std          34.293760\n",
       "min           0.000000\n",
       "25%          99.964000\n",
       "50%         122.920000\n",
       "75%         147.897750\n",
       "max         280.955000\n",
       "Name: tempo, dtype: float64"
      ]
     },
     "execution_count": 5,
     "metadata": {},
     "output_type": "execute_result"
    }
   ],
   "source": [
    "df['tempo'].describe()\n"
   ]
  },
  {
   "cell_type": "code",
   "execution_count": 6,
   "metadata": {},
   "outputs": [
    {
     "data": {
      "image/png": "[encoded data removed]",
      "text/plain": [
       "<Figure size 432x288 with 1 Axes>"
      ]
     },
     "metadata": {
      "needs_background": "light"
     },
     "output_type": "display_data"
    }
   ],
   "source": [
    "boxplot = df.boxplot(column=['tempo'])"
   ]
  },
  {
   "cell_type": "code",
   "execution_count": 7,
   "metadata": {},
   "outputs": [
    {
     "data": {
      "text/html": [
       "<div>\n",
       "<style scoped>\n",
       "    .dataframe tbody tr th:only-of-type {\n",
       "        vertical-align: middle;\n",
       "    }\n",
       "\n",
       "    .dataframe tbody tr th {\n",
       "        vertical-align: top;\n",
       "    }\n",
       "\n",
       "    .dataframe thead th {\n",
       "        text-align: right;\n",
       "    }\n",
       "</style>\n",
       "<table border=\"1\" class=\"dataframe\">\n",
       "  <thead>\n",
       "    <tr style=\"text-align: right;\">\n",
       "      <th></th>\n",
       "      <th>track_id</th>\n",
       "      <th>tempo</th>\n",
       "      <th>lyrics_vector</th>\n",
       "    </tr>\n",
       "  </thead>\n",
       "  <tbody>\n",
       "    <tr>\n",
       "      <th>0</th>\n",
       "      <td>TRMMMKI128F931D80D</td>\n",
       "      <td>122.332</td>\n",
       "      <td>[0, 23, 5, 13, 10, 4, 9, 1, 4, 4, 1, 2, 2, 2, ...</td>\n",
       "    </tr>\n",
       "    <tr>\n",
       "      <th>1</th>\n",
       "      <td>TRMMMUT128F42646E8</td>\n",
       "      <td>99.214</td>\n",
       "      <td>[0, 0, 36, 25, 2, 8, 2, 1, 6, 0, 8, 0, 5, 19, ...</td>\n",
       "    </tr>\n",
       "    <tr>\n",
       "      <th>2</th>\n",
       "      <td>TRMMMQY128F92F0EA3</td>\n",
       "      <td>189.346</td>\n",
       "      <td>[0, 0, 10, 1, 2, 1, 0, 0, 0, 1, 1, 0, 0, 9, 2,...</td>\n",
       "    </tr>\n",
       "    <tr>\n",
       "      <th>3</th>\n",
       "      <td>TRMMMTK128F424EF7C</td>\n",
       "      <td>88.423</td>\n",
       "      <td>[0, 20, 8, 15, 4, 5, 6, 2, 9, 12, 2, 2, 7, 1, ...</td>\n",
       "    </tr>\n",
       "    <tr>\n",
       "      <th>4</th>\n",
       "      <td>TRMMMQV12903CA201E</td>\n",
       "      <td>167.850</td>\n",
       "      <td>[0, 24, 1, 15, 4, 4, 0, 4, 12, 0, 0, 2, 0, 0, ...</td>\n",
       "    </tr>\n",
       "    <tr>\n",
       "      <th>5</th>\n",
       "      <td>TRMMMNO128F93539AA</td>\n",
       "      <td>187.378</td>\n",
       "      <td>[0, 30, 15, 4, 6, 15, 5, 3, 13, 11, 6, 5, 2, 2...</td>\n",
       "    </tr>\n",
       "    <tr>\n",
       "      <th>6</th>\n",
       "      <td>TRMMMPJ128F9306985</td>\n",
       "      <td>157.862</td>\n",
       "      <td>[0, 0, 0, 0, 0, 0, 1, 2, 0, 0, 0, 0, 0, 0, 0, ...</td>\n",
       "    </tr>\n",
       "    <tr>\n",
       "      <th>7</th>\n",
       "      <td>TRMMMRZ128F4265EB4</td>\n",
       "      <td>67.060</td>\n",
       "      <td>[0, 23, 1, 13, 2, 2, 5, 4, 2, 2, 0, 0, 1, 1, 0...</td>\n",
       "    </tr>\n",
       "    <tr>\n",
       "      <th>8</th>\n",
       "      <td>TRMMMKQ128F92EBCB5</td>\n",
       "      <td>191.665</td>\n",
       "      <td>[0, 0, 12, 2, 3, 4, 0, 0, 0, 0, 2, 0, 1, 9, 0,...</td>\n",
       "    </tr>\n",
       "    <tr>\n",
       "      <th>9</th>\n",
       "      <td>TRMMMBU128F9305AC3</td>\n",
       "      <td>156.753</td>\n",
       "      <td>[0, 6, 4, 4, 2, 7, 0, 0, 0, 0, 1, 5, 0, 1, 0, ...</td>\n",
       "    </tr>\n",
       "  </tbody>\n",
       "</table>\n",
       "</div>"
      ],
      "text/plain": [
       "             track_id    tempo  \\\n",
       "0  TRMMMKI128F931D80D  122.332   \n",
       "1  TRMMMUT128F42646E8   99.214   \n",
       "2  TRMMMQY128F92F0EA3  189.346   \n",
       "3  TRMMMTK128F424EF7C   88.423   \n",
       "4  TRMMMQV12903CA201E  167.850   \n",
       "5  TRMMMNO128F93539AA  187.378   \n",
       "6  TRMMMPJ128F9306985  157.862   \n",
       "7  TRMMMRZ128F4265EB4   67.060   \n",
       "8  TRMMMKQ128F92EBCB5  191.665   \n",
       "9  TRMMMBU128F9305AC3  156.753   \n",
       "\n",
       "                                       lyrics_vector  \n",
       "0  [0, 23, 5, 13, 10, 4, 9, 1, 4, 4, 1, 2, 2, 2, ...  \n",
       "1  [0, 0, 36, 25, 2, 8, 2, 1, 6, 0, 8, 0, 5, 19, ...  \n",
       "2  [0, 0, 10, 1, 2, 1, 0, 0, 0, 1, 1, 0, 0, 9, 2,...  \n",
       "3  [0, 20, 8, 15, 4, 5, 6, 2, 9, 12, 2, 2, 7, 1, ...  \n",
       "4  [0, 24, 1, 15, 4, 4, 0, 4, 12, 0, 0, 2, 0, 0, ...  \n",
       "5  [0, 30, 15, 4, 6, 15, 5, 3, 13, 11, 6, 5, 2, 2...  \n",
       "6  [0, 0, 0, 0, 0, 0, 1, 2, 0, 0, 0, 0, 0, 0, 0, ...  \n",
       "7  [0, 23, 1, 13, 2, 2, 5, 4, 2, 2, 0, 0, 1, 1, 0...  \n",
       "8  [0, 0, 12, 2, 3, 4, 0, 0, 0, 0, 2, 0, 1, 9, 0,...  \n",
       "9  [0, 6, 4, 4, 2, 7, 0, 0, 0, 0, 1, 5, 0, 1, 0, ...  "
      ]
     },
     "execution_count": 7,
     "metadata": {},
     "output_type": "execute_result"
    }
   ],
   "source": [
    "df_tempo = df\n",
    "df_tempo = df_tempo.drop('artist_name', axis = 1)\n",
    "df_tempo = df_tempo.drop('duration', axis = 1)\n",
    "df_tempo = df_tempo.drop('loudness', axis = 1)\n",
    "df_tempo = df_tempo.drop('title', axis = 1)\n",
    "df_tempo = df_tempo.drop('year', axis = 1)\n",
    "df_tempo = df_tempo.drop('lyrics', axis = 1)\n",
    "df_tempo = df_tempo.drop('tags', axis = 1)\n",
    "df_tempo.head(10)"
   ]
  },
  {
   "cell_type": "markdown",
   "metadata": {},
   "source": [
    "### We need to remove rows without tempo info, there turns out to be 266 such records."
   ]
  },
  {
   "cell_type": "code",
   "execution_count": 8,
   "metadata": {},
   "outputs": [
    {
     "name": "stdout",
     "output_type": "stream",
     "text": [
      "count    237662.000000\n",
      "mean        126.213038\n",
      "std          34.293760\n",
      "min           0.000000\n",
      "25%          99.964000\n",
      "50%         122.920000\n",
      "75%         147.897750\n",
      "max         280.955000\n",
      "Name: tempo, dtype: float64\n",
      "track_id         266\n",
      "tempo            266\n",
      "lyrics_vector    266\n",
      "dtype: int64\n",
      "count    237396.000000\n",
      "mean        126.354458\n",
      "std          34.051586\n",
      "min           9.604000\n",
      "25%          99.981000\n",
      "50%         122.950000\n",
      "75%         147.917000\n",
      "max         280.955000\n",
      "Name: tempo, dtype: float64\n"
     ]
    }
   ],
   "source": [
    "print(df_tempo['tempo'].describe())\n",
    "print(df_tempo[df_tempo['tempo'] == 0].count())\n",
    "df_tempo = df_tempo.replace(0, np.nan)\n",
    "df_tempo = df_tempo.dropna(how='any', axis=0)\n",
    "print(df_tempo['tempo'].describe())"
   ]
  },
  {
   "cell_type": "code",
   "execution_count": 7,
   "metadata": {},
   "outputs": [
    {
     "name": "stdout",
     "output_type": "stream",
     "text": [
      "Number of high tempo: 79078\n",
      "Percentage of high tempo: 33.31058653052284%\n"
     ]
    }
   ],
   "source": [
    "num_high_tempo = df_tempo[(df_tempo['tempo']>=138)]['track_id'].count()\n",
    "n = df_tempo['track_id'].count()\n",
    "print(\"Number of high tempo: \" + str(num_high_tempo))\n",
    "print(\"Percentage of high tempo: \" + str(num_high_tempo*100/n) + '%')"
   ]
  },
  {
   "cell_type": "code",
   "execution_count": 11,
   "metadata": {},
   "outputs": [
    {
     "name": "stdout",
     "output_type": "stream",
     "text": [
      "Number of low tempo: 79525\n",
      "Percentage of low tempo: 33.49887950934304%\n"
     ]
    }
   ],
   "source": [
    "num_low_tempo = df_tempo[(df_tempo['tempo']<108)]['track_id'].count()\n",
    "print(\"Number of low tempo: \" + str(num_low_tempo))\n",
    "print(\"Percentage of low tempo: \" + str(num_low_tempo*100/n) + '%')"
   ]
  },
  {
   "cell_type": "markdown",
   "metadata": {},
   "source": [
    "### We define tempo >= 138 as high tempo,  < 108 as low tempo, and others middle tempo to classify our data.\n",
    "#### High:2, Middle:1, Low:0"
   ]
  },
  {
   "cell_type": "code",
   "execution_count": 9,
   "metadata": {},
   "outputs": [
    {
     "data": {
      "text/html": [
       "<div>\n",
       "<style scoped>\n",
       "    .dataframe tbody tr th:only-of-type {\n",
       "        vertical-align: middle;\n",
       "    }\n",
       "\n",
       "    .dataframe tbody tr th {\n",
       "        vertical-align: top;\n",
       "    }\n",
       "\n",
       "    .dataframe thead th {\n",
       "        text-align: right;\n",
       "    }\n",
       "</style>\n",
       "<table border=\"1\" class=\"dataframe\">\n",
       "  <thead>\n",
       "    <tr style=\"text-align: right;\">\n",
       "      <th></th>\n",
       "      <th>track_id</th>\n",
       "      <th>tempo</th>\n",
       "      <th>lyrics_vector</th>\n",
       "      <th>tempo_type</th>\n",
       "      <th>tempo_class</th>\n",
       "    </tr>\n",
       "  </thead>\n",
       "  <tbody>\n",
       "    <tr>\n",
       "      <th>0</th>\n",
       "      <td>TRMMMKI128F931D80D</td>\n",
       "      <td>122.332</td>\n",
       "      <td>[0, 23, 5, 13, 10, 4, 9, 1, 4, 4, 1, 2, 2, 2, ...</td>\n",
       "      <td>middle</td>\n",
       "      <td>1</td>\n",
       "    </tr>\n",
       "    <tr>\n",
       "      <th>1</th>\n",
       "      <td>TRMMMUT128F42646E8</td>\n",
       "      <td>99.214</td>\n",
       "      <td>[0, 0, 36, 25, 2, 8, 2, 1, 6, 0, 8, 0, 5, 19, ...</td>\n",
       "      <td>low</td>\n",
       "      <td>0</td>\n",
       "    </tr>\n",
       "    <tr>\n",
       "      <th>2</th>\n",
       "      <td>TRMMMQY128F92F0EA3</td>\n",
       "      <td>189.346</td>\n",
       "      <td>[0, 0, 10, 1, 2, 1, 0, 0, 0, 1, 1, 0, 0, 9, 2,...</td>\n",
       "      <td>high</td>\n",
       "      <td>2</td>\n",
       "    </tr>\n",
       "    <tr>\n",
       "      <th>3</th>\n",
       "      <td>TRMMMTK128F424EF7C</td>\n",
       "      <td>88.423</td>\n",
       "      <td>[0, 20, 8, 15, 4, 5, 6, 2, 9, 12, 2, 2, 7, 1, ...</td>\n",
       "      <td>low</td>\n",
       "      <td>0</td>\n",
       "    </tr>\n",
       "    <tr>\n",
       "      <th>4</th>\n",
       "      <td>TRMMMQV12903CA201E</td>\n",
       "      <td>167.850</td>\n",
       "      <td>[0, 24, 1, 15, 4, 4, 0, 4, 12, 0, 0, 2, 0, 0, ...</td>\n",
       "      <td>high</td>\n",
       "      <td>2</td>\n",
       "    </tr>\n",
       "    <tr>\n",
       "      <th>5</th>\n",
       "      <td>TRMMMNO128F93539AA</td>\n",
       "      <td>187.378</td>\n",
       "      <td>[0, 30, 15, 4, 6, 15, 5, 3, 13, 11, 6, 5, 2, 2...</td>\n",
       "      <td>high</td>\n",
       "      <td>2</td>\n",
       "    </tr>\n",
       "    <tr>\n",
       "      <th>6</th>\n",
       "      <td>TRMMMPJ128F9306985</td>\n",
       "      <td>157.862</td>\n",
       "      <td>[0, 0, 0, 0, 0, 0, 1, 2, 0, 0, 0, 0, 0, 0, 0, ...</td>\n",
       "      <td>high</td>\n",
       "      <td>2</td>\n",
       "    </tr>\n",
       "    <tr>\n",
       "      <th>7</th>\n",
       "      <td>TRMMMRZ128F4265EB4</td>\n",
       "      <td>67.060</td>\n",
       "      <td>[0, 23, 1, 13, 2, 2, 5, 4, 2, 2, 0, 0, 1, 1, 0...</td>\n",
       "      <td>low</td>\n",
       "      <td>0</td>\n",
       "    </tr>\n",
       "    <tr>\n",
       "      <th>8</th>\n",
       "      <td>TRMMMKQ128F92EBCB5</td>\n",
       "      <td>191.665</td>\n",
       "      <td>[0, 0, 12, 2, 3, 4, 0, 0, 0, 0, 2, 0, 1, 9, 0,...</td>\n",
       "      <td>high</td>\n",
       "      <td>2</td>\n",
       "    </tr>\n",
       "    <tr>\n",
       "      <th>9</th>\n",
       "      <td>TRMMMBU128F9305AC3</td>\n",
       "      <td>156.753</td>\n",
       "      <td>[0, 6, 4, 4, 2, 7, 0, 0, 0, 0, 1, 5, 0, 1, 0, ...</td>\n",
       "      <td>high</td>\n",
       "      <td>2</td>\n",
       "    </tr>\n",
       "  </tbody>\n",
       "</table>\n",
       "</div>"
      ],
      "text/plain": [
       "             track_id    tempo  \\\n",
       "0  TRMMMKI128F931D80D  122.332   \n",
       "1  TRMMMUT128F42646E8   99.214   \n",
       "2  TRMMMQY128F92F0EA3  189.346   \n",
       "3  TRMMMTK128F424EF7C   88.423   \n",
       "4  TRMMMQV12903CA201E  167.850   \n",
       "5  TRMMMNO128F93539AA  187.378   \n",
       "6  TRMMMPJ128F9306985  157.862   \n",
       "7  TRMMMRZ128F4265EB4   67.060   \n",
       "8  TRMMMKQ128F92EBCB5  191.665   \n",
       "9  TRMMMBU128F9305AC3  156.753   \n",
       "\n",
       "                                       lyrics_vector tempo_type tempo_class  \n",
       "0  [0, 23, 5, 13, 10, 4, 9, 1, 4, 4, 1, 2, 2, 2, ...     middle           1  \n",
       "1  [0, 0, 36, 25, 2, 8, 2, 1, 6, 0, 8, 0, 5, 19, ...        low           0  \n",
       "2  [0, 0, 10, 1, 2, 1, 0, 0, 0, 1, 1, 0, 0, 9, 2,...       high           2  \n",
       "3  [0, 20, 8, 15, 4, 5, 6, 2, 9, 12, 2, 2, 7, 1, ...        low           0  \n",
       "4  [0, 24, 1, 15, 4, 4, 0, 4, 12, 0, 0, 2, 0, 0, ...       high           2  \n",
       "5  [0, 30, 15, 4, 6, 15, 5, 3, 13, 11, 6, 5, 2, 2...       high           2  \n",
       "6  [0, 0, 0, 0, 0, 0, 1, 2, 0, 0, 0, 0, 0, 0, 0, ...       high           2  \n",
       "7  [0, 23, 1, 13, 2, 2, 5, 4, 2, 2, 0, 0, 1, 1, 0...        low           0  \n",
       "8  [0, 0, 12, 2, 3, 4, 0, 0, 0, 0, 2, 0, 1, 9, 0,...       high           2  \n",
       "9  [0, 6, 4, 4, 2, 7, 0, 0, 0, 0, 1, 5, 0, 1, 0, ...       high           2  "
      ]
     },
     "execution_count": 9,
     "metadata": {},
     "output_type": "execute_result"
    }
   ],
   "source": [
    "def f(row):\n",
    "    if row['tempo'] >= 138:\n",
    "        val = 'high'\n",
    "    elif row['tempo'] < 108:\n",
    "        val = 'low'\n",
    "    else:\n",
    "        val = 'middle'\n",
    "    return val\n",
    "df_tempo['tempo_type'] = df_tempo.apply(f, axis=1)\n",
    "def f2(row):\n",
    "    if row['tempo'] >= 138:\n",
    "        val = '2'\n",
    "    elif row['tempo'] < 108:\n",
    "        val = '0'\n",
    "    else:\n",
    "        val = '1'\n",
    "    return val\n",
    "df_tempo['tempo_class'] = df_tempo.apply(f2, axis=1)\n",
    "df_tempo.head(10)"
   ]
  },
  {
   "cell_type": "code",
   "execution_count": 10,
   "metadata": {},
   "outputs": [
    {
     "name": "stdout",
     "output_type": "stream",
     "text": [
      "[[23  5 13 ...  0  0  0]\n",
      " [ 0 36 25 ...  0  0  0]\n",
      " [ 0 10  1 ...  0  0  0]\n",
      " ...\n",
      " [ 0  1  0 ...  0  0  0]\n",
      " [ 8  6  6 ...  0  0  0]\n",
      " [ 0 15  1 ...  0  0  0]]\n",
      "(237396, 5000)\n",
      "[1 0 2 0 2 2 2 0 2 2 1 2 1 1 0 2 1 2 2 2]\n"
     ]
    }
   ],
   "source": [
    "# Get data to plot\n",
    "X_tempo = np.array(df_tempo[\"lyrics_vector\"].values.tolist())[:,1:]\n",
    "print(X_tempo)\n",
    "print(X_tempo.shape)\n",
    "\n",
    "y_tempo = np.array(df_tempo[\"tempo_class\"]).astype(int)\n",
    "print(y_tempo[:20])"
   ]
  },
  {
   "cell_type": "code",
   "execution_count": 12,
   "metadata": {},
   "outputs": [
    {
     "data": {
      "image/png": "[encoded data removed]",
      "text/plain": [
       "<Figure size 432x288 with 1 Axes>"
      ]
     },
     "metadata": {
      "needs_background": "light"
     },
     "output_type": "display_data"
    }
   ],
   "source": [
    "y_tempo_ori = np.array(df_tempo[\"tempo\"])\n",
    "plt.xlabel('Tempo')\n",
    "plt.ylabel('Frequency')\n",
    "plt.hist(y_tempo_ori, bins=40)\n",
    "plt.show()"
   ]
  },
  {
   "cell_type": "code",
   "execution_count": 10,
   "metadata": {},
   "outputs": [
    {
     "name": "stdout",
     "output_type": "stream",
     "text": [
      "[2077268 1862005 1742669 ...     581     671     316]\n",
      "(5000,)\n",
      "(array([], dtype=int64),)\n"
     ]
    }
   ],
   "source": [
    "X_sum = np.sum(X_tempo, axis = 0)\n",
    "print(X_sum)\n",
    "print(X_sum.shape)\n",
    "bool_sum = np.where(X_sum < 100)\n",
    "print(bool_sum)"
   ]
  },
  {
   "cell_type": "code",
   "execution_count": 26,
   "metadata": {},
   "outputs": [],
   "source": [
    "#tempo_data =  np.column_stack((X_tempo, y_tempo))\n",
    "#print(tempo_data.shape)\n",
    "#pd.DataFrame(tempo_data).to_pickle(\"tempo_data.pkl\")"
   ]
  },
  {
   "cell_type": "markdown",
   "metadata": {},
   "source": [
    "# Can start from here"
   ]
  },
  {
   "cell_type": "code",
   "execution_count": 27,
   "metadata": {},
   "outputs": [],
   "source": [
    "#tempo = pd.read_pickle(\"tempo_data.pkl\")\n",
    "#print(tempo)"
   ]
  },
  {
   "cell_type": "code",
   "execution_count": 25,
   "metadata": {},
   "outputs": [
    {
     "name": "stdout",
     "output_type": "stream",
     "text": [
      "Starting PCA Decomposition ...\n",
      "Fitting Data ...\n",
      "Transforming X ...\n",
      "(237396, 600)\n",
      "Variance retained by top 20 components\n",
      "[0.18406227 0.06164153 0.04533659 0.02502127 0.02172392 0.01829149\n",
      " 0.01549867 0.0147609  0.01313521 0.01195912 0.01044419 0.01004684\n",
      " 0.00962855 0.00912082 0.00825902 0.00812029 0.0076985  0.00752397\n",
      " 0.00724222 0.00692411]\n",
      "Variance Retained: 0.8984975226673326\n"
     ]
    }
   ],
   "source": [
    "# Apply PCA\n",
    "print(\"Starting PCA Decomposition ...\")\n",
    "pca = decomposition.TruncatedSVD(n_components=600)\n",
    "print(\"Fitting Data ...\")\n",
    "pca.fit(X_tempo)\n",
    "print(\"Transforming X ...\")\n",
    "X_tempo_transform = pca.transform(X_tempo)\n",
    "print(X_tempo_transform.shape)\n",
    "variance = pca.explained_variance_ratio_\n",
    "print(\"Variance retained by top 20 components\")\n",
    "print(variance[:20])\n",
    "print(\"Variance Retained: \" + str(np.sum(variance)))"
   ]
  },
  {
   "cell_type": "code",
   "execution_count": 28,
   "metadata": {},
   "outputs": [],
   "source": [
    "pd.DataFrame(X_tempo_transform).to_pickle(\"pca_tempo.pkl\")"
   ]
  },
  {
   "cell_type": "code",
   "execution_count": 24,
   "metadata": {},
   "outputs": [
    {
     "data": {
      "image/png": "[encoded data removed]",
      "text/plain": [
       "<Figure size 432x288 with 1 Axes>"
      ]
     },
     "metadata": {
      "needs_background": "light"
     },
     "output_type": "display_data"
    }
   ],
   "source": [
    "fig = plt.figure()\n",
    "ax = fig.add_subplot(111, projection='3d')\n",
    "ax.scatter(X_tempo_transform[:,0], X_tempo_transform[:,1], X_tempo_transform[:,2], c = y_tempo, marker = 'o')\n",
    "plt.show()"
   ]
  },
  {
   "cell_type": "code",
   "execution_count": 25,
   "metadata": {},
   "outputs": [
    {
     "data": {
      "image/png": "[encoded data removed]",
      "text/plain": [
       "<Figure size 432x288 with 1 Axes>"
      ]
     },
     "metadata": {
      "needs_background": "light"
     },
     "output_type": "display_data"
    }
   ],
   "source": [
    "fig, ax = plt.subplots()\n",
    "ax.scatter(X_tempo_transform[:,0], X_tempo_transform[:,1], c = y_tempo, marker = 'o')\n",
    "plt.show()"
   ]
  },
  {
   "cell_type": "code",
   "execution_count": 11,
   "metadata": {},
   "outputs": [],
   "source": [
    "import json\n",
    "with open(\"word_list.json\", 'r') as w:\n",
    "    word_list = list(json.load(w))"
   ]
  },
  {
   "cell_type": "markdown",
   "metadata": {},
   "source": [
    "# Three classes"
   ]
  },
  {
   "cell_type": "code",
   "execution_count": 11,
   "metadata": {},
   "outputs": [],
   "source": [
    "X_train, X_test, y_train, y_test = train_test_split(X_tempo, y_tempo, test_size=0.3, random_state=0)"
   ]
  },
  {
   "cell_type": "code",
   "execution_count": 23,
   "metadata": {},
   "outputs": [],
   "source": [
    "def accuracy(y_predict, y_test):\n",
    "    accuracy = 0\n",
    "    n = y_predict.shape[0]\n",
    "    for i in range(n):\n",
    "        if y_predict[i] == y_test[i]:\n",
    "            accuracy += 1\n",
    "    accuracy /= n\n",
    "    return accuracy"
   ]
  },
  {
   "cell_type": "markdown",
   "metadata": {},
   "source": [
    "## Linear regression"
   ]
  },
  {
   "cell_type": "code",
   "execution_count": 18,
   "metadata": {},
   "outputs": [],
   "source": [
    "reg = linear_model.LinearRegression().fit(X_train, y_train)"
   ]
  },
  {
   "cell_type": "code",
   "execution_count": 24,
   "metadata": {},
   "outputs": [
    {
     "name": "stdout",
     "output_type": "stream",
     "text": [
      "0.3353880284755473\n"
     ]
    }
   ],
   "source": [
    "y_pred = reg.predict(X_test)\n",
    "n = y_pred.shape[0]\n",
    "y_predict_class = np.zeros(n)\n",
    "for i in range(n):\n",
    "    if y_pred[i] >= 138:\n",
    "        y_predict_class[i] = 2\n",
    "    elif y_pred[i] < 108:\n",
    "        y_predict_class[i] = 0\n",
    "    else:\n",
    "        y_predict_class[i] = 1\n",
    "print(accuracy(y_predict_class, y_test))"
   ]
  },
  {
   "cell_type": "code",
   "execution_count": 25,
   "metadata": {},
   "outputs": [
    {
     "name": "stdout",
     "output_type": "stream",
     "text": [
      "0.33481769438610637\n"
     ]
    }
   ],
   "source": [
    "y_pred = reg.predict(X_train)\n",
    "n = y_pred.shape[0]\n",
    "y_predict_class = np.zeros(n)\n",
    "for i in range(n):\n",
    "    if y_pred[i] >= 138:\n",
    "        y_predict_class[i] = 2\n",
    "    elif y_pred[i] < 108:\n",
    "        y_predict_class[i] = 0\n",
    "    else:\n",
    "        y_predict_class[i] = 1\n",
    "print(accuracy(y_predict_class, y_train))"
   ]
  },
  {
   "cell_type": "markdown",
   "metadata": {},
   "source": [
    "## Gaussion Navie Bayes"
   ]
  },
  {
   "cell_type": "code",
   "execution_count": 17,
   "metadata": {},
   "outputs": [
    {
     "name": "stdout",
     "output_type": "stream",
     "text": [
      "Train score: 0.3879899143684144\n",
      "Test score: 0.3538241199679861\n"
     ]
    }
   ],
   "source": [
    "gnb = GaussianNB()\n",
    "y_pred = gnb.fit(X_train, y_train).predict(X_test)\n",
    "train_score = gnb.score(X_train, y_train)\n",
    "test_score = gnb.score(X_test, y_test)\n",
    "print(\"Train score: \" + str(train_score))\n",
    "print(\"Test score: \" + str(test_score))"
   ]
  },
  {
   "cell_type": "markdown",
   "metadata": {},
   "source": [
    "## Logistic regression"
   ]
  },
  {
   "cell_type": "code",
   "execution_count": 26,
   "metadata": {},
   "outputs": [
    {
     "name": "stdout",
     "output_type": "stream",
     "text": [
      "Train score: 0.4399164746023818\n",
      "Test score: 0.37353796037574244\n"
     ]
    }
   ],
   "source": [
    "clf = LogisticRegression(random_state=0, max_iter = 2000).fit(X_train, y_train)\n",
    "train_score = clf.score(X_train, y_train)\n",
    "test_score = clf.score(X_test, y_test)\n",
    "print(\"Train score: \" + str(train_score))\n",
    "print(\"Test score: \" + str(test_score))"
   ]
  },
  {
   "cell_type": "markdown",
   "metadata": {},
   "source": [
    "## Random Forest"
   ]
  },
  {
   "cell_type": "code",
   "execution_count": 13,
   "metadata": {},
   "outputs": [
    {
     "name": "stdout",
     "output_type": "stream",
     "text": [
      "[0.00533835 0.01553227 0.00431389 ... 0.         0.         0.        ]\n",
      "Train score: 0.38433718264260397\n",
      "Test score: 0.37585475785955996\n"
     ]
    }
   ],
   "source": [
    "clf = RandomForestClassifier(max_depth=5, random_state=0)\n",
    "clf.fit(X_train, y_train)\n",
    "print(clf.feature_importances_)\n",
    "train_score = clf.score(X_train, y_train)\n",
    "test_score = clf.score(X_test, y_test)\n",
    "print(\"Train score: \" + str(train_score))\n",
    "print(\"Test score: \" + str(test_score))"
   ]
  },
  {
   "cell_type": "code",
   "execution_count": 32,
   "metadata": {},
   "outputs": [],
   "source": [
    "X_pca_tempo = pd.read_pickle(\"pca_tempo.pkl\").to_numpy()"
   ]
  },
  {
   "cell_type": "code",
   "execution_count": 33,
   "metadata": {},
   "outputs": [
    {
     "name": "stdout",
     "output_type": "stream",
     "text": [
      "[[ 3.07013006e+01  9.22495881e+00  6.59561262e+00 ...  4.03045156e-01\n",
      "   3.23892730e-01 -3.65760052e-01]\n",
      " [ 3.80011641e+01 -2.12355062e+01 -2.29746076e+01 ... -2.60469102e-01\n",
      "   2.28813747e-01 -4.17079283e-01]\n",
      " [ 7.33625047e+00 -8.39224919e+00 -1.69346010e+00 ...  1.06900104e-01\n",
      "   2.80886702e-02 -5.24934930e-02]\n",
      " ...\n",
      " [ 2.49272109e+00 -1.51323516e+00 -3.55356870e-01 ...  5.44575898e-01\n",
      "   4.29338924e-01 -2.89984180e-01]\n",
      " [ 1.55468469e+01  1.86691897e-01  9.79141104e-02 ... -2.55036633e-01\n",
      "   5.10434039e-03  1.17247488e-01]\n",
      " [ 2.16487448e+01 -1.60368734e+01 -1.89754529e+00 ...  4.42241620e-01\n",
      "   3.65240785e-01 -1.67787582e-01]]\n",
      "(237396, 600)\n"
     ]
    }
   ],
   "source": [
    "print(X_pca_tempo)\n",
    "print(X_pca_tempo.shape)"
   ]
  },
  {
   "cell_type": "code",
   "execution_count": 27,
   "metadata": {},
   "outputs": [],
   "source": [
    "X_train = X_tempo[:18000,:]\n",
    "y_train = y_tempo[:18000]\n",
    "X_test = X_tempo[18000:,:]\n",
    "y_test = y_tempo[18000:]"
   ]
  },
  {
   "cell_type": "code",
   "execution_count": 23,
   "metadata": {},
   "outputs": [
    {
     "data": {
      "text/plain": [
       "array([2, 1, 1, ..., 1, 1, 2])"
      ]
     },
     "execution_count": 23,
     "metadata": {},
     "output_type": "execute_result"
    }
   ],
   "source": [
    "clf = LogisticRegression(random_state=0, max_iter = 5000).fit(X_train, y_train)\n",
    "clf.predict(X_test)"
   ]
  },
  {
   "cell_type": "code",
   "execution_count": 25,
   "metadata": {},
   "outputs": [],
   "source": [
    "y_predict = clf.predict(X_test)"
   ]
  },
  {
   "cell_type": "code",
   "execution_count": 50,
   "metadata": {},
   "outputs": [
    {
     "name": "stdout",
     "output_type": "stream",
     "text": [
      "0.3508313734069901\n"
     ]
    }
   ],
   "source": [
    "print(accuracy(y_predict, y_test))"
   ]
  },
  {
   "cell_type": "markdown",
   "metadata": {},
   "source": [
    "## Two Classes"
   ]
  },
  {
   "cell_type": "code",
   "execution_count": 14,
   "metadata": {},
   "outputs": [
    {
     "data": {
      "text/html": [
       "<div>\n",
       "<style scoped>\n",
       "    .dataframe tbody tr th:only-of-type {\n",
       "        vertical-align: middle;\n",
       "    }\n",
       "\n",
       "    .dataframe tbody tr th {\n",
       "        vertical-align: top;\n",
       "    }\n",
       "\n",
       "    .dataframe thead th {\n",
       "        text-align: right;\n",
       "    }\n",
       "</style>\n",
       "<table border=\"1\" class=\"dataframe\">\n",
       "  <thead>\n",
       "    <tr style=\"text-align: right;\">\n",
       "      <th></th>\n",
       "      <th>track_id</th>\n",
       "      <th>tempo</th>\n",
       "      <th>lyrics_vector</th>\n",
       "      <th>tempo_type</th>\n",
       "      <th>tempo_class</th>\n",
       "      <th>tempo_hl</th>\n",
       "    </tr>\n",
       "  </thead>\n",
       "  <tbody>\n",
       "    <tr>\n",
       "      <th>0</th>\n",
       "      <td>TRMMMKI128F931D80D</td>\n",
       "      <td>122.332</td>\n",
       "      <td>[0, 23, 5, 13, 10, 4, 9, 1, 4, 4, 1, 2, 2, 2, ...</td>\n",
       "      <td>middle</td>\n",
       "      <td>1</td>\n",
       "      <td>0</td>\n",
       "    </tr>\n",
       "    <tr>\n",
       "      <th>1</th>\n",
       "      <td>TRMMMUT128F42646E8</td>\n",
       "      <td>99.214</td>\n",
       "      <td>[0, 0, 36, 25, 2, 8, 2, 1, 6, 0, 8, 0, 5, 19, ...</td>\n",
       "      <td>low</td>\n",
       "      <td>0</td>\n",
       "      <td>0</td>\n",
       "    </tr>\n",
       "    <tr>\n",
       "      <th>2</th>\n",
       "      <td>TRMMMQY128F92F0EA3</td>\n",
       "      <td>189.346</td>\n",
       "      <td>[0, 0, 10, 1, 2, 1, 0, 0, 0, 1, 1, 0, 0, 9, 2,...</td>\n",
       "      <td>high</td>\n",
       "      <td>2</td>\n",
       "      <td>1</td>\n",
       "    </tr>\n",
       "    <tr>\n",
       "      <th>3</th>\n",
       "      <td>TRMMMTK128F424EF7C</td>\n",
       "      <td>88.423</td>\n",
       "      <td>[0, 20, 8, 15, 4, 5, 6, 2, 9, 12, 2, 2, 7, 1, ...</td>\n",
       "      <td>low</td>\n",
       "      <td>0</td>\n",
       "      <td>0</td>\n",
       "    </tr>\n",
       "    <tr>\n",
       "      <th>4</th>\n",
       "      <td>TRMMMQV12903CA201E</td>\n",
       "      <td>167.850</td>\n",
       "      <td>[0, 24, 1, 15, 4, 4, 0, 4, 12, 0, 0, 2, 0, 0, ...</td>\n",
       "      <td>high</td>\n",
       "      <td>2</td>\n",
       "      <td>1</td>\n",
       "    </tr>\n",
       "    <tr>\n",
       "      <th>5</th>\n",
       "      <td>TRMMMNO128F93539AA</td>\n",
       "      <td>187.378</td>\n",
       "      <td>[0, 30, 15, 4, 6, 15, 5, 3, 13, 11, 6, 5, 2, 2...</td>\n",
       "      <td>high</td>\n",
       "      <td>2</td>\n",
       "      <td>1</td>\n",
       "    </tr>\n",
       "    <tr>\n",
       "      <th>6</th>\n",
       "      <td>TRMMMPJ128F9306985</td>\n",
       "      <td>157.862</td>\n",
       "      <td>[0, 0, 0, 0, 0, 0, 1, 2, 0, 0, 0, 0, 0, 0, 0, ...</td>\n",
       "      <td>high</td>\n",
       "      <td>2</td>\n",
       "      <td>1</td>\n",
       "    </tr>\n",
       "    <tr>\n",
       "      <th>7</th>\n",
       "      <td>TRMMMRZ128F4265EB4</td>\n",
       "      <td>67.060</td>\n",
       "      <td>[0, 23, 1, 13, 2, 2, 5, 4, 2, 2, 0, 0, 1, 1, 0...</td>\n",
       "      <td>low</td>\n",
       "      <td>0</td>\n",
       "      <td>0</td>\n",
       "    </tr>\n",
       "    <tr>\n",
       "      <th>8</th>\n",
       "      <td>TRMMMKQ128F92EBCB5</td>\n",
       "      <td>191.665</td>\n",
       "      <td>[0, 0, 12, 2, 3, 4, 0, 0, 0, 0, 2, 0, 1, 9, 0,...</td>\n",
       "      <td>high</td>\n",
       "      <td>2</td>\n",
       "      <td>1</td>\n",
       "    </tr>\n",
       "    <tr>\n",
       "      <th>9</th>\n",
       "      <td>TRMMMBU128F9305AC3</td>\n",
       "      <td>156.753</td>\n",
       "      <td>[0, 6, 4, 4, 2, 7, 0, 0, 0, 0, 1, 5, 0, 1, 0, ...</td>\n",
       "      <td>high</td>\n",
       "      <td>2</td>\n",
       "      <td>1</td>\n",
       "    </tr>\n",
       "  </tbody>\n",
       "</table>\n",
       "</div>"
      ],
      "text/plain": [
       "             track_id    tempo  \\\n",
       "0  TRMMMKI128F931D80D  122.332   \n",
       "1  TRMMMUT128F42646E8   99.214   \n",
       "2  TRMMMQY128F92F0EA3  189.346   \n",
       "3  TRMMMTK128F424EF7C   88.423   \n",
       "4  TRMMMQV12903CA201E  167.850   \n",
       "5  TRMMMNO128F93539AA  187.378   \n",
       "6  TRMMMPJ128F9306985  157.862   \n",
       "7  TRMMMRZ128F4265EB4   67.060   \n",
       "8  TRMMMKQ128F92EBCB5  191.665   \n",
       "9  TRMMMBU128F9305AC3  156.753   \n",
       "\n",
       "                                       lyrics_vector tempo_type tempo_class  \\\n",
       "0  [0, 23, 5, 13, 10, 4, 9, 1, 4, 4, 1, 2, 2, 2, ...     middle           1   \n",
       "1  [0, 0, 36, 25, 2, 8, 2, 1, 6, 0, 8, 0, 5, 19, ...        low           0   \n",
       "2  [0, 0, 10, 1, 2, 1, 0, 0, 0, 1, 1, 0, 0, 9, 2,...       high           2   \n",
       "3  [0, 20, 8, 15, 4, 5, 6, 2, 9, 12, 2, 2, 7, 1, ...        low           0   \n",
       "4  [0, 24, 1, 15, 4, 4, 0, 4, 12, 0, 0, 2, 0, 0, ...       high           2   \n",
       "5  [0, 30, 15, 4, 6, 15, 5, 3, 13, 11, 6, 5, 2, 2...       high           2   \n",
       "6  [0, 0, 0, 0, 0, 0, 1, 2, 0, 0, 0, 0, 0, 0, 0, ...       high           2   \n",
       "7  [0, 23, 1, 13, 2, 2, 5, 4, 2, 2, 0, 0, 1, 1, 0...        low           0   \n",
       "8  [0, 0, 12, 2, 3, 4, 0, 0, 0, 0, 2, 0, 1, 9, 0,...       high           2   \n",
       "9  [0, 6, 4, 4, 2, 7, 0, 0, 0, 0, 1, 5, 0, 1, 0, ...       high           2   \n",
       "\n",
       "  tempo_hl  \n",
       "0        0  \n",
       "1        0  \n",
       "2        1  \n",
       "3        0  \n",
       "4        1  \n",
       "5        1  \n",
       "6        1  \n",
       "7        0  \n",
       "8        1  \n",
       "9        1  "
      ]
     },
     "execution_count": 14,
     "metadata": {},
     "output_type": "execute_result"
    }
   ],
   "source": [
    "def f3(row):\n",
    "    if row['tempo'] >= 126:\n",
    "        val = '1'\n",
    "    else:\n",
    "        val = '0'\n",
    "    return val\n",
    "df_tempo['tempo_hl'] = df_tempo.apply(f3, axis=1)\n",
    "df_tempo.head(10)"
   ]
  },
  {
   "cell_type": "code",
   "execution_count": 15,
   "metadata": {},
   "outputs": [
    {
     "name": "stdout",
     "output_type": "stream",
     "text": [
      "[0 0 1 ... 1 1 1]\n"
     ]
    }
   ],
   "source": [
    "y_tempo_hl = np.array(df_tempo[\"tempo_hl\"]).astype(int)\n",
    "print(y_tempo_hl)"
   ]
  },
  {
   "cell_type": "code",
   "execution_count": 24,
   "metadata": {},
   "outputs": [],
   "source": [
    "X_train_hl = X_tempo[:18000,:]\n",
    "y_train_hl = y_tempo_hl[:18000]\n",
    "X_test_hl = X_tempo[18000:,:]\n",
    "y_test_hl = y_tempo_hl[18000:]"
   ]
  },
  {
   "cell_type": "code",
   "execution_count": 35,
   "metadata": {},
   "outputs": [],
   "source": [
    "clf = LogisticRegression(random_state=0, max_iter = 3000).fit(X_train_hl, y_train_hl)\n",
    "y_predict_hl = clf.predict(X_test_hl)"
   ]
  },
  {
   "cell_type": "code",
   "execution_count": 51,
   "metadata": {},
   "outputs": [
    {
     "name": "stdout",
     "output_type": "stream",
     "text": [
      "0.5212446899670004\n"
     ]
    }
   ],
   "source": [
    "print(accuracy(y_predict_hl, y_test_hl))"
   ]
  },
  {
   "cell_type": "markdown",
   "metadata": {},
   "source": [
    "## Linear regression"
   ]
  },
  {
   "cell_type": "markdown",
   "metadata": {},
   "source": [
    "### Using original tempo"
   ]
  },
  {
   "cell_type": "code",
   "execution_count": 9,
   "metadata": {},
   "outputs": [],
   "source": [
    "y_tempo_o = np.array(df_tempo[\"tempo\"])\n",
    "X_train_o = X_tempo[:18000,:]\n",
    "y_train_o = y_tempo_o[:18000]\n",
    "X_test_o = X_tempo[18000:,:]\n",
    "y_test_o = y_tempo_o[18000:]"
   ]
  },
  {
   "cell_type": "code",
   "execution_count": 40,
   "metadata": {},
   "outputs": [],
   "source": [
    "reg = linear_model.LinearRegression().fit(X_train_o, y_train_o)\n",
    "y_predict_o = reg.predict(X_test_o)"
   ]
  },
  {
   "cell_type": "code",
   "execution_count": 44,
   "metadata": {},
   "outputs": [
    {
     "name": "stdout",
     "output_type": "stream",
     "text": [
      "[146.42325056 123.1576624  115.43367037 ... 122.99917497 104.31371442\n",
      " 135.29675928]\n"
     ]
    }
   ],
   "source": [
    "print(y_predict_o)"
   ]
  },
  {
   "cell_type": "code",
   "execution_count": 52,
   "metadata": {},
   "outputs": [
    {
     "name": "stdout",
     "output_type": "stream",
     "text": [
      "0.537621469853598\n"
     ]
    }
   ],
   "source": [
    "n = y_predict_o.shape[0]\n",
    "y_predict_o_class = np.zeros(n)\n",
    "for i in range(n):\n",
    "    if(y_predict_o[i] >= 126):\n",
    "        y_predice_o_class[i] = 1\n",
    "    else:\n",
    "        y_predice_o_class[i] = 0\n",
    "print(accuracy(y_predict_o_class, y_test_hl))"
   ]
  },
  {
   "cell_type": "markdown",
   "metadata": {},
   "source": [
    "## Lasso Regression"
   ]
  },
  {
   "cell_type": "code",
   "execution_count": 16,
   "metadata": {},
   "outputs": [],
   "source": [
    "lasso = linear_model.Lasso(alpha=0.01, max_iter = 3000).fit(X_train_o, y_train_o)\n",
    "y_lasso_predict = lasso.predict(X_test_o)"
   ]
  },
  {
   "cell_type": "code",
   "execution_count": 25,
   "metadata": {},
   "outputs": [
    {
     "name": "stdout",
     "output_type": "stream",
     "text": [
      "0.537621469853598\n"
     ]
    }
   ],
   "source": [
    "n = y_lasso_predict.shape[0]\n",
    "y_lasso_predict = np.zeros(n)\n",
    "for i in range(n):\n",
    "    if(y_lasso_predict[i] >= 126):\n",
    "        y_lasso_predict[i] = 1\n",
    "    else:\n",
    "        y_lasso_predict[i] = 0\n",
    "print(accuracy(y_lasso_predict, y_test_hl))"
   ]
  },
  {
   "cell_type": "code",
   "execution_count": 28,
   "metadata": {},
   "outputs": [],
   "source": [
    "lasso_2 = linear_model.Lasso(alpha=0.01, max_iter = 3000).fit(X_train_o, y_train)\n",
    "y_lasso_predict_2 = lasso_2.predict(X_test_o)"
   ]
  },
  {
   "cell_type": "code",
   "execution_count": 29,
   "metadata": {},
   "outputs": [
    {
     "name": "stdout",
     "output_type": "stream",
     "text": [
      "0.537621469853598\n"
     ]
    }
   ],
   "source": [
    "n = y_lasso_predict_2.shape[0]\n",
    "y_lasso_predict_2 = np.zeros(n)\n",
    "for i in range(n):\n",
    "    if(y_lasso_predict_2[i] >= 126):\n",
    "        y_lasso_predict_2[i] = 1\n",
    "    else:\n",
    "        y_lasso_predict_2[i] = 0\n",
    "print(accuracy(y_lasso_predict_2, y_test_hl))"
   ]
  },
  {
   "cell_type": "markdown",
   "metadata": {},
   "source": [
    "## Support vector machines (SVMs) \n",
    "\n",
    "Effective in high dimensional spaces.\n",
    "\n",
    "Still effective in cases where number of dimensions is greater than the number of samples."
   ]
  },
  {
   "cell_type": "code",
   "execution_count": null,
   "metadata": {},
   "outputs": [],
   "source": [
    "clf = svm.SVC()\n",
    "clf.fit(X_train, y_train)\n",
    "y_svm_predict = clf.predict(X_test)\n",
    "print(accuracy(y_predict_svm, y_test))"
   ]
  },
  {
   "cell_type": "markdown",
   "metadata": {},
   "source": [
    "## Gaussian Naive Bayes"
   ]
  },
  {
   "cell_type": "code",
   "execution_count": 10,
   "metadata": {},
   "outputs": [],
   "source": [
    "from sklearn.model_selection import train_test_split\n",
    "from sklearn.naive_bayes import GaussianNB"
   ]
  },
  {
   "cell_type": "markdown",
   "metadata": {},
   "source": [
    "### Three classes"
   ]
  },
  {
   "cell_type": "code",
   "execution_count": 13,
   "metadata": {},
   "outputs": [
    {
     "name": "stdout",
     "output_type": "stream",
     "text": [
      "0.35383385461226663\n"
     ]
    }
   ],
   "source": [
    "X_train, X_test, y_train, y_test = train_test_split(X_tempo, y_tempo, test_size=0.3, random_state=0)\n",
    "gnb = GaussianNB()\n",
    "y_pred = gnb.fit(X_train, y_train).predict(X_test)\n",
    "print(accuracy(y_pred, y_test))"
   ]
  },
  {
   "cell_type": "markdown",
   "metadata": {},
   "source": [
    "### Two classes"
   ]
  },
  {
   "cell_type": "code",
   "execution_count": 17,
   "metadata": {},
   "outputs": [
    {
     "name": "stdout",
     "output_type": "stream",
     "text": [
      "0.5053174144006732\n"
     ]
    }
   ],
   "source": [
    "X_train, X_test, y_train, y_test = train_test_split(X_tempo, y_tempo_hl, test_size=0.4, random_state=0)\n",
    "gnb = GaussianNB()\n",
    "y_pred = gnb.fit(X_train, y_train).predict(X_test)\n",
    "print(accuracy(y_pred, y_test))"
   ]
  },
  {
   "cell_type": "markdown",
   "metadata": {},
   "source": [
    "## Random Forest"
   ]
  },
  {
   "cell_type": "markdown",
   "metadata": {},
   "source": [
    "### Two classes"
   ]
  },
  {
   "cell_type": "code",
   "execution_count": 19,
   "metadata": {},
   "outputs": [
    {
     "name": "stdout",
     "output_type": "stream",
     "text": [
      "[0.00682947 0.01139    0.00155824 ... 0.         0.         0.        ]\n",
      "0.3642828090155542\n"
     ]
    }
   ],
   "source": [
    "clf = RandomForestClassifier(max_depth=2, random_state=0)\n",
    "X_train, X_test, y_train, y_test = train_test_split(X_tempo, y_tempo, test_size=0.3, random_state=0)\n",
    "clf.fit(X_train, y_train)\n",
    "RandomForestClassifier(max_depth=2, random_state=0)\n",
    "print(clf.feature_importances_)\n",
    "y_pred = clf.predict(X_test)\n",
    "print(accuracy(y_pred, y_test))"
   ]
  },
  {
   "cell_type": "code",
   "execution_count": 21,
   "metadata": {},
   "outputs": [
    {
     "name": "stdout",
     "output_type": "stream",
     "text": [
      "Train score: 0.3712904912751032\n",
      "Test score: 0.3642828090155542\n"
     ]
    }
   ],
   "source": [
    "train_score = clf.score(X_train, y_train)\n",
    "test_score = clf.score(X_test, y_test)\n",
    "print(\"Train score: \" + str(train_score))\n",
    "print(\"Test score: \" + str(test_score))"
   ]
  },
  {
   "cell_type": "code",
   "execution_count": 23,
   "metadata": {},
   "outputs": [
    {
     "name": "stdout",
     "output_type": "stream",
     "text": [
      "[0.00072083 0.01687226 0.         ... 0.         0.         0.        ]\n",
      "Train score: 0.5375534223354953\n",
      "Test score: 0.5399374465280018\n"
     ]
    }
   ],
   "source": [
    "X_train, X_test, y_train, y_test = train_test_split(X_tempo, y_tempo_hl, test_size=0.3, random_state=0)\n",
    "clf.fit(X_train, y_train)\n",
    "RandomForestClassifier(max_depth=2, random_state=0)\n",
    "print(clf.feature_importances_)\n",
    "train_score = clf.score(X_train, y_train)\n",
    "test_score = clf.score(X_test, y_test)\n",
    "print(\"Train score: \" + str(train_score))\n",
    "print(\"Test score: \" + str(test_score))"
   ]
  },
  {
   "cell_type": "code",
   "execution_count": 31,
   "metadata": {},
   "outputs": [
    {
     "name": "stdout",
     "output_type": "stream",
     "text": [
      "[ 280   72  173    6 1101    1   82  358 1161 1036]\n",
      "kill\n",
      "babi\n",
      "yo\n",
      "me\n",
      "poison\n",
      "the\n",
      "how\n",
      "ma\n",
      "tender\n",
      "yall\n"
     ]
    }
   ],
   "source": [
    "imp = clf.feature_importances_\n",
    "top_ten = imp.argsort()[-10:][::-1]\n",
    "print(top_ten)\n",
    "for i in top_ten:\n",
    "    print(word_list[i+1])"
   ]
  },
  {
   "cell_type": "markdown",
   "metadata": {},
   "source": [
    "## Score"
   ]
  },
  {
   "cell_type": "code",
   "execution_count": null,
   "metadata": {},
   "outputs": [],
   "source": [
    "train_score = clf.score(X_train, Y_train)\n",
    "test_score = clf.score(X_test, Y_test)"
   ]
  },
  {
   "cell_type": "code",
   "execution_count": null,
   "metadata": {},
   "outputs": [],
   "source": []
  }
 ],
 "metadata": {
  "accelerator": "TPU",
  "colab": {
   "collapsed_sections": [],
   "name": "HW3_student_v4.ipynb",
   "provenance": []
  },
  "kernelspec": {
   "display_name": "Python 3",
   "language": "python",
   "name": "python3"
  },
  "language_info": {
   "codemirror_mode": {
    "name": "ipython",
    "version": 3
   },
   "file_extension": ".py",
   "mimetype": "text/x-python",
   "name": "python",
   "nbconvert_exporter": "python",
   "pygments_lexer": "ipython3",
   "version": "3.7.6"
  },
  "latex_envs": {
   "LaTeX_envs_menu_present": true,
   "autocomplete": true,
   "bibliofile": "biblio.bib",
   "cite_by": "apalike",
   "current_citInitial": 1,
   "eqLabelWithNumbers": true,
   "eqNumInitial": 1,
   "hotkeys": {
    "equation": "Ctrl-E",
    "itemize": "Ctrl-I"
   },
   "labels_anchors": false,
   "latex_user_defs": false,
   "report_style_numbering": false,
   "user_envs_cfg": false
  }
 },
 "nbformat": 4,
 "nbformat_minor": 1
}
