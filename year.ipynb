{
 "cells": [
  {
   "cell_type": "markdown",
   "metadata": {
    "ExecuteTime": {
     "end_time": "2019-06-20T17:17:25.168179Z",
     "start_time": "2019-06-20T17:17:24.986130Z"
    },
    "colab_type": "text",
    "id": "Hjp__3bRh42K",
    "run_control": {
     "frozen": false,
     "read_only": false
    }
   },
   "source": [
    "# Spring 2020 CS4641 Project\n"
   ]
  },
  {
   "cell_type": "markdown",
   "metadata": {
    "colab_type": "text",
    "id": "3akj-Wgji85Z",
    "run_control": {
     "frozen": false,
     "read_only": false
    }
   },
   "source": [
    "### Environment Setup"
   ]
  },
  {
   "cell_type": "code",
   "execution_count": 1,
   "metadata": {
    "ExecuteTime": {
     "end_time": "2019-06-22T17:18:34.536577Z",
     "start_time": "2019-06-22T17:18:34.485825Z"
    },
    "colab": {},
    "colab_type": "code",
    "id": "XMefd5nTi4Zv",
    "run_control": {
     "frozen": false,
     "read_only": false
    }
   },
   "outputs": [],
   "source": [
    "import os\n",
    "from scipy import ndimage, misc\n",
    "from matplotlib import pyplot as plt\n",
    "import numpy as np\n",
    "import pandas as pd\n",
    "%matplotlib inline"
   ]
  },
  {
   "cell_type": "code",
   "execution_count": 2,
   "metadata": {},
   "outputs": [],
   "source": [
    "from sklearn import decomposition\n",
    "from sklearn import datasets\n",
    "from sklearn.linear_model import LogisticRegression\n",
    "from sklearn.linear_model import LinearRegression\n",
    "from sklearn.linear_model import Ridge\n",
    "from sklearn.linear_model import Lasso\n",
    "from sklearn import svm\n",
    "from sklearn.ensemble import RandomForestClassifier\n",
    "from sklearn.model_selection import train_test_split\n",
    "from sklearn.naive_bayes import GaussianNB"
   ]
  },
  {
   "cell_type": "code",
   "execution_count": 3,
   "metadata": {},
   "outputs": [],
   "source": [
    "df = pd.read_pickle('dataframe_with_vector_compressed.pkl', compression='zip')"
   ]
  },
  {
   "cell_type": "code",
   "execution_count": 4,
   "metadata": {},
   "outputs": [
    {
     "data": {
      "text/html": [
       "<div>\n",
       "<style scoped>\n",
       "    .dataframe tbody tr th:only-of-type {\n",
       "        vertical-align: middle;\n",
       "    }\n",
       "\n",
       "    .dataframe tbody tr th {\n",
       "        vertical-align: top;\n",
       "    }\n",
       "\n",
       "    .dataframe thead th {\n",
       "        text-align: right;\n",
       "    }\n",
       "</style>\n",
       "<table border=\"1\" class=\"dataframe\">\n",
       "  <thead>\n",
       "    <tr style=\"text-align: right;\">\n",
       "      <th></th>\n",
       "      <th>track_id</th>\n",
       "      <th>artist_name</th>\n",
       "      <th>duration</th>\n",
       "      <th>loudness</th>\n",
       "      <th>tempo</th>\n",
       "      <th>title</th>\n",
       "      <th>year</th>\n",
       "      <th>lyrics</th>\n",
       "      <th>tags</th>\n",
       "      <th>lyrics_vector</th>\n",
       "    </tr>\n",
       "  </thead>\n",
       "  <tbody>\n",
       "    <tr>\n",
       "      <th>0</th>\n",
       "      <td>TRMMMKI128F931D80D</td>\n",
       "      <td>Lena Philipsson</td>\n",
       "      <td>262.26893</td>\n",
       "      <td>-3.925</td>\n",
       "      <td>122.332</td>\n",
       "      <td>006</td>\n",
       "      <td>1998</td>\n",
       "      <td>1:23,2:5,3:13,4:10,5:4,6:9,7:1,8:4,9:4,10:1,11...</td>\n",
       "      <td>[[swedish, 100], [pop, 100]]</td>\n",
       "      <td>[0, 23, 5, 13, 10, 4, 9, 1, 4, 4, 1, 2, 2, 2, ...</td>\n",
       "    </tr>\n",
       "    <tr>\n",
       "      <th>1</th>\n",
       "      <td>TRMMMUT128F42646E8</td>\n",
       "      <td>Shawn Colvin</td>\n",
       "      <td>216.47628</td>\n",
       "      <td>-14.379</td>\n",
       "      <td>99.214</td>\n",
       "      <td>(Looking For) The Heart Of Saturday</td>\n",
       "      <td>1994</td>\n",
       "      <td>2:36,3:25,4:2,5:8,6:2,7:1,8:6,10:8,12:5,13:19,...</td>\n",
       "      <td>[[cover, 100]]</td>\n",
       "      <td>[0, 0, 36, 25, 2, 8, 2, 1, 6, 0, 8, 0, 5, 19, ...</td>\n",
       "    </tr>\n",
       "    <tr>\n",
       "      <th>2</th>\n",
       "      <td>TRMMMQY128F92F0EA3</td>\n",
       "      <td>Dying Fetus</td>\n",
       "      <td>196.02240</td>\n",
       "      <td>-6.366</td>\n",
       "      <td>189.346</td>\n",
       "      <td>Ethos of Coercion</td>\n",
       "      <td>2009</td>\n",
       "      <td>2:10,3:1,4:2,5:1,9:1,10:1,13:9,14:2,18:1,21:1,...</td>\n",
       "      <td>[[Technical Death Metal, 100], [Brutal Death M...</td>\n",
       "      <td>[0, 0, 10, 1, 2, 1, 0, 0, 0, 1, 1, 0, 0, 9, 2,...</td>\n",
       "    </tr>\n",
       "    <tr>\n",
       "      <th>3</th>\n",
       "      <td>TRMMMTK128F424EF7C</td>\n",
       "      <td>Emery</td>\n",
       "      <td>217.57342</td>\n",
       "      <td>-4.867</td>\n",
       "      <td>88.423</td>\n",
       "      <td>Rock-N-Rule</td>\n",
       "      <td>2007</td>\n",
       "      <td>1:20,2:8,3:15,4:4,5:5,6:6,7:2,8:9,9:12,10:2,11...</td>\n",
       "      <td>[[post-hardcore, 100], [emo, 75], [rock, 50], ...</td>\n",
       "      <td>[0, 20, 8, 15, 4, 5, 6, 2, 9, 12, 2, 2, 7, 1, ...</td>\n",
       "    </tr>\n",
       "    <tr>\n",
       "      <th>4</th>\n",
       "      <td>TRMMMQV12903CA201E</td>\n",
       "      <td>Rev. Timothy Wright</td>\n",
       "      <td>353.77587</td>\n",
       "      <td>-7.569</td>\n",
       "      <td>167.850</td>\n",
       "      <td>I Made It Over</td>\n",
       "      <td>0</td>\n",
       "      <td>1:24,2:1,3:15,4:4,5:4,7:4,8:12,11:2,35:4,40:2,...</td>\n",
       "      <td>[[THE WRIGHT WAY, 100]]</td>\n",
       "      <td>[0, 24, 1, 15, 4, 4, 0, 4, 12, 0, 0, 2, 0, 0, ...</td>\n",
       "    </tr>\n",
       "    <tr>\n",
       "      <th>5</th>\n",
       "      <td>TRMMMNO128F93539AA</td>\n",
       "      <td>Martin Sexton</td>\n",
       "      <td>319.81669</td>\n",
       "      <td>-7.185</td>\n",
       "      <td>187.378</td>\n",
       "      <td>In The Journey</td>\n",
       "      <td>2001</td>\n",
       "      <td>1:30,2:15,3:4,4:6,5:15,6:5,7:3,8:13,9:11,10:6,...</td>\n",
       "      <td>[[singer-songwriter, 100], [rock, 66], [jazz, ...</td>\n",
       "      <td>[0, 30, 15, 4, 6, 15, 5, 3, 13, 11, 6, 5, 2, 2...</td>\n",
       "    </tr>\n",
       "    <tr>\n",
       "      <th>6</th>\n",
       "      <td>TRMMMPJ128F9306985</td>\n",
       "      <td>Christian Castro</td>\n",
       "      <td>258.89914</td>\n",
       "      <td>-4.660</td>\n",
       "      <td>157.862</td>\n",
       "      <td>Tu Vida Con La Mía</td>\n",
       "      <td>0</td>\n",
       "      <td>6:1,7:2,38:11,42:5,47:3,77:15,90:6,102:5,104:4...</td>\n",
       "      <td>[[cristian castro, 100], [azul, 100], [Roma, 5...</td>\n",
       "      <td>[0, 0, 0, 0, 0, 0, 1, 2, 0, 0, 0, 0, 0, 0, 0, ...</td>\n",
       "    </tr>\n",
       "    <tr>\n",
       "      <th>7</th>\n",
       "      <td>TRMMMRZ128F4265EB4</td>\n",
       "      <td>Aerosmith</td>\n",
       "      <td>253.70077</td>\n",
       "      <td>-3.278</td>\n",
       "      <td>67.060</td>\n",
       "      <td>I'm Ready</td>\n",
       "      <td>2004</td>\n",
       "      <td>1:23,2:1,3:13,4:2,5:2,6:5,7:4,8:2,9:2,12:1,13:...</td>\n",
       "      <td>[[classic rock, 100], [rock, 83], [hard rock, ...</td>\n",
       "      <td>[0, 23, 1, 13, 2, 2, 5, 4, 2, 2, 0, 0, 1, 1, 0...</td>\n",
       "    </tr>\n",
       "    <tr>\n",
       "      <th>8</th>\n",
       "      <td>TRMMMKQ128F92EBCB5</td>\n",
       "      <td>Kreator</td>\n",
       "      <td>372.42730</td>\n",
       "      <td>-6.663</td>\n",
       "      <td>191.665</td>\n",
       "      <td>All of the same blood</td>\n",
       "      <td>2001</td>\n",
       "      <td>2:12,3:2,4:3,5:4,10:2,12:1,13:9,15:2,17:1,21:2...</td>\n",
       "      <td>[[thrash metal, 100], [metal, 32], [thrash, 23...</td>\n",
       "      <td>[0, 0, 12, 2, 3, 4, 0, 0, 0, 0, 2, 0, 1, 9, 0,...</td>\n",
       "    </tr>\n",
       "    <tr>\n",
       "      <th>9</th>\n",
       "      <td>TRMMMBU128F9305AC3</td>\n",
       "      <td>The Maytals</td>\n",
       "      <td>175.20281</td>\n",
       "      <td>-9.049</td>\n",
       "      <td>156.753</td>\n",
       "      <td>Night And Day</td>\n",
       "      <td>1994</td>\n",
       "      <td>1:6,2:4,3:4,4:2,5:7,10:1,11:5,13:1,21:2,27:1,2...</td>\n",
       "      <td>[[reggae, 100], [rocksteady, 75], [EARLY REGGA...</td>\n",
       "      <td>[0, 6, 4, 4, 2, 7, 0, 0, 0, 0, 1, 5, 0, 1, 0, ...</td>\n",
       "    </tr>\n",
       "  </tbody>\n",
       "</table>\n",
       "</div>"
      ],
      "text/plain": [
       "             track_id          artist_name   duration  loudness    tempo  \\\n",
       "0  TRMMMKI128F931D80D      Lena Philipsson  262.26893    -3.925  122.332   \n",
       "1  TRMMMUT128F42646E8         Shawn Colvin  216.47628   -14.379   99.214   \n",
       "2  TRMMMQY128F92F0EA3          Dying Fetus  196.02240    -6.366  189.346   \n",
       "3  TRMMMTK128F424EF7C                Emery  217.57342    -4.867   88.423   \n",
       "4  TRMMMQV12903CA201E  Rev. Timothy Wright  353.77587    -7.569  167.850   \n",
       "5  TRMMMNO128F93539AA        Martin Sexton  319.81669    -7.185  187.378   \n",
       "6  TRMMMPJ128F9306985     Christian Castro  258.89914    -4.660  157.862   \n",
       "7  TRMMMRZ128F4265EB4            Aerosmith  253.70077    -3.278   67.060   \n",
       "8  TRMMMKQ128F92EBCB5              Kreator  372.42730    -6.663  191.665   \n",
       "9  TRMMMBU128F9305AC3          The Maytals  175.20281    -9.049  156.753   \n",
       "\n",
       "                                 title  year  \\\n",
       "0                                  006  1998   \n",
       "1  (Looking For) The Heart Of Saturday  1994   \n",
       "2                    Ethos of Coercion  2009   \n",
       "3                          Rock-N-Rule  2007   \n",
       "4                       I Made It Over     0   \n",
       "5                       In The Journey  2001   \n",
       "6                   Tu Vida Con La Mía     0   \n",
       "7                            I'm Ready  2004   \n",
       "8                All of the same blood  2001   \n",
       "9                        Night And Day  1994   \n",
       "\n",
       "                                              lyrics  \\\n",
       "0  1:23,2:5,3:13,4:10,5:4,6:9,7:1,8:4,9:4,10:1,11...   \n",
       "1  2:36,3:25,4:2,5:8,6:2,7:1,8:6,10:8,12:5,13:19,...   \n",
       "2  2:10,3:1,4:2,5:1,9:1,10:1,13:9,14:2,18:1,21:1,...   \n",
       "3  1:20,2:8,3:15,4:4,5:5,6:6,7:2,8:9,9:12,10:2,11...   \n",
       "4  1:24,2:1,3:15,4:4,5:4,7:4,8:12,11:2,35:4,40:2,...   \n",
       "5  1:30,2:15,3:4,4:6,5:15,6:5,7:3,8:13,9:11,10:6,...   \n",
       "6  6:1,7:2,38:11,42:5,47:3,77:15,90:6,102:5,104:4...   \n",
       "7  1:23,2:1,3:13,4:2,5:2,6:5,7:4,8:2,9:2,12:1,13:...   \n",
       "8  2:12,3:2,4:3,5:4,10:2,12:1,13:9,15:2,17:1,21:2...   \n",
       "9  1:6,2:4,3:4,4:2,5:7,10:1,11:5,13:1,21:2,27:1,2...   \n",
       "\n",
       "                                                tags  \\\n",
       "0                       [[swedish, 100], [pop, 100]]   \n",
       "1                                     [[cover, 100]]   \n",
       "2  [[Technical Death Metal, 100], [Brutal Death M...   \n",
       "3  [[post-hardcore, 100], [emo, 75], [rock, 50], ...   \n",
       "4                            [[THE WRIGHT WAY, 100]]   \n",
       "5  [[singer-songwriter, 100], [rock, 66], [jazz, ...   \n",
       "6  [[cristian castro, 100], [azul, 100], [Roma, 5...   \n",
       "7  [[classic rock, 100], [rock, 83], [hard rock, ...   \n",
       "8  [[thrash metal, 100], [metal, 32], [thrash, 23...   \n",
       "9  [[reggae, 100], [rocksteady, 75], [EARLY REGGA...   \n",
       "\n",
       "                                       lyrics_vector  \n",
       "0  [0, 23, 5, 13, 10, 4, 9, 1, 4, 4, 1, 2, 2, 2, ...  \n",
       "1  [0, 0, 36, 25, 2, 8, 2, 1, 6, 0, 8, 0, 5, 19, ...  \n",
       "2  [0, 0, 10, 1, 2, 1, 0, 0, 0, 1, 1, 0, 0, 9, 2,...  \n",
       "3  [0, 20, 8, 15, 4, 5, 6, 2, 9, 12, 2, 2, 7, 1, ...  \n",
       "4  [0, 24, 1, 15, 4, 4, 0, 4, 12, 0, 0, 2, 0, 0, ...  \n",
       "5  [0, 30, 15, 4, 6, 15, 5, 3, 13, 11, 6, 5, 2, 2...  \n",
       "6  [0, 0, 0, 0, 0, 0, 1, 2, 0, 0, 0, 0, 0, 0, 0, ...  \n",
       "7  [0, 23, 1, 13, 2, 2, 5, 4, 2, 2, 0, 0, 1, 1, 0...  \n",
       "8  [0, 0, 12, 2, 3, 4, 0, 0, 0, 0, 2, 0, 1, 9, 0,...  \n",
       "9  [0, 6, 4, 4, 2, 7, 0, 0, 0, 0, 1, 5, 0, 1, 0, ...  "
      ]
     },
     "execution_count": 4,
     "metadata": {},
     "output_type": "execute_result"
    }
   ],
   "source": [
    "df.head(10)"
   ]
  },
  {
   "cell_type": "markdown",
   "metadata": {},
   "source": [
    "# Year Analysis\n",
    "\n",
    "Here we are seeing if ML models can predict which year or decade a song was released based on the lyrics.\n"
   ]
  },
  {
   "cell_type": "markdown",
   "metadata": {},
   "source": [
    "## Preprocessng The Data"
   ]
  },
  {
   "cell_type": "code",
   "execution_count": 5,
   "metadata": {},
   "outputs": [],
   "source": [
    "# Getting the list of words so we can map features to words\n",
    "import json\n",
    "with open(\"word_list.json\", 'r') as w:\n",
    "    word_list = list(json.load(w))"
   ]
  },
  {
   "cell_type": "code",
   "execution_count": 6,
   "metadata": {},
   "outputs": [
    {
     "data": {
      "text/plain": [
       "count    237662.000000\n",
       "mean       1473.147659\n",
       "std         879.327036\n",
       "min           0.000000\n",
       "25%           0.000000\n",
       "50%        1996.000000\n",
       "75%        2004.000000\n",
       "max        2010.000000\n",
       "Name: year, dtype: float64"
      ]
     },
     "execution_count": 6,
     "metadata": {},
     "output_type": "execute_result"
    }
   ],
   "source": [
    "df['year'].describe()"
   ]
  },
  {
   "cell_type": "markdown",
   "metadata": {},
   "source": [
    "To make the analysis simpler, we are binning the release date into decades."
   ]
  },
  {
   "cell_type": "code",
   "execution_count": 7,
   "metadata": {},
   "outputs": [],
   "source": [
    "def bin_year(row):\n",
    "    year = row['year']\n",
    "    decade = int(np.floor(year / 10) * 10)\n",
    "    return decade\n",
    "#####\n",
    "\n",
    "# Adding a column for the year\n",
    "df['year_decade'] = df.apply(bin_year, axis=1)\n",
    "\n"
   ]
  },
  {
   "cell_type": "code",
   "execution_count": 8,
   "metadata": {},
   "outputs": [
    {
     "data": {
      "text/html": [
       "<div>\n",
       "<style scoped>\n",
       "    .dataframe tbody tr th:only-of-type {\n",
       "        vertical-align: middle;\n",
       "    }\n",
       "\n",
       "    .dataframe tbody tr th {\n",
       "        vertical-align: top;\n",
       "    }\n",
       "\n",
       "    .dataframe thead th {\n",
       "        text-align: right;\n",
       "    }\n",
       "</style>\n",
       "<table border=\"1\" class=\"dataframe\">\n",
       "  <thead>\n",
       "    <tr style=\"text-align: right;\">\n",
       "      <th></th>\n",
       "      <th>track_id</th>\n",
       "      <th>year</th>\n",
       "      <th>lyrics_vector</th>\n",
       "      <th>year_decade</th>\n",
       "    </tr>\n",
       "  </thead>\n",
       "  <tbody>\n",
       "    <tr>\n",
       "      <th>0</th>\n",
       "      <td>TRMMMKI128F931D80D</td>\n",
       "      <td>1998.0</td>\n",
       "      <td>[0, 23, 5, 13, 10, 4, 9, 1, 4, 4, 1, 2, 2, 2, ...</td>\n",
       "      <td>1990.0</td>\n",
       "    </tr>\n",
       "    <tr>\n",
       "      <th>1</th>\n",
       "      <td>TRMMMUT128F42646E8</td>\n",
       "      <td>1994.0</td>\n",
       "      <td>[0, 0, 36, 25, 2, 8, 2, 1, 6, 0, 8, 0, 5, 19, ...</td>\n",
       "      <td>1990.0</td>\n",
       "    </tr>\n",
       "    <tr>\n",
       "      <th>2</th>\n",
       "      <td>TRMMMQY128F92F0EA3</td>\n",
       "      <td>2009.0</td>\n",
       "      <td>[0, 0, 10, 1, 2, 1, 0, 0, 0, 1, 1, 0, 0, 9, 2,...</td>\n",
       "      <td>2000.0</td>\n",
       "    </tr>\n",
       "    <tr>\n",
       "      <th>3</th>\n",
       "      <td>TRMMMTK128F424EF7C</td>\n",
       "      <td>2007.0</td>\n",
       "      <td>[0, 20, 8, 15, 4, 5, 6, 2, 9, 12, 2, 2, 7, 1, ...</td>\n",
       "      <td>2000.0</td>\n",
       "    </tr>\n",
       "    <tr>\n",
       "      <th>5</th>\n",
       "      <td>TRMMMNO128F93539AA</td>\n",
       "      <td>2001.0</td>\n",
       "      <td>[0, 30, 15, 4, 6, 15, 5, 3, 13, 11, 6, 5, 2, 2...</td>\n",
       "      <td>2000.0</td>\n",
       "    </tr>\n",
       "  </tbody>\n",
       "</table>\n",
       "</div>"
      ],
      "text/plain": [
       "             track_id    year  \\\n",
       "0  TRMMMKI128F931D80D  1998.0   \n",
       "1  TRMMMUT128F42646E8  1994.0   \n",
       "2  TRMMMQY128F92F0EA3  2009.0   \n",
       "3  TRMMMTK128F424EF7C  2007.0   \n",
       "5  TRMMMNO128F93539AA  2001.0   \n",
       "\n",
       "                                       lyrics_vector  year_decade  \n",
       "0  [0, 23, 5, 13, 10, 4, 9, 1, 4, 4, 1, 2, 2, 2, ...       1990.0  \n",
       "1  [0, 0, 36, 25, 2, 8, 2, 1, 6, 0, 8, 0, 5, 19, ...       1990.0  \n",
       "2  [0, 0, 10, 1, 2, 1, 0, 0, 0, 1, 1, 0, 0, 9, 2,...       2000.0  \n",
       "3  [0, 20, 8, 15, 4, 5, 6, 2, 9, 12, 2, 2, 7, 1, ...       2000.0  \n",
       "5  [0, 30, 15, 4, 6, 15, 5, 3, 13, 11, 6, 5, 2, 2...       2000.0  "
      ]
     },
     "execution_count": 8,
     "metadata": {},
     "output_type": "execute_result"
    }
   ],
   "source": [
    "# Creating new data frame with the columns we care about\n",
    "df_year = df\n",
    "to_drop = ['artist_name', 'duration', 'lyrics', 'tempo', 'loudness', 'title', 'tags'] # add back 'year'\n",
    "df_year = df_year.drop(to_drop, axis = 1)\n",
    "\n",
    "df_year = df_year.replace(0, np.nan)\n",
    "df_year = df_year.dropna(how='any', axis=0)\n",
    "df_year.head()"
   ]
  },
  {
   "cell_type": "code",
   "execution_count": 9,
   "metadata": {},
   "outputs": [
    {
     "data": {
      "text/plain": [
       "count    175234.000000\n",
       "mean       1993.030805\n",
       "std          10.378616\n",
       "min        1920.000000\n",
       "25%        1990.000000\n",
       "50%        2000.000000\n",
       "75%        2000.000000\n",
       "max        2010.000000\n",
       "Name: year_decade, dtype: float64"
      ]
     },
     "execution_count": 9,
     "metadata": {},
     "output_type": "execute_result"
    }
   ],
   "source": [
    "df_year['year_decade'].describe()"
   ]
  },
  {
   "cell_type": "markdown",
   "metadata": {},
   "source": [
    "# PCA Analysis\n",
    "\n",
    "From the data with valid decade values, we want to use PCA to see if there is a clustering for the years based on the lyrics using a bag-of-words model for the lyrics (a one-hot vector). This will give us some intial insight into what our data looks like."
   ]
  },
  {
   "cell_type": "code",
   "execution_count": 9,
   "metadata": {},
   "outputs": [
    {
     "name": "stdout",
     "output_type": "stream",
     "text": [
      "Shape of X_lyrics: (175234, 5001)\n"
     ]
    }
   ],
   "source": [
    "# Combining the lyrics vectors into a matrix. In this dataset there are 5001 features (words)\n",
    "X_lyrics = np.array(df_year[\"lyrics_vector\"].values.tolist())\n",
    "y_decade = np.array(df_year[\"year_decade\"])\n",
    "y_year = np.array(df_year[\"year\"])\n",
    "\n",
    "print(\"Shape of X_lyrics: (%d, %d)\" % X_lyrics.shape)"
   ]
  },
  {
   "cell_type": "markdown",
   "metadata": {},
   "source": [
    "One-hot vectors tend to be mostly 0's (No song has 5001 unique words), so the `X_lyrics` matrix is very sparse. To perform PCA, we use the [TruncatedSVD model from sklearn](https://scikit-learn.org/stable/modules/generated/sklearn.decomposition.TruncatedSVD.html), which handles sparse matrices more efficiently. We picked n = 3 to be the number of components so we can plot it in 3D space.\n",
    "\n",
    "This will output the new coordinates for each datapoint based on the new principal components. It will also calculate the explained variance of each of the components."
   ]
  },
  {
   "cell_type": "code",
   "execution_count": 10,
   "metadata": {},
   "outputs": [
    {
     "name": "stdout",
     "output_type": "stream",
     "text": [
      "Starting PCA Decomposition ...\n",
      "Fitting Data ...\n",
      "Finished!\n"
     ]
    }
   ],
   "source": [
    "# Apply PCA for 3D plotting\n",
    "print(\"Starting PCA Decomposition ...\")\n",
    "pca = decomposition.TruncatedSVD(n_components=10)\n",
    "print(\"Fitting Data ...\")\n",
    "pca.fit(X_lyrics)\n",
    "print(\"Finished!\")\n",
    "\n",
    "print(\"Transforming X ...\")\n",
    "X_lyrics_transform = pca.transform(X_lyrics)\n",
    "print(X_lyrics_transform.shape)"
   ]
  },
  {
   "cell_type": "code",
   "execution_count": 19,
   "metadata": {},
   "outputs": [
    {
     "name": "stdout",
     "output_type": "stream",
     "text": [
      "First 10 PC's\n",
      "Variance\n",
      "[257.85023587  87.69936178  65.28193602  32.7362166   29.87755968\n",
      "  27.71817239  21.96855455  20.73181524  18.38654619  17.00446685]\n",
      "Variance ratio\n",
      "[0.18398737 0.06257731 0.0465815  0.02335872 0.02131894 0.01977812\n",
      " 0.01567552 0.01479305 0.0131196  0.01213343]\n",
      "Explained Variance: 0.4133236\n",
      "\n",
      "First 3 PC's\n",
      "Variance\n",
      "[257.85023587  87.69936178  65.28193602]\n",
      "Variance ratio\n",
      "[0.18398737 0.06257731 0.0465815 ]\n",
      "Explained Variance: 0.2931462\n"
     ]
    }
   ],
   "source": [
    "exp_var = pca.explained_variance_\n",
    "exp_var_ratio = pca.explained_variance_ratio_\n",
    "print(\"First 10 PC's\")\n",
    "print(\"Variance\")\n",
    "print(exp_var)\n",
    "print(\"Variance ratio\")\n",
    "print(exp_var_ratio)\n",
    "print(\"Explained Variance: %.7f\" % np.sum(exp_var_ratio))\n",
    "\n",
    "print(\"\\nFirst 3 PC's\")\n",
    "print(\"Variance\")\n",
    "print(exp_var[:3])\n",
    "print(\"Variance ratio\")\n",
    "print(exp_var_ratio[:3])\n",
    "print(\"Explained Variance: %.7f\" % np.sum(exp_var_ratio[:3]))"
   ]
  },
  {
   "cell_type": "code",
   "execution_count": 13,
   "metadata": {},
   "outputs": [
    {
     "data": {
      "text/html": [
       "<div>\n",
       "<style scoped>\n",
       "    .dataframe tbody tr th:only-of-type {\n",
       "        vertical-align: middle;\n",
       "    }\n",
       "\n",
       "    .dataframe tbody tr th {\n",
       "        vertical-align: top;\n",
       "    }\n",
       "\n",
       "    .dataframe thead th {\n",
       "        text-align: right;\n",
       "    }\n",
       "</style>\n",
       "<table border=\"1\" class=\"dataframe\">\n",
       "  <thead>\n",
       "    <tr style=\"text-align: right;\">\n",
       "      <th></th>\n",
       "      <th>track_id</th>\n",
       "      <th>year</th>\n",
       "      <th>lyrics_vector</th>\n",
       "      <th>year_decade</th>\n",
       "      <th>pca_1</th>\n",
       "      <th>pca_2</th>\n",
       "      <th>pca_3</th>\n",
       "      <th>pca_4</th>\n",
       "      <th>pca_5</th>\n",
       "      <th>pca_6</th>\n",
       "      <th>pca_7</th>\n",
       "      <th>pca_8</th>\n",
       "      <th>pca_9</th>\n",
       "      <th>pca_10</th>\n",
       "    </tr>\n",
       "  </thead>\n",
       "  <tbody>\n",
       "    <tr>\n",
       "      <th>0</th>\n",
       "      <td>TRMMMKI128F931D80D</td>\n",
       "      <td>1998.0</td>\n",
       "      <td>[0, 23, 5, 13, 10, 4, 9, 1, 4, 4, 1, 2, 2, 2, ...</td>\n",
       "      <td>1990.0</td>\n",
       "      <td>30.723007</td>\n",
       "      <td>-9.311266</td>\n",
       "      <td>6.357729</td>\n",
       "      <td>0.347388</td>\n",
       "      <td>-2.614726</td>\n",
       "      <td>-5.657605</td>\n",
       "      <td>2.293224</td>\n",
       "      <td>-4.480751</td>\n",
       "      <td>1.248333</td>\n",
       "      <td>5.564041</td>\n",
       "    </tr>\n",
       "    <tr>\n",
       "      <th>1</th>\n",
       "      <td>TRMMMUT128F42646E8</td>\n",
       "      <td>1994.0</td>\n",
       "      <td>[0, 0, 36, 25, 2, 8, 2, 1, 6, 0, 8, 0, 5, 19, ...</td>\n",
       "      <td>1990.0</td>\n",
       "      <td>38.052834</td>\n",
       "      <td>21.547568</td>\n",
       "      <td>-22.597430</td>\n",
       "      <td>14.306624</td>\n",
       "      <td>-8.636265</td>\n",
       "      <td>5.528362</td>\n",
       "      <td>3.415578</td>\n",
       "      <td>-6.044007</td>\n",
       "      <td>-0.093354</td>\n",
       "      <td>-2.674966</td>\n",
       "    </tr>\n",
       "    <tr>\n",
       "      <th>2</th>\n",
       "      <td>TRMMMQY128F92F0EA3</td>\n",
       "      <td>2009.0</td>\n",
       "      <td>[0, 0, 10, 1, 2, 1, 0, 0, 0, 1, 1, 0, 0, 9, 2,...</td>\n",
       "      <td>2000.0</td>\n",
       "      <td>7.340893</td>\n",
       "      <td>8.449408</td>\n",
       "      <td>-1.640457</td>\n",
       "      <td>2.711822</td>\n",
       "      <td>-2.592571</td>\n",
       "      <td>0.520723</td>\n",
       "      <td>-2.375322</td>\n",
       "      <td>-0.319565</td>\n",
       "      <td>-0.887830</td>\n",
       "      <td>1.313323</td>\n",
       "    </tr>\n",
       "    <tr>\n",
       "      <th>3</th>\n",
       "      <td>TRMMMTK128F424EF7C</td>\n",
       "      <td>2007.0</td>\n",
       "      <td>[0, 20, 8, 15, 4, 5, 6, 2, 9, 12, 2, 2, 7, 1, ...</td>\n",
       "      <td>2000.0</td>\n",
       "      <td>31.726309</td>\n",
       "      <td>-7.335365</td>\n",
       "      <td>0.755192</td>\n",
       "      <td>-0.426007</td>\n",
       "      <td>5.239326</td>\n",
       "      <td>-0.500660</td>\n",
       "      <td>-3.856442</td>\n",
       "      <td>-6.051179</td>\n",
       "      <td>1.646299</td>\n",
       "      <td>0.459452</td>\n",
       "    </tr>\n",
       "    <tr>\n",
       "      <th>5</th>\n",
       "      <td>TRMMMNO128F93539AA</td>\n",
       "      <td>2001.0</td>\n",
       "      <td>[0, 30, 15, 4, 6, 15, 5, 3, 13, 11, 6, 5, 2, 2...</td>\n",
       "      <td>2000.0</td>\n",
       "      <td>42.800372</td>\n",
       "      <td>0.866155</td>\n",
       "      <td>14.018142</td>\n",
       "      <td>-2.248625</td>\n",
       "      <td>10.883699</td>\n",
       "      <td>-3.510198</td>\n",
       "      <td>-7.031744</td>\n",
       "      <td>-3.422261</td>\n",
       "      <td>-6.187457</td>\n",
       "      <td>-8.185762</td>\n",
       "    </tr>\n",
       "  </tbody>\n",
       "</table>\n",
       "</div>"
      ],
      "text/plain": [
       "             track_id    year  \\\n",
       "0  TRMMMKI128F931D80D  1998.0   \n",
       "1  TRMMMUT128F42646E8  1994.0   \n",
       "2  TRMMMQY128F92F0EA3  2009.0   \n",
       "3  TRMMMTK128F424EF7C  2007.0   \n",
       "5  TRMMMNO128F93539AA  2001.0   \n",
       "\n",
       "                                       lyrics_vector  year_decade      pca_1  \\\n",
       "0  [0, 23, 5, 13, 10, 4, 9, 1, 4, 4, 1, 2, 2, 2, ...       1990.0  30.723007   \n",
       "1  [0, 0, 36, 25, 2, 8, 2, 1, 6, 0, 8, 0, 5, 19, ...       1990.0  38.052834   \n",
       "2  [0, 0, 10, 1, 2, 1, 0, 0, 0, 1, 1, 0, 0, 9, 2,...       2000.0   7.340893   \n",
       "3  [0, 20, 8, 15, 4, 5, 6, 2, 9, 12, 2, 2, 7, 1, ...       2000.0  31.726309   \n",
       "5  [0, 30, 15, 4, 6, 15, 5, 3, 13, 11, 6, 5, 2, 2...       2000.0  42.800372   \n",
       "\n",
       "       pca_2      pca_3      pca_4      pca_5     pca_6     pca_7     pca_8  \\\n",
       "0  -9.311266   6.357729   0.347388  -2.614726 -5.657605  2.293224 -4.480751   \n",
       "1  21.547568 -22.597430  14.306624  -8.636265  5.528362  3.415578 -6.044007   \n",
       "2   8.449408  -1.640457   2.711822  -2.592571  0.520723 -2.375322 -0.319565   \n",
       "3  -7.335365   0.755192  -0.426007   5.239326 -0.500660 -3.856442 -6.051179   \n",
       "5   0.866155  14.018142  -2.248625  10.883699 -3.510198 -7.031744 -3.422261   \n",
       "\n",
       "      pca_9    pca_10  \n",
       "0  1.248333  5.564041  \n",
       "1 -0.093354 -2.674966  \n",
       "2 -0.887830  1.313323  \n",
       "3  1.646299  0.459452  \n",
       "5 -6.187457 -8.185762  "
      ]
     },
     "execution_count": 13,
     "metadata": {},
     "output_type": "execute_result"
    }
   ],
   "source": [
    "# Plot PCA\n",
    "df_year['pca_1'] = X_lyrics_transform[:,0]\n",
    "df_year['pca_2'] = X_lyrics_transform[:,1]\n",
    "df_year['pca_3'] = X_lyrics_transform[:,2]\n",
    "df_year['pca_4'] = X_lyrics_transform[:,3]\n",
    "df_year['pca_5'] = X_lyrics_transform[:,4]\n",
    "df_year['pca_6'] = X_lyrics_transform[:,5]\n",
    "df_year['pca_7'] = X_lyrics_transform[:,6]\n",
    "df_year['pca_8'] = X_lyrics_transform[:,7]\n",
    "df_year['pca_9'] = X_lyrics_transform[:,8]\n",
    "df_year['pca_10'] = X_lyrics_transform[:,9]\n",
    "\n",
    "pd.DataFrame(X_lyrics_transform).to_pickle(\"pca_year.pkl\")\n",
    "\n",
    "df_year.head()"
   ]
  },
  {
   "cell_type": "markdown",
   "metadata": {},
   "source": [
    "Here is a 2-D plot by only using the first 2 principle components (columns `pca_1` and `pca_2`) and coloring by the decades using matplotlib plotting package"
   ]
  },
  {
   "cell_type": "code",
   "execution_count": 14,
   "metadata": {},
   "outputs": [
    {
     "data": {
      "image/png": "[encoded data removed]",
      "text/plain": [
       "<Figure size 432x288 with 1 Axes>"
      ]
     },
     "metadata": {
      "needs_background": "light"
     },
     "output_type": "display_data"
    }
   ],
   "source": [
    "decade_groups = df_year.groupby('year_decade')\n",
    "\n",
    "fig, ax = plt.subplots()\n",
    "ax.margins(0.05) # Optional, just adds 5% padding to the autoscaling\n",
    "for name, group in decade_groups:\n",
    "    ax.plot(group.pca_1, group.pca_2, marker='o', linestyle='', ms=12, label=name)\n",
    "ax.legend()\n",
    "\n",
    "plt.show()"
   ]
  },
  {
   "cell_type": "code",
   "execution_count": 15,
   "metadata": {},
   "outputs": [
    {
     "data": {
      "image/png": "[encoded data removed]",
      "text/plain": [
       "<Figure size 432x288 with 1 Axes>"
      ]
     },
     "metadata": {
      "needs_background": "light"
     },
     "output_type": "display_data"
    }
   ],
   "source": [
    "# By year\n",
    "fig = plt.figure()\n",
    "ax = fig.gca(projection='3d')\n",
    "#ax.scatter(X_lyrics_transform[:,0], X_lyrics_transform[:,1], X_lyrics_transform[:,2], c=y_year,cmap='rainbow')\n",
    "\n",
    "for name, group in decade_groups:\n",
    "    ax.plot(group.pca_1, group.pca_2, marker='o', linestyle='', ms=12, label=name)\n",
    "ax.legend()\n",
    "\n",
    "plt.show()"
   ]
  },
  {
   "cell_type": "code",
   "execution_count": 1,
   "metadata": {},
   "outputs": [],
   "source": [
    "# import plotly.express as px\n",
    "\n",
    "# fig = px.scatter_3d(df_year, x = \"pca_1\", y = \"pca_2\", z = \"pca_2\", color='year_decade')\n",
    "# fig.show()"
   ]
  },
  {
   "cell_type": "markdown",
   "metadata": {},
   "source": [
    "PCA did not really give us a good visual for an initial clustering of the lyrics based on decades. Another problem is that the majority of the data with valid years are after 1990, which means it will be difficult to get a good clustering between the decades.\n",
    "\n",
    "Additionally, PCA cannot give us a clear idea of what words (our features) are most informative. Since it created a new set of axis, we cannot make any concrete assertions about what words are more useful in determining what year a song was released."
   ]
  },
  {
   "cell_type": "markdown",
   "metadata": {},
   "source": [
    "# Linear Regression\n",
    "\n",
    "It seems possible that a linear combination of certain words can indicate what year a particular set of lyrics may have been released. If certain words are only used in particular years, then the model can weight it so that if it does exist, it will map to a particular numerical value related to the year."
   ]
  },
  {
   "cell_type": "code",
   "execution_count": 10,
   "metadata": {},
   "outputs": [],
   "source": [
    "# Create training and test sets\n",
    "\n",
    "def create_train_test_sets(X_data, y_data, percent_train):\n",
    "    \n",
    "    N,D = X_data.shape\n",
    "    test_percent = 1 - percent_train\n",
    "    \n",
    "    train_idx = int(percent_train * N)\n",
    "\n",
    "    X_train = X_data[:train_idx,:]\n",
    "    y_train = y_data[:train_idx]\n",
    "\n",
    "    X_test = X_data[train_idx:,:]\n",
    "    y_test = y_data[train_idx:]\n",
    "    \n",
    "    return X_train,y_train,X_test, y_test\n",
    "\n",
    "def decade_accuracy(y_pred, y_truth):\n",
    "    y_pred_round = np.around(y_pred, -1) # optional: This is just to \n",
    "    are_correct = y_pred_round == y_truth\n",
    "    error = np.sum(are_correct) / float(are_correct.shape[0])\n",
    "    return error\n",
    "\n",
    "def year_accuracy_window(y_pred, y_truth, margin=5):\n",
    "    # Check if the predicted y is within +- margin of error from the ground truth\n",
    "    \n",
    "    num_correct = np.sum([diff < margin for diff in np.absolute(y_pred - y_truth)])\n",
    "    \n",
    "    return float(num_correct) / len(y_pred)\n",
    "\n",
    "def cross_validation(X, y, kfold, model, accuracy_type):\n",
    "    \n",
    "    N,D = X.shape\n",
    "    \n",
    "    test_correct = 0\n",
    "    train_correct = 0\n",
    "    \n",
    "    for i in range(kfold):\n",
    "        \n",
    "        # kfold indices\n",
    "        idx_l = int(i * N / kfold)\n",
    "        idx_r = int((i + 1) * N / kfold )\n",
    "        \n",
    "        # Train and test sets\n",
    "        x_test = X[idx_l:idx_r, :]\n",
    "        x_train = np.concatenate((X[:idx_l,:], X[idx_r:,:]), axis=0)\n",
    "        \n",
    "        y_test = y[idx_l:idx_r]\n",
    "        y_train = np.concatenate((y[0:idx_l], y[idx_r:]))\n",
    "\n",
    "        # Run linear regression\n",
    "        reg = model.fit(x_train, y_train)\n",
    "        y_predict = reg.predict(x_test)\n",
    "        \n",
    "        test_correct_score = accuracy_type(y_predict, y_test)\n",
    "        test_correct += test_correct_score\n",
    "        \n",
    "        train_correct_score = accuracy_type(reg.predict(x_train), y_train)\n",
    "        train_correct += train_correct_score\n",
    "    #####\n",
    "    \n",
    "    return test_correct / kfold, train_correct / kfold\n",
    "        "
   ]
  },
  {
   "cell_type": "markdown",
   "metadata": {},
   "source": [
    "## Raw Linear Regression\n",
    "\n",
    "Here we use the raw lyrics data to perform linear regression"
   ]
  },
  {
   "cell_type": "code",
   "execution_count": 66,
   "metadata": {},
   "outputs": [],
   "source": [
    "X_lyrics = np.array(df_year[\"lyrics_vector\"].values.tolist())\n",
    "N,D = X_lyrics.shape\n",
    "y_year = np.array(df_year[\"year_decade\"])\n",
    "\n",
    "X_train,y_train,X_test, y_test = create_train_test_sets(X_lyrics, y_year, percent_train=0.9)"
   ]
  },
  {
   "cell_type": "code",
   "execution_count": 71,
   "metadata": {},
   "outputs": [
    {
     "name": "stdout",
     "output_type": "stream",
     "text": [
      "Linear Regression Test Accuracy: 0.3967701438\n",
      "Linear Regression Train Accuracy: 0.4139116099\n"
     ]
    }
   ],
   "source": [
    "reg = LinearRegression().fit(X_train, y_train)\n",
    "y_predict = reg.predict(X_test)\n",
    "\n",
    "# Classification accuracy\n",
    "reg_test_accuracy = decade_accuracy(y_predict, y_test)\n",
    "reg_train_accuracy = decade_accuracy(reg.predict(X_train), y_train)\n",
    "print(\"Decade Method\")\n",
    "print(\"Linear Regression Test Accuracy: %.10f\" % reg_test_accuracy)\n",
    "print(\"Linear Regression Train Accuracy: %.10f\" % reg_train_accuracy)"
   ]
  },
  {
   "cell_type": "code",
   "execution_count": 72,
   "metadata": {},
   "outputs": [
    {
     "name": "stdout",
     "output_type": "stream",
     "text": [
      "Ridge Regression Test Accuracy: 0.3967701438\n",
      "Ridge Regression Train Accuracy: 0.4138418616\n"
     ]
    }
   ],
   "source": [
    "# try ridge regression\n",
    "ridge = Ridge(alpha=1.0).fit(X_train, y_train)\n",
    "y_ridge_predict = ridge.predict(X_test)\n",
    "\n",
    "# Classification accuracy\n",
    "ridge_test_accuracy = decade_accuracy(y_ridge_predict, y_test)\n",
    "ridge_train_accuracy = decade_accuracy(ridge.predict(X_train), y_train)\n",
    "print(\"Decade Method\")\n",
    "print(\"Ridge Regression Test Accuracy: %.10f\" % ridge_test_accuracy)\n",
    "print(\"Ridge Regression Train Accuracy: %.10f\" % ridge_train_accuracy)\n"
   ]
  },
  {
   "cell_type": "code",
   "execution_count": 73,
   "metadata": {},
   "outputs": [
    {
     "name": "stdout",
     "output_type": "stream",
     "text": [
      "Lasso Regression Test Accuracy: 0.3236133303\n",
      "Lasso Regression Train Accuracy: 0.3273603449\n"
     ]
    }
   ],
   "source": [
    "# Try Lasso for sparse coefficients\n",
    "lasso = Lasso(alpha=0.1).fit(X_train, y_train)\n",
    "y_lasso_predict = lasso.predict(X_test)\n",
    "\n",
    "# Classification accuracy\n",
    "lasso_test_accuracy = decade_accuracy(y_lasso_predict, y_test)\n",
    "lasso_train_accuracy = decade_accuracy(lasso.predict(X_train), y_train)\n",
    "print(\"Decade Method\")\n",
    "print(\"Lasso Regression Test Accuracy: %.10f\" % lasso_test_accuracy)\n",
    "print(\"Lasso Regression Train Accuracy: %.10f\" % lasso_train_accuracy)\n"
   ]
  },
  {
   "cell_type": "markdown",
   "metadata": {},
   "source": [
    "Linear Regression appears to do the best, though all three perform similarly. We can treat the resulting coefficients as an indicator of importance of each of the words."
   ]
  },
  {
   "cell_type": "code",
   "execution_count": 86,
   "metadata": {},
   "outputs": [
    {
     "name": "stdout",
     "output_type": "stream",
     "text": [
      "First k\n",
      "[3581 4632 4321 4862 4998 3774 1098 3966 3757 3890 4672 2029 4150 4284\n",
      " 4351 4593 4121 2255 4397 4742]\n",
      "Coef: -2.2453759540 \t word: evri\n",
      "Coef: -1.9399942575 \t word: richard\n",
      "Coef: -1.8038249137 \t word: chart\n",
      "Coef: -1.7986888418 \t word: ace\n",
      "Coef: -1.7887489026 \t word: gee\n",
      "Coef: -1.7523535324 \t word: untru\n",
      "Coef: -1.6538062036 \t word: instrument\n",
      "Coef: -1.5458699864 \t word: fellow\n",
      "Coef: -1.5304532511 \t word: peak\n",
      "Coef: -1.4867664455 \t word: plea\n",
      "Coef: -1.4813542708 \t word: vieux\n",
      "Coef: -1.4459829998 \t word: vocal\n",
      "Coef: -1.4101841628 \t word: gambl\n",
      "Coef: -1.3683219431 \t word: gloom\n",
      "Coef: -1.3572978012 \t word: suo\n",
      "Coef: -1.3562225959 \t word: joli\n",
      "Coef: -1.3303535542 \t word: lamp\n",
      "Coef: -1.3205910926 \t word: album\n",
      "Coef: -1.2498726575 \t word: pane\n",
      "Coef: -1.2354267611 \t word: neat\n",
      "Last k\n",
      "[4885 2434 2211 3396 3910 4217 4366 4891 4574 3833 2880 4567 4908 4479\n",
      " 4228 4191 4310 4777 4340    0]\n",
      "Coef: 0.9050577339 \t word: naiv\n",
      "Coef: 0.9147590819 \t word: unfold\n",
      "Coef: 0.9266846614 \t word: x4\n",
      "Coef: 0.9386227395 \t word: outro\n",
      "Coef: 0.9500007094 \t word: prefer\n",
      "Coef: 0.9710998949 \t word: photo\n",
      "Coef: 0.9865088464 \t word: sogno\n",
      "Coef: 1.0059495650 \t word: headlight\n",
      "Coef: 1.0151129023 \t word: eventu\n",
      "Coef: 1.0280730073 \t word: estribillo\n",
      "Coef: 1.0313724471 \t word: despertar\n",
      "Coef: 1.0530442617 \t word: effort\n",
      "Coef: 1.0591448212 \t word: entir\n",
      "Coef: 1.0631665127 \t word: ness\n",
      "Coef: 1.0700381229 \t word: guardo\n",
      "Coef: 1.1135439880 \t word: digniti\n",
      "Coef: 1.2170916195 \t word: makeup\n",
      "Coef: 1.3132206159 \t word: pouco\n",
      "Coef: 1.6200941440 \t word: feat\n",
      "Coef: 39457507928.1048812866 \t word:  \n"
     ]
    }
   ],
   "source": [
    "# Did not remove the first 20 words/features, so no offset\n",
    "\n",
    "imp = np.argsort(reg.coef_)\n",
    "k = 20\n",
    "first_k = imp[:k]\n",
    "\n",
    "\n",
    "print(\"First k\")\n",
    "print(first_k)\n",
    "for i in first_k:\n",
    "    print(\"Coef: %.10f \\t word: %s\" % (reg.coef_[i], word_list[i]))\n",
    "#####\n",
    "\n",
    "print(\"Last k\")\n",
    "last_k = imp[-k:]\n",
    "print(last_k)\n",
    "for i in last_k:\n",
    "    print(\"Coef: %.10f \\t word: %s\" % (reg.coef_[i], word_list[i]))\n",
    "#####"
   ]
  },
  {
   "cell_type": "code",
   "execution_count": 85,
   "metadata": {},
   "outputs": [
    {
     "name": "stdout",
     "output_type": "stream",
     "text": [
      "First k\n",
      "[3581 4632 4321 4862 4998 3774 1098 3966 3757 3890 4672 2029 4150 4284\n",
      " 4351 4593 4121 2255 4397 4742]\n",
      "Coef: -2.2453759540 \t word: evri\n",
      "Coef: -1.9399942575 \t word: richard\n",
      "Coef: -1.8038249137 \t word: chart\n",
      "Coef: -1.7986888418 \t word: ace\n",
      "Coef: -1.7887489026 \t word: gee\n",
      "Coef: -1.7523535324 \t word: untru\n",
      "Coef: -1.6538062036 \t word: instrument\n",
      "Coef: -1.5458699864 \t word: fellow\n",
      "Coef: -1.5304532511 \t word: peak\n",
      "Coef: -1.4867664455 \t word: plea\n",
      "Coef: -1.4813542708 \t word: vieux\n",
      "Coef: -1.4459829998 \t word: vocal\n",
      "Coef: -1.4101841628 \t word: gambl\n",
      "Coef: -1.3683219431 \t word: gloom\n",
      "Coef: -1.3572978012 \t word: suo\n",
      "Coef: -1.3562225959 \t word: joli\n",
      "Coef: -1.3303535542 \t word: lamp\n",
      "Coef: -1.3205910926 \t word: album\n",
      "Coef: -1.2498726575 \t word: pane\n",
      "Coef: -1.2354267611 \t word: neat\n",
      "Last k\n",
      "[3812 4885 2434 2211 3396 3910 4217 4366 4891 4574 3833 2880 4567 4908\n",
      " 4479 4228 4191 4310 4777 4340]\n",
      "Coef: 0.9038852089 \t word: olhar\n",
      "Coef: 0.9050577339 \t word: naiv\n",
      "Coef: 0.9147590819 \t word: unfold\n",
      "Coef: 0.9266846614 \t word: x4\n",
      "Coef: 0.9386227395 \t word: outro\n",
      "Coef: 0.9500007094 \t word: prefer\n",
      "Coef: 0.9710998949 \t word: photo\n",
      "Coef: 0.9865088464 \t word: sogno\n",
      "Coef: 1.0059495650 \t word: headlight\n",
      "Coef: 1.0151129023 \t word: eventu\n",
      "Coef: 1.0280730073 \t word: estribillo\n",
      "Coef: 1.0313724471 \t word: despertar\n",
      "Coef: 1.0530442617 \t word: effort\n",
      "Coef: 1.0591448212 \t word: entir\n",
      "Coef: 1.0631665127 \t word: ness\n",
      "Coef: 1.0700381229 \t word: guardo\n",
      "Coef: 1.1135439880 \t word: digniti\n",
      "Coef: 1.2170916195 \t word: makeup\n",
      "Coef: 1.3132206159 \t word: pouco\n",
      "Coef: 1.6200941440 \t word: feat\n"
     ]
    }
   ],
   "source": [
    "imp = np.argsort(ridge.coef_)\n",
    "\n",
    "k = 20\n",
    "first_k = imp[:k]\n",
    "\n",
    "\n",
    "print(\"First k\")\n",
    "print(first_k)\n",
    "for i in first_k:\n",
    "    print(\"Coef: %.10f \\t word: %s\" % (reg.coef_[i], word_list[i]))\n",
    "#####\n",
    "\n",
    "print(\"Last k\")\n",
    "print(last_k)\n",
    "last_k = imp[-k:]\n",
    "\n",
    "for i in last_k:\n",
    "    print(\"Coef: %.10f \\t word: %s\" % (reg.coef_[i], word_list[i]))\n",
    "#####"
   ]
  },
  {
   "cell_type": "code",
   "execution_count": 87,
   "metadata": {},
   "outputs": [
    {
     "name": "stdout",
     "output_type": "stream",
     "text": [
      "First k\n",
      "[245 120 285 380  73 225  27 396 593 274 444 215 106 271  85 506 638 367\n",
      "  60 599]\n",
      "Coef: -0.4258285730 \t word: blue\n",
      "Coef: -0.3442853714 \t word: well\n",
      "Coef: -0.3996929199 \t word: yes\n",
      "Coef: -0.3339662228 \t word: music\n",
      "Coef: -0.1696224639 \t word: babi\n",
      "Coef: -0.1835266080 \t word: old\n",
      "Coef: -0.1448876780 \t word: love\n",
      "Coef: -0.4055367491 \t word: fool\n",
      "Coef: -0.3978274244 \t word: honey\n",
      "Coef: -0.2148679478 \t word: sweet\n",
      "Coef: -0.2238330971 \t word: woman\n",
      "Coef: -0.1823493205 \t word: peopl\n",
      "Coef: -0.1476105818 \t word: man\n",
      "Coef: -0.3382398741 \t word: must\n",
      "Coef: -0.1333110157 \t word: night\n",
      "Coef: -0.4905685920 \t word: veri\n",
      "Coef: -0.2909829346 \t word: goin\n",
      "Coef: -0.2958106451 \t word: lone\n",
      "Coef: -0.0487766135 \t word: he\n",
      "Coef: -0.2755648964 \t word: mama\n",
      "Last k\n",
      "[4885 2434 2211 3396 3910 4217 4366 4891 4574 3833 2880 4567 4908 4479\n",
      " 4228 4191 4310 4777 4340    0]\n",
      "Coef: 0.1178449147 \t word: insid\n",
      "Coef: 0.0672635893 \t word: from\n",
      "Coef: 0.1173904468 \t word: wanna\n",
      "Coef: 0.1213738937 \t word: end\n",
      "Coef: 0.2599663656 \t word: beauti\n",
      "Coef: 0.0857417022 \t word: we\n",
      "Coef: 0.1633525790 \t word: into\n",
      "Coef: 0.0483079601 \t word: die\n",
      "Coef: 0.0960541202 \t word: god\n",
      "Coef: 0.0539816411 \t word: que\n",
      "Coef: 0.1347522247 \t word: us\n",
      "Coef: 0.1002494331 \t word: noth\n",
      "Coef: 0.1141193169 \t word: du\n",
      "Coef: 0.1518893381 \t word: fuck\n",
      "Coef: 0.1521741460 \t word: our\n",
      "Coef: 0.1262049348 \t word: fall\n",
      "Coef: 0.2227365953 \t word: these\n",
      "Coef: 0.1932992431 \t word: everyth\n",
      "Coef: 0.1928793082 \t word: this\n",
      "Coef: 0.2938077181 \t word: breath\n"
     ]
    }
   ],
   "source": [
    "imp = np.argsort(lasso.coef_)\n",
    "k = 20\n",
    "first_k = imp[:k]\n",
    "\n",
    "\n",
    "print(\"First k\")\n",
    "print(first_k)\n",
    "for i in first_k:\n",
    "    print(\"Coef: %.10f \\t word: %s\" % (reg.coef_[i], word_list[i]))\n",
    "#####\n",
    "\n",
    "print(\"Last k\")\n",
    "print(last_k)\n",
    "last_k = imp[-k:]\n",
    "\n",
    "for i in last_k:\n",
    "    print(\"Coef: %.10f \\t word: %s\" % (reg.coef_[i], word_list[i]))\n",
    "#####"
   ]
  },
  {
   "cell_type": "markdown",
   "metadata": {},
   "source": [
    "## By Window Method"
   ]
  },
  {
   "cell_type": "code",
   "execution_count": 11,
   "metadata": {},
   "outputs": [],
   "source": [
    "X_lyrics = np.array(df_year[\"lyrics_vector\"].values.tolist())\n",
    "N,D = X_lyrics.shape\n",
    "y_year = np.array(df_year[\"year\"])\n",
    "\n",
    "X_train,y_train,X_test, y_test = create_train_test_sets(X_lyrics, y_year, percent_train=0.9)"
   ]
  },
  {
   "cell_type": "code",
   "execution_count": 12,
   "metadata": {},
   "outputs": [
    {
     "name": "stdout",
     "output_type": "stream",
     "text": [
      "Window Method\n",
      "Linear Regression Test Accuracy: 0.4237046336\n",
      "Linear Regression Train Accuracy: 0.4361169235\n"
     ]
    }
   ],
   "source": [
    "reg = LinearRegression().fit(X_train, y_train)\n",
    "y_predict = reg.predict(X_test)\n",
    "\n",
    "# Classification accuracy\n",
    "reg_test_accuracy = year_accuracy_window(y_predict, y_test)\n",
    "reg_train_accuracy = year_accuracy_window(reg.predict(X_train), y_train)\n",
    "print(\"Window Method\")\n",
    "print(\"Linear Regression Test Accuracy: %.10f\" % reg_test_accuracy)\n",
    "print(\"Linear Regression Train Accuracy: %.10f\" % reg_train_accuracy)"
   ]
  },
  {
   "cell_type": "code",
   "execution_count": 13,
   "metadata": {},
   "outputs": [
    {
     "name": "stdout",
     "output_type": "stream",
     "text": [
      "Window Method\n",
      "Ridge Regression Test Accuracy: 0.4237046336\n",
      "Ridge Regression Train Accuracy: 0.4361296050\n"
     ]
    }
   ],
   "source": [
    "# try ridge regression\n",
    "ridge = Ridge(alpha=1.0).fit(X_train, y_train)\n",
    "y_ridge_predict = ridge.predict(X_test)\n",
    "\n",
    "# Classification accuracy\n",
    "ridge_test_accuracy = year_accuracy_window(y_ridge_predict, y_test)\n",
    "ridge_train_accuracy = year_accuracy_window(ridge.predict(X_train), y_train)\n",
    "print(\"Window Method\")\n",
    "print(\"Ridge Regression Test Accuracy: %.10f\" % ridge_test_accuracy)\n",
    "print(\"Ridge Regression Train Accuracy: %.10f\" % ridge_train_accuracy)"
   ]
  },
  {
   "cell_type": "code",
   "execution_count": 14,
   "metadata": {},
   "outputs": [
    {
     "name": "stdout",
     "output_type": "stream",
     "text": [
      "Window Method\n",
      "Lasso Regression Test Accuracy: 0.3877539375\n",
      "Lasso Regression Train Accuracy: 0.3872867922\n"
     ]
    }
   ],
   "source": [
    "# Try Lasso for sparse coefficients\n",
    "lasso = Lasso(alpha=0.1).fit(X_train, y_train)\n",
    "y_lasso_predict = lasso.predict(X_test)\n",
    "\n",
    "# Classification accuracy\n",
    "lasso_test_accuracy = year_accuracy_window(y_lasso_predict, y_test)\n",
    "lasso_train_accuracy = year_accuracy_window(lasso.predict(X_train), y_train)\n",
    "print(\"Window Method\")\n",
    "print(\"Lasso Regression Test Accuracy: %.10f\" % lasso_test_accuracy)\n",
    "print(\"Lasso Regression Train Accuracy: %.10f\" % lasso_train_accuracy)"
   ]
  },
  {
   "cell_type": "code",
   "execution_count": 15,
   "metadata": {},
   "outputs": [
    {
     "name": "stdout",
     "output_type": "stream",
     "text": [
      "First k\n",
      "[3581 4632 1098 4321 4862 3774 4998 3757 2255 4351 2029 3890 3966 4121\n",
      " 4672 4593 4284 4580 4742 4485]\n",
      "Coef: -2.4143913821 \t word: evri\n",
      "Coef: -2.1400109303 \t word: richard\n",
      "Coef: -1.9375839161 \t word: instrument\n",
      "Coef: -1.9128065631 \t word: chart\n",
      "Coef: -1.7519975024 \t word: ace\n",
      "Coef: -1.7277160385 \t word: untru\n",
      "Coef: -1.7119661231 \t word: gee\n",
      "Coef: -1.4935066391 \t word: peak\n",
      "Coef: -1.4672365895 \t word: album\n",
      "Coef: -1.4655479867 \t word: suo\n",
      "Coef: -1.4473518186 \t word: vocal\n",
      "Coef: -1.4381624407 \t word: plea\n",
      "Coef: -1.4350658230 \t word: fellow\n",
      "Coef: -1.4052530783 \t word: lamp\n",
      "Coef: -1.3501483799 \t word: vieux\n",
      "Coef: -1.3292005262 \t word: joli\n",
      "Coef: -1.3054992475 \t word: gloom\n",
      "Coef: -1.2732558616 \t word: daß\n",
      "Coef: -1.2581822166 \t word: neat\n",
      "Coef: -1.2473175300 \t word: robin\n",
      "Last k\n",
      "[2943 4342 2211 4974 4864 4567 4228 4765 4217 4785 4615 4310 4191 4366\n",
      " 4908 3833 4479 4777 4340    0]\n",
      "Coef: 0.9418746311 \t word: choir\n",
      "Coef: 0.9478514304 \t word: tryna\n",
      "Coef: 0.9524897446 \t word: x4\n",
      "Coef: 0.9536392512 \t word: observ\n",
      "Coef: 0.9564824842 \t word: puro\n",
      "Coef: 0.9621151747 \t word: effort\n",
      "Coef: 0.9658357149 \t word: guardo\n",
      "Coef: 1.0061055040 \t word: absenc\n",
      "Coef: 1.0128607257 \t word: photo\n",
      "Coef: 1.0292008972 \t word: forg\n",
      "Coef: 1.0577837638 \t word: afar\n",
      "Coef: 1.0736416972 \t word: makeup\n",
      "Coef: 1.1073039892 \t word: digniti\n",
      "Coef: 1.1119649988 \t word: sogno\n",
      "Coef: 1.1297702779 \t word: entir\n",
      "Coef: 1.1383610059 \t word: estribillo\n",
      "Coef: 1.2297674764 \t word: ness\n",
      "Coef: 1.4229537272 \t word: pouco\n",
      "Coef: 1.6543640326 \t word: feat\n",
      "Coef: 147779837198.0511779785 \t word:  \n"
     ]
    }
   ],
   "source": [
    "# Linear\n",
    "imp = np.argsort(reg.coef_)\n",
    "k = 20\n",
    "first_k = imp[:k]\n",
    "\n",
    "\n",
    "print(\"First k\")\n",
    "print(first_k)\n",
    "for i in first_k:\n",
    "    print(\"Coef: %.10f \\t word: %s\" % (reg.coef_[i], word_list[i]))\n",
    "#####\n",
    "\n",
    "print(\"Last k\")\n",
    "last_k = imp[-k:]\n",
    "print(last_k)\n",
    "for i in last_k:\n",
    "    print(\"Coef: %.10f \\t word: %s\" % (reg.coef_[i], word_list[i]))\n",
    "#####"
   ]
  },
  {
   "cell_type": "code",
   "execution_count": 16,
   "metadata": {},
   "outputs": [
    {
     "name": "stdout",
     "output_type": "stream",
     "text": [
      "First k\n",
      "[3581 4632 1098 4321 4862 3774 4998 3757 2255 4351 2029 3890 3966 4121\n",
      " 4672 4593 4284 4580 4742 4485]\n",
      "Coef: -2.4143913821 \t word: evri\n",
      "Coef: -2.1400109303 \t word: richard\n",
      "Coef: -1.9375839161 \t word: instrument\n",
      "Coef: -1.9128065631 \t word: chart\n",
      "Coef: -1.7519975024 \t word: ace\n",
      "Coef: -1.7277160385 \t word: untru\n",
      "Coef: -1.7119661231 \t word: gee\n",
      "Coef: -1.4935066391 \t word: peak\n",
      "Coef: -1.4672365895 \t word: album\n",
      "Coef: -1.4655479867 \t word: suo\n",
      "Coef: -1.4473518186 \t word: vocal\n",
      "Coef: -1.4381624407 \t word: plea\n",
      "Coef: -1.4350658230 \t word: fellow\n",
      "Coef: -1.4052530783 \t word: lamp\n",
      "Coef: -1.3501483799 \t word: vieux\n",
      "Coef: -1.3292005262 \t word: joli\n",
      "Coef: -1.3054992475 \t word: gloom\n",
      "Coef: -1.2732558616 \t word: daß\n",
      "Coef: -1.2581822166 \t word: neat\n",
      "Coef: -1.2473175300 \t word: robin\n",
      "Last k\n",
      "[2822 2943 4342 2211 4974 4864 4567 4228 4765 4217 4785 4615 4310 4191\n",
      " 4366 4908 3833 4479 4777 4340]\n",
      "Coef: 0.9411100708 \t word: collid\n",
      "Coef: 0.9418746311 \t word: choir\n",
      "Coef: 0.9478514304 \t word: tryna\n",
      "Coef: 0.9524897446 \t word: x4\n",
      "Coef: 0.9536392512 \t word: observ\n",
      "Coef: 0.9564824842 \t word: puro\n",
      "Coef: 0.9621151747 \t word: effort\n",
      "Coef: 0.9658357149 \t word: guardo\n",
      "Coef: 1.0061055040 \t word: absenc\n",
      "Coef: 1.0128607257 \t word: photo\n",
      "Coef: 1.0292008972 \t word: forg\n",
      "Coef: 1.0577837638 \t word: afar\n",
      "Coef: 1.0736416972 \t word: makeup\n",
      "Coef: 1.1073039892 \t word: digniti\n",
      "Coef: 1.1119649988 \t word: sogno\n",
      "Coef: 1.1297702779 \t word: entir\n",
      "Coef: 1.1383610059 \t word: estribillo\n",
      "Coef: 1.2297674764 \t word: ness\n",
      "Coef: 1.4229537272 \t word: pouco\n",
      "Coef: 1.6543640326 \t word: feat\n"
     ]
    }
   ],
   "source": [
    "# Ridge\n",
    "imp = np.argsort(ridge.coef_)\n",
    "k = 20\n",
    "first_k = imp[:k]\n",
    "\n",
    "\n",
    "print(\"First k\")\n",
    "print(first_k)\n",
    "for i in first_k:\n",
    "    print(\"Coef: %.10f \\t word: %s\" % (reg.coef_[i], word_list[i]))\n",
    "#####\n",
    "\n",
    "print(\"Last k\")\n",
    "last_k = imp[-k:]\n",
    "print(last_k)\n",
    "for i in last_k:\n",
    "    print(\"Coef: %.10f \\t word: %s\" % (reg.coef_[i], word_list[i]))\n",
    "#####"
   ]
  },
  {
   "cell_type": "code",
   "execution_count": 17,
   "metadata": {},
   "outputs": [
    {
     "name": "stdout",
     "output_type": "stream",
     "text": [
      "First k\n",
      "[245 120 285 380  73 225 396  27 593 274 444 271 215 106 599 506 367  85\n",
      " 638  60]\n",
      "Coef: -0.4290796149 \t word: blue\n",
      "Coef: -0.3437646452 \t word: well\n",
      "Coef: -0.4104220844 \t word: yes\n",
      "Coef: -0.3242717027 \t word: music\n",
      "Coef: -0.1726901462 \t word: babi\n",
      "Coef: -0.2003903931 \t word: old\n",
      "Coef: -0.4231587144 \t word: fool\n",
      "Coef: -0.1448604989 \t word: love\n",
      "Coef: -0.4043826581 \t word: honey\n",
      "Coef: -0.2190345835 \t word: sweet\n",
      "Coef: -0.2263231544 \t word: woman\n",
      "Coef: -0.3652684379 \t word: must\n",
      "Coef: -0.1848290601 \t word: peopl\n",
      "Coef: -0.1518522814 \t word: man\n",
      "Coef: -0.2918013121 \t word: mama\n",
      "Coef: -0.4922343003 \t word: veri\n",
      "Coef: -0.3100662186 \t word: lone\n",
      "Coef: -0.1311665864 \t word: night\n",
      "Coef: -0.2877288351 \t word: goin\n",
      "Coef: -0.0468782070 \t word: he\n",
      "Last k\n",
      "[346  14  59 130 190  97  19  38 150 164 261 125 142 181 132  87 169 192\n",
      "  30 283]\n",
      "Coef: 0.2446613974 \t word: beauti\n",
      "Coef: 0.0544904881 \t word: your\n",
      "Coef: 0.0737416349 \t word: from\n",
      "Coef: 0.1200102258 \t word: wanna\n",
      "Coef: 0.0906206590 \t word: god\n",
      "Coef: 0.0521113476 \t word: die\n",
      "Coef: 0.0998437626 \t word: we\n",
      "Coef: 0.0623384341 \t word: que\n",
      "Coef: 0.1771501203 \t word: into\n",
      "Coef: 0.1480373206 \t word: end\n",
      "Coef: 0.1539339039 \t word: fuck\n",
      "Coef: 0.1438261825 \t word: us\n",
      "Coef: 0.1173100849 \t word: noth\n",
      "Coef: 0.1235795046 \t word: du\n",
      "Coef: 0.1207414493 \t word: fall\n",
      "Coef: 0.1651902115 \t word: our\n",
      "Coef: 0.1985176383 \t word: everyth\n",
      "Coef: 0.2534758901 \t word: these\n",
      "Coef: 0.2032058760 \t word: this\n",
      "Coef: 0.3120493217 \t word: breath\n"
     ]
    }
   ],
   "source": [
    "# Lasso\n",
    "imp = np.argsort(lasso.coef_)\n",
    "k = 20\n",
    "first_k = imp[:k]\n",
    "\n",
    "\n",
    "print(\"First k\")\n",
    "print(first_k)\n",
    "for i in first_k:\n",
    "    print(\"Coef: %.10f \\t word: %s\" % (reg.coef_[i], word_list[i]))\n",
    "#####\n",
    "\n",
    "print(\"Last k\")\n",
    "last_k = imp[-k:]\n",
    "print(last_k)\n",
    "for i in last_k:\n",
    "    print(\"Coef: %.10f \\t word: %s\" % (reg.coef_[i], word_list[i]))\n",
    "#####"
   ]
  },
  {
   "cell_type": "markdown",
   "metadata": {},
   "source": [
    "## PCA Linear Regression\n",
    "\n",
    "We expect lower testing accuracy since PCA did not recover the total amount of variance in the data."
   ]
  },
  {
   "cell_type": "code",
   "execution_count": 47,
   "metadata": {},
   "outputs": [],
   "source": [
    "from sklearn import linear_model"
   ]
  },
  {
   "cell_type": "code",
   "execution_count": 48,
   "metadata": {},
   "outputs": [
    {
     "name": "stdout",
     "output_type": "stream",
     "text": [
      "(175234, 10)\n"
     ]
    }
   ],
   "source": [
    "X_pca_year_lyrics = pd.read_pickle(\"pca_year.pkl\").to_numpy()\n",
    "N,K = X_pca_year_lyrics.shape # N datapoints, K PC's\n",
    "print(X_pca_year_lyrics.shape)"
   ]
  },
  {
   "cell_type": "markdown",
   "metadata": {},
   "source": [
    "### By Decades"
   ]
  },
  {
   "cell_type": "code",
   "execution_count": 44,
   "metadata": {},
   "outputs": [],
   "source": [
    "train_percent = 0.9\n",
    "y_decade = np.array(df_year[\"year_decade\"])\n"
   ]
  },
  {
   "cell_type": "code",
   "execution_count": 56,
   "metadata": {},
   "outputs": [
    {
     "name": "stdout",
     "output_type": "stream",
     "text": [
      "Linear Regression Test Average Performance: 0.2680529677\n",
      "Linear Regression Train Average Performance: 0.2682077167\n",
      "Ridge Regression Test Average Performance: 0.2680586745\n",
      "Ridge Regression Train Average Performance: 0.2682070826\n",
      "Lasso Regression Test Average Performance: 0.2670714202\n",
      "Lasso Regression Train Average Performance: 0.2671310612\n"
     ]
    }
   ],
   "source": [
    "lin_test_correct, lin_train_correct = cross_validation(X_pca_year_lyrics, y_decade,10, linear_model.LinearRegression(), decade_accuracy)\n",
    "print(\"Linear Regression Test Average Performance: %.10f\" % lin_test_correct)\n",
    "print(\"Linear Regression Train Average Performance: %.10f\" % lin_train_correct)\n",
    "\n",
    "\n",
    "# Best results by adjusting alpha\n",
    "ridge_test_correct = 0\n",
    "ridge_train_correct = 0\n",
    "for i in range(1, 1000, 10):\n",
    "    test_correct, train_correct = cross_validation(X_pca_year_lyrics, y_decade,10, linear_model.Ridge(alpha=i), decade_accuracy)\n",
    "    if test_correct > ridge_test_correct: \n",
    "        ridge_test_correct = test_correct\n",
    "        ridge_train_correct = train_correct\n",
    "    #####\n",
    "#####\n",
    "print(\"\\nRidge Regression Test Average Performance: %.10f\" % ridge_test_correct)\n",
    "print(\"Ridge Regression Train Average Performance: %.10f\" % ridge_train_correct)\n",
    "\n",
    "# Best results by adjusting alpha\n",
    "lasso_test_correct = 0\n",
    "lasso_train_correct = 0\n",
    "lamb = np.arange(0.1, 2, 0.1)\n",
    "for i in range(len(lamb)):\n",
    "    test_correct, train_correct = cross_validation(X_pca_year_lyrics, y_decade,10, linear_model.Lasso(alpha=lamb[i]), decade_accuracy)\n",
    "    if test_correct > lasso_test_correct: \n",
    "        lasso_test_correct = test_correct\n",
    "        lasso_train_correct = train_correct\n",
    "    #####\n",
    "print(\"\\nLasso Regression Test Average Performance: %.10f\" % lasso_test_correct)\n",
    "print(\"Lasso Regression Train Average Performance: %.10f\" % lasso_train_correct)\n",
    "\n",
    "\n"
   ]
  },
  {
   "cell_type": "markdown",
   "metadata": {},
   "source": [
    "Ridge and Lasso regression did not show a significant improvement, and the training and testing accuracy is about the same, which indicates that the these models are not overfitting."
   ]
  },
  {
   "cell_type": "markdown",
   "metadata": {},
   "source": [
    "### By raw year and window accuracy measurement.\n",
    "\n",
    "Instead of strict decades, we predict the year. It is correct if it is within 5 years of the actual release date."
   ]
  },
  {
   "cell_type": "code",
   "execution_count": 60,
   "metadata": {},
   "outputs": [
    {
     "name": "stdout",
     "output_type": "stream",
     "text": [
      "Linear Regression Test Average Performance: 0.3588915168\n",
      "Linear Regression Train Average Performance: 0.3588262299\n",
      "\n",
      "Ridge Regression Test Average Performance: 0.3588972233\n",
      "Ridge Regression Train Average Performance: 0.3588255958\n",
      "\n",
      "Lasso Regression Test Average Performance: 0.3585148755\n",
      "Lasso Regression Train Average Performance: 0.3585504084\n"
     ]
    }
   ],
   "source": [
    "y_year = np.array(df_year[\"year\"])\n",
    "\n",
    "lin_test_correct, lin_train_correct = cross_validation(X_pca_year_lyrics, y_year,10, linear_model.LinearRegression(), year_accuracy_window)\n",
    "print(\"Linear Regression Test Average Performance: %.10f\" % lin_test_correct)\n",
    "print(\"Linear Regression Train Average Performance: %.10f\" % lin_train_correct)\n",
    "\n",
    "\n",
    "# Best results by adjusting alpha\n",
    "ridge_test_correct = 0\n",
    "ridge_train_correct = 0\n",
    "for i in range(1, 1000, 50):\n",
    "    test_correct, train_correct  = cross_validation(X_pca_year_lyrics, y_year,10, linear_model.Ridge(alpha=i), year_accuracy_window)\n",
    "    if test_correct > ridge_test_correct: \n",
    "        ridge_test_correct = test_correct\n",
    "        ridge_train_correct = train_correct\n",
    "    #####\n",
    "print(\"\\nRidge Regression Test Average Performance: %.10f\" % ridge_test_correct)\n",
    "print(\"Ridge Regression Train Average Performance: %.10f\" % ridge_train_correct)\n",
    "\n",
    "\n",
    "# Best results by adjusting alpha\n",
    "lasso_test_correct = 0\n",
    "lasso_train_correct = 0\n",
    "lamb = np.arange(0.1, 2, 0.1)\n",
    "for i in range(len(lamb)):\n",
    "    test_correct, train_correct = cross_validation(X_pca_year_lyrics, y_year,10, linear_model.Lasso(alpha=lamb[i]), year_accuracy_window)\n",
    "    if test_correct > lasso_test_correct: \n",
    "        lasso_test_correct = test_correct\n",
    "        lasso_train_correct = train_correct\n",
    "    #####\n",
    "print(\"\\nLasso Regression Test Average Performance: %.10f\" % lasso_test_correct)\n",
    "print(\"Lasso Regression Train Average Performance: %.10f\" % lasso_train_correct)"
   ]
  },
  {
   "cell_type": "markdown",
   "metadata": {},
   "source": [
    "The above results are based on running linear regression on the first 10 PC's from the lyrics. Evaluating by strict decades performed worse with about 25% error of predicting a year in the same decade as the song was released. Linear Regression performed better when checking if the year was within 5 years of the release year with 35% accuracy. \n",
    "\n",
    "For both kinds of accuracy measurements, Ridge and Lasso can do marginally better than regular linear regression with the right parameters. This is is evident, as linear regression's training and testing errors are very similar, so it is not overfitting.\n",
    "\n",
    "The linear regression model ends up evaluating to only predict 1990 or 2000. This is not completely surprising, as least 50% of the data with decades information falls in the 1990s - 2000 range. So linear regression just picked a line that reflected the \"weighted average\" of the years it could pick from. So in this case, just knowing what the distribution of the years provided better information to predict in a linear regression model.\n",
    "\n",
    "We could try using more PC's, but the amount of variance the last few PC's contribute is only 1%. It will take a large number of PC's to fully recover the variance, and at this point we should just see how accurate linear regression is on the full raw dataset. "
   ]
  },
  {
   "cell_type": "markdown",
   "metadata": {},
   "source": [
    "# Random Forest"
   ]
  },
  {
   "cell_type": "code",
   "execution_count": 10,
   "metadata": {},
   "outputs": [],
   "source": [
    "X_lyrics = np.array(df_year[\"lyrics_vector\"].values.tolist())\n",
    "y_year = np.array(df_year[\"year\"])\n",
    "# X_train,y_train,X_test, y_test = create_train_test_sets(X_lyrics, y_year, percent_train=0.9)\n",
    "\n"
   ]
  },
  {
   "cell_type": "code",
   "execution_count": 14,
   "metadata": {},
   "outputs": [],
   "source": [
    "offset = 20 # Ignoring the first 20 - 1 = 19 words, which are stop words\n",
    "\n",
    "\n",
    "X_lyrics_remove_common_words = X_lyrics[:,offset:]\n",
    "\n",
    "X_train,y_train,X_test, y_test = create_train_test_sets(X_lyrics_remove_common_words, y_year, percent_train=0.9)\n",
    "min_depth = 2\n",
    "max_depth = 50\n",
    "\n",
    "depths = range(min_depth, max_depth, 2)\n",
    "\n",
    "test_accuracies = np.zeros(len(depths))\n",
    "train_accuracies = np.zeros(len(depths))\n",
    "\n",
    "clf_models = list()\n"
   ]
  },
  {
   "cell_type": "code",
   "execution_count": 15,
   "metadata": {},
   "outputs": [
    {
     "name": "stdout",
     "output_type": "stream",
     "text": [
      "Running with Max Depth: 2\n",
      "Running with Max Depth: 4\n",
      "Running with Max Depth: 6\n",
      "Running with Max Depth: 8\n",
      "Running with Max Depth: 10\n",
      "Running with Max Depth: 12\n",
      "Running with Max Depth: 14\n",
      "Running with Max Depth: 16\n",
      "Running with Max Depth: 18\n",
      "Running with Max Depth: 20\n",
      "Running with Max Depth: 22\n",
      "Running with Max Depth: 24\n",
      "Running with Max Depth: 26\n",
      "Running with Max Depth: 28\n",
      "Running with Max Depth: 30\n",
      "Running with Max Depth: 32\n",
      "Running with Max Depth: 34\n",
      "Running with Max Depth: 36\n",
      "Running with Max Depth: 38\n",
      "Running with Max Depth: 40\n",
      "Running with Max Depth: 42\n",
      "Running with Max Depth: 44\n",
      "Running with Max Depth: 46\n",
      "Running with Max Depth: 48\n",
      "Done!\n"
     ]
    }
   ],
   "source": [
    "for i in range(len(depths)):\n",
    "    print(\"Running with Max Depth: %d\" % depths[i])\n",
    "\n",
    "    clf = RandomForestClassifier(max_depth=depths[i], random_state=0)\n",
    "    clf.fit(X_train, y_train)\n",
    "    \n",
    "    y_test_predict = clf.predict(X_test)\n",
    "    y_train_predict = clf.predict(X_train)\n",
    "\n",
    "    test_accuracies[i] = year_accuracy_window(y_test_predict, y_test)\n",
    "    train_accuracies[i] = year_accuracy_window(y_train_predict, y_train)\n",
    "    \n",
    "    clf_models.append(clf)   \n",
    "#####\n",
    "\n",
    "print(\"Done!\")"
   ]
  },
  {
   "cell_type": "code",
   "execution_count": 60,
   "metadata": {},
   "outputs": [
    {
     "data": {
      "text/plain": [
       "<matplotlib.legend.Legend at 0x1a235ac0b8>"
      ]
     },
     "execution_count": 60,
     "metadata": {},
     "output_type": "execute_result"
    },
    {
     "data": {
      "image/png": "[encoded data removed]",
      "text/plain": [
       "<Figure size 432x288 with 1 Axes>"
      ]
     },
     "metadata": {
      "needs_background": "light"
     },
     "output_type": "display_data"
    }
   ],
   "source": [
    "# print(test_accuracies)\n",
    "fig, ax = plt.subplots()\n",
    "ax.plot(depths, test_accuracies, label=\"test_accuracy\")\n",
    "ax.plot(depths, train_accuracies, label=\"train_accuracy\")\n",
    "ax.set_ylabel('Accuracy (Window 5 years)')\n",
    "ax.set_xlabel('Max Depth')\n",
    "ax.legend(bbox_to_anchor=(1.05, 1), loc='upper left', borderaxespad=0.)\n"
   ]
  },
  {
   "cell_type": "code",
   "execution_count": 2,
   "metadata": {},
   "outputs": [
    {
     "ename": "NameError",
     "evalue": "name 'depths' is not defined",
     "output_type": "error",
     "traceback": [
      "\u001b[0;31m---------------------------------------------------------------------------\u001b[0m",
      "\u001b[0;31mNameError\u001b[0m                                 Traceback (most recent call last)",
      "\u001b[0;32m<ipython-input-2-232bb2e281d5>\u001b[0m in \u001b[0;36m<module>\u001b[0;34m()\u001b[0m\n\u001b[1;32m      2\u001b[0m \u001b[0;34m\u001b[0m\u001b[0m\n\u001b[1;32m      3\u001b[0m \u001b[0mfh\u001b[0m\u001b[0;34m.\u001b[0m\u001b[0mwrite\u001b[0m\u001b[0;34m(\u001b[0m\u001b[0;34m\"depth\\ttest\\ttrain\"\u001b[0m\u001b[0;34m)\u001b[0m\u001b[0;34m\u001b[0m\u001b[0m\n\u001b[0;32m----> 4\u001b[0;31m \u001b[0;32mfor\u001b[0m \u001b[0mi\u001b[0m \u001b[0;32min\u001b[0m \u001b[0mrange\u001b[0m\u001b[0;34m(\u001b[0m\u001b[0mlen\u001b[0m\u001b[0;34m(\u001b[0m\u001b[0mdepths\u001b[0m\u001b[0;34m)\u001b[0m\u001b[0;34m)\u001b[0m\u001b[0;34m:\u001b[0m\u001b[0;34m\u001b[0m\u001b[0m\n\u001b[0m\u001b[1;32m      5\u001b[0m     \u001b[0mfh\u001b[0m\u001b[0;34m.\u001b[0m\u001b[0mwrite\u001b[0m\u001b[0;34m(\u001b[0m\u001b[0;34m\"%d\\t%.10f\\t%.10f\"\u001b[0m \u001b[0;34m%\u001b[0m \u001b[0;34m(\u001b[0m\u001b[0mdepths\u001b[0m\u001b[0;34m[\u001b[0m\u001b[0mi\u001b[0m\u001b[0;34m]\u001b[0m\u001b[0;34m,\u001b[0m \u001b[0mtest_accuracies\u001b[0m\u001b[0;34m[\u001b[0m\u001b[0mi\u001b[0m\u001b[0;34m]\u001b[0m\u001b[0;34m,\u001b[0m \u001b[0mtrain_accuracies\u001b[0m\u001b[0;34m[\u001b[0m\u001b[0mi\u001b[0m\u001b[0;34m]\u001b[0m\u001b[0;34m)\u001b[0m\u001b[0;34m)\u001b[0m\u001b[0;34m\u001b[0m\u001b[0m\n\u001b[1;32m      6\u001b[0m \u001b[0;31m#####\u001b[0m\u001b[0;34m\u001b[0m\u001b[0;34m\u001b[0m\u001b[0m\n",
      "\u001b[0;31mNameError\u001b[0m: name 'depths' is not defined"
     ]
    }
   ],
   "source": [
    "fh = open(\"year_RF_accuracies.txt\", \"w\")\n",
    "\n",
    "fh.write(\"depth\\ttest\\ttrain\")\n",
    "for i in range(len(depths)):\n",
    "    fh.write(\"%d\\t%.10f\\t%.10f\" % (depths[i], test_accuracies[i], train_accuracies[i]))\n",
    "#####\n",
    "\n",
    "fh.close()"
   ]
  },
  {
   "cell_type": "code",
   "execution_count": 49,
   "metadata": {},
   "outputs": [],
   "source": [
    "def show_imp_words(clf, k):\n",
    "    imp = clf.feature_importances_\n",
    "\n",
    "    k = 30\n",
    "    top_k = imp.argsort()[-k:][::-1]\n",
    "\n",
    "    best_clf_words = list()\n",
    "    imps = list()\n",
    "    for i in top_k:\n",
    "        imps.append(imp[i])\n",
    "        best_clf_words.append(word_list[i + offset])\n",
    "    #####\n",
    "    \n",
    "    return best_clf_words, imps\n",
    "\n",
    "\n"
   ]
  },
  {
   "cell_type": "code",
   "execution_count": 59,
   "metadata": {},
   "outputs": [
    {
     "name": "stdout",
     "output_type": "stream",
     "text": [
      "Depth 46\n"
     ]
    },
    {
     "data": {
      "image/png": "[encoded data removed]",
      "text/plain": [
       "<Figure size 792x288 with 1 Axes>"
      ]
     },
     "metadata": {
      "needs_background": "light"
     },
     "output_type": "display_data"
    }
   ],
   "source": [
    "# Max training score\n",
    "\n",
    "best_test_idx = np.argmax(test_accuracies)\n",
    "print(\"Depth %d\" % depths[best_test_idx])\n",
    "words, imps = show_imp_words(clf_models[best_test_idx], 20)\n",
    "\n",
    "fig = plt.figure(figsize=(11, 4))\n",
    "ax = fig.add_subplot(111)\n",
    "ax.bar(words, imps, width=0.8, bottom=None, align='center', data=None)\n",
    "ax.set_ylabel('Importance')\n",
    "x=ax.set_xticklabels( labels=words, rotation=45 )\n"
   ]
  },
  {
   "cell_type": "code",
   "execution_count": 58,
   "metadata": {},
   "outputs": [
    {
     "name": "stdout",
     "output_type": "stream",
     "text": [
      "Depth 14\n"
     ]
    },
    {
     "data": {
      "image/png": "[encoded data removed]",
      "text/plain": [
       "<Figure size 792x288 with 1 Axes>"
      ]
     },
     "metadata": {
      "needs_background": "light"
     },
     "output_type": "display_data"
    }
   ],
   "source": [
    "# Most similar training and testing accuracy\n",
    "\n",
    "most_sim_idx = np.argmin(np.absolute(test_accuracies - train_accuracies))\n",
    "print(\"Depth %d\" % depths[most_sim_idx])\n",
    "sim_words, sim_imps = show_imp_words(clf_models[most_sim_idx], 20)\n",
    "\n",
    "fig = plt.figure(figsize=(11, 4))\n",
    "ax = fig.add_subplot(111)\n",
    "ax.bar(sim_words, sim_imps, width=0.8, bottom=None, align='center', data=None)\n",
    "ax.set_ylabel('Importance')\n",
    "x=ax.set_xticklabels( labels=sim_words, rotation=45 )"
   ]
  },
  {
   "cell_type": "code",
   "execution_count": 88,
   "metadata": {},
   "outputs": [
    {
     "name": "stdout",
     "output_type": "stream",
     "text": [
      "Depth 12\n"
     ]
    },
    {
     "data": {
      "image/png": "[encoded data removed]",
      "text/plain": [
       "<Figure size 792x288 with 1 Axes>"
      ]
     },
     "metadata": {
      "needs_background": "light"
     },
     "output_type": "display_data"
    }
   ],
   "source": [
    "# When do training and testing start to diverge?\n",
    "\n",
    "idx = 5 \n",
    "print(\"Depth %d\" % depths[idx])\n",
    "sim_words, sim_imps = show_imp_words(clf_models[idx], 20)\n",
    "\n",
    "fig = plt.figure(figsize=(11, 4))\n",
    "ax = fig.add_subplot(111)\n",
    "ax.bar(sim_words, sim_imps, width=0.8, bottom=None, align='center', data=None)\n",
    "ax.set_ylabel('Importance')\n",
    "x=ax.set_xticklabels( labels=sim_words, rotation=45 )"
   ]
  },
  {
   "cell_type": "code",
   "execution_count": null,
   "metadata": {},
   "outputs": [],
   "source": []
  }
 ],
 "metadata": {
  "accelerator": "TPU",
  "colab": {
   "collapsed_sections": [],
   "name": "HW3_student_v4.ipynb",
   "provenance": []
  },
  "kernelspec": {
   "display_name": "Python 3",
   "language": "python",
   "name": "python3"
  },
  "language_info": {
   "codemirror_mode": {
    "name": "ipython",
    "version": 3
   },
   "file_extension": ".py",
   "mimetype": "text/x-python",
   "name": "python",
   "nbconvert_exporter": "python",
   "pygments_lexer": "ipython3",
   "version": "3.7.6"
  },
  "latex_envs": {
   "LaTeX_envs_menu_present": true,
   "autocomplete": true,
   "bibliofile": "biblio.bib",
   "cite_by": "apalike",
   "current_citInitial": 1,
   "eqLabelWithNumbers": true,
   "eqNumInitial": 1,
   "hotkeys": {
    "equation": "Ctrl-E",
    "itemize": "Ctrl-I"
   },
   "labels_anchors": false,
   "latex_user_defs": false,
   "report_style_numbering": false,
   "user_envs_cfg": false
  }
 },
 "nbformat": 4,
 "nbformat_minor": 1
}
